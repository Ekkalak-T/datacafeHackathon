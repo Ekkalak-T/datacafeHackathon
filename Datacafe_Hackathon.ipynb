{
 "cells": [
  {
   "attachments": {},
   "cell_type": "markdown",
   "metadata": {},
   "source": [
    "# Predicting mobile app user churn\n",
    "\n",
    "\n",
    "\n",
    "## Introduction\n",
    "\n",
    "This project was created when I attended a hackathon event which was held in Bangkok. The main objective is to find a way to increase daily active users(DAU) on mobile application. \n",
    "\n",
    "Here is a quick overview what the application can do.\n",
    "- It is the application for fans to follow their favorite artists. They can see feed of artists which is retrieved from facebook and instagram. \n",
    "\n",
    "\n",
    "- Users are challenged by collecting exp and coins. They can use them for exchanging rewards like a concert ticket and an exclusive video for the top fans.\n",
    "\n",
    "\n",
    "- Exp and coins will be given when \n",
    "  - Users participate in the feed such as LIKE or COMMENT\n",
    "  - Users win any missions by answering quizzes\n",
    "\n",
    "\n",
    "## Data Explanation\n",
    "Dataset is given in CSV format according to relational database. So we need to merge or join some dataframes to create a final useful dataset. Provided dataset can be briefly summarized into categories below.\n",
    "\n",
    "### Dynamic data\n",
    "- User activities\n",
    "\n",
    "### Static data\n",
    "- User information\n",
    "- Feed information\n",
    "- Artist information\n",
    "- Mission information\n",
    "\n",
    "From the business objective, I've decided to use <b>churn prediction</b> which identifies and targets users who are likely to stop using application. These predictive capabilities lead to new insights into user behavior. Business users can then build new engagement strategies to the right customers.\n",
    "\n",
    "Churn prediction usually depends on user activities or behavior. So we will primarily focus on dynamic data. Here is a data dictionary for user activities table. We will need to extract and create new features from this. Features need to be selected carefully as they need to be meaningful and having an influence on model. \n",
    "\n",
    "- userid\tvarchar(255)\t\t\n",
    "- action\tvarchar(255)\t\t\n",
    "- objecttype\tvarchar(255)\t\t\n",
    "- objectid\tvarchar(65535)\t\t\n",
    "- ads_on_page\tvarchar(255)\t\n",
    "- sponsorid\tvarchar(255)\t\t\n",
    "- aritstid\tvarchar(255)\t\t\n",
    "- time_stamp\ttimestamp\t\t\n",
    "- exp\tint\t\n",
    "- coin\tint\t\n",
    "\n",
    "\n",
    "In our case user activities are  given in a period of 25 days. We will use user activities in the first week to predict whether they will return to application in the following week.\n",
    "\n",
    "After spending a lot of time to extract useful features, there are six features below \n",
    "\n",
    "- Total number of activities\n",
    "- Total exp\n",
    "- Total coins\n",
    "- Inactive period\n",
    "- Active days\n",
    "- Membership period\n",
    "\n",
    "In data preprocessing step will give you more detail how to extract these features from provided dataset\n",
    "\n",
    "### The process can be divided into 4 steps below.\n",
    "\n",
    "1. Data exploration : Determine null values\n",
    "2. Data preprocessing : Create 6 features, verifying multicollinearity and normalization\n",
    "3. Logistic Regression Model\n",
    "4. Evaluate and interpret model : Confusion matrix, F1 score and coefficients\n",
    "\n",
    "\n",
    "## 1. Data Exploration\n",
    "\n",
    "- Import necessary packages"
   ]
  },
  {
   "cell_type": "code",
   "execution_count": 1,
   "metadata": {
    "collapsed": true
   },
   "outputs": [],
   "source": [
    "import pandas as pd\n",
    "import numpy as np\n",
    "import matplotlib.pyplot as plt\n",
    "\n",
    "from sklearn.linear_model import LogisticRegression\n",
    "from sklearn.model_selection import train_test_split\n",
    "\n",
    "import seaborn as sns\n",
    "sns.set(style=\"white\")\n",
    "sns.set(style=\"whitegrid\", color_codes=True)"
   ]
  },
  {
   "cell_type": "markdown",
   "metadata": {},
   "source": [
    "- Read user activity file (application_txn.csv) for further analysis. We also need an created time from (user.csv) for calculating membership period feature"
   ]
  },
  {
   "cell_type": "code",
   "execution_count": 2,
   "metadata": {},
   "outputs": [
    {
     "name": "stdout",
     "output_type": "stream",
     "text": [
      "(716814, 9)\n"
     ]
    },
    {
     "data": {
      "text/html": [
       "<div>\n",
       "<style>\n",
       "    .dataframe thead tr:only-child th {\n",
       "        text-align: right;\n",
       "    }\n",
       "\n",
       "    .dataframe thead th {\n",
       "        text-align: left;\n",
       "    }\n",
       "\n",
       "    .dataframe tbody tr th {\n",
       "        vertical-align: top;\n",
       "    }\n",
       "</style>\n",
       "<table border=\"1\" class=\"dataframe\">\n",
       "  <thead>\n",
       "    <tr style=\"text-align: right;\">\n",
       "      <th></th>\n",
       "      <th>userid</th>\n",
       "      <th>action</th>\n",
       "      <th>objecttype</th>\n",
       "      <th>time_stamp2</th>\n",
       "      <th>exp</th>\n",
       "      <th>coin</th>\n",
       "      <th>gender</th>\n",
       "      <th>birth_year</th>\n",
       "      <th>createdtm</th>\n",
       "    </tr>\n",
       "  </thead>\n",
       "  <tbody>\n",
       "    <tr>\n",
       "      <th>0</th>\n",
       "      <td>59391fbfe4b0a0f774fe022e</td>\n",
       "      <td>VIEW</td>\n",
       "      <td>MISSIONPAGE</td>\n",
       "      <td>2017-07-01 00:04:22.842</td>\n",
       "      <td>0</td>\n",
       "      <td>0</td>\n",
       "      <td>female</td>\n",
       "      <td>2529</td>\n",
       "      <td>2017-06-08 04:58:23.262</td>\n",
       "    </tr>\n",
       "    <tr>\n",
       "      <th>1</th>\n",
       "      <td>59391fbfe4b0a0f774fe022e</td>\n",
       "      <td>VIEW</td>\n",
       "      <td>MISSIONPAGE</td>\n",
       "      <td>2017-07-01 13:54:08.707</td>\n",
       "      <td>0</td>\n",
       "      <td>0</td>\n",
       "      <td>female</td>\n",
       "      <td>2529</td>\n",
       "      <td>2017-06-08 04:58:23.262</td>\n",
       "    </tr>\n",
       "    <tr>\n",
       "      <th>2</th>\n",
       "      <td>59391fbfe4b0a0f774fe022e</td>\n",
       "      <td>VIEW</td>\n",
       "      <td>MISSIONPAGE</td>\n",
       "      <td>2017-07-01 00:02:00.242</td>\n",
       "      <td>0</td>\n",
       "      <td>0</td>\n",
       "      <td>female</td>\n",
       "      <td>2529</td>\n",
       "      <td>2017-06-08 04:58:23.262</td>\n",
       "    </tr>\n",
       "    <tr>\n",
       "      <th>3</th>\n",
       "      <td>59391fbfe4b0a0f774fe022e</td>\n",
       "      <td>VIEW</td>\n",
       "      <td>MISSIONPAGE</td>\n",
       "      <td>2017-07-01 20:19:15.048</td>\n",
       "      <td>0</td>\n",
       "      <td>0</td>\n",
       "      <td>female</td>\n",
       "      <td>2529</td>\n",
       "      <td>2017-06-08 04:58:23.262</td>\n",
       "    </tr>\n",
       "    <tr>\n",
       "      <th>4</th>\n",
       "      <td>59391fbfe4b0a0f774fe022e</td>\n",
       "      <td>VIEW</td>\n",
       "      <td>MISSIONPAGE</td>\n",
       "      <td>2017-07-01 20:34:37.440</td>\n",
       "      <td>0</td>\n",
       "      <td>0</td>\n",
       "      <td>female</td>\n",
       "      <td>2529</td>\n",
       "      <td>2017-06-08 04:58:23.262</td>\n",
       "    </tr>\n",
       "  </tbody>\n",
       "</table>\n",
       "</div>"
      ],
      "text/plain": [
       "                     userid action   objecttype              time_stamp2  exp  \\\n",
       "0  59391fbfe4b0a0f774fe022e   VIEW  MISSIONPAGE  2017-07-01 00:04:22.842    0   \n",
       "1  59391fbfe4b0a0f774fe022e   VIEW  MISSIONPAGE  2017-07-01 13:54:08.707    0   \n",
       "2  59391fbfe4b0a0f774fe022e   VIEW  MISSIONPAGE  2017-07-01 00:02:00.242    0   \n",
       "3  59391fbfe4b0a0f774fe022e   VIEW  MISSIONPAGE  2017-07-01 20:19:15.048    0   \n",
       "4  59391fbfe4b0a0f774fe022e   VIEW  MISSIONPAGE  2017-07-01 20:34:37.440    0   \n",
       "\n",
       "   coin  gender birth_year                createdtm  \n",
       "0     0  female       2529  2017-06-08 04:58:23.262  \n",
       "1     0  female       2529  2017-06-08 04:58:23.262  \n",
       "2     0  female       2529  2017-06-08 04:58:23.262  \n",
       "3     0  female       2529  2017-06-08 04:58:23.262  \n",
       "4     0  female       2529  2017-06-08 04:58:23.262  "
      ]
     },
     "execution_count": 2,
     "metadata": {},
     "output_type": "execute_result"
    }
   ],
   "source": [
    "#Import user activities information\n",
    "userActivity = pd.read_csv('DataSource/application_txn.csv',usecols=[\"userid\",\"objecttype\",\"action\",\"time_stamp2\",\"exp\",\"coin\"])\n",
    "userInformation = pd.read_csv('DataSource/user.csv',usecols=['userid','gender','birth_year','createdtm'])\n",
    "\n",
    "#Merge between user activity and information table\n",
    "userMerged = pd.merge(userActivity,userInformation, on='userid')\n",
    "#Show size of dataframe and previewing some records\n",
    "print(userMerged.shape)\n",
    "userMerged.head(5)"
   ]
  },
  {
   "cell_type": "markdown",
   "metadata": {},
   "source": [
    "- Let's see a period of provided dataset"
   ]
  },
  {
   "cell_type": "code",
   "execution_count": 3,
   "metadata": {},
   "outputs": [
    {
     "name": "stdout",
     "output_type": "stream",
     "text": [
      "Start date : 2017-07-01 00:00:01.688000\n",
      "End date: 2017-07-25 23:59:58.382000\n",
      "Period: 25 days\n"
     ]
    }
   ],
   "source": [
    "#Find a period of all activities\n",
    "from datetime import datetime\n",
    "\n",
    "userMerged['time_stamp2'] = pd.to_datetime(userMerged['time_stamp2'], format = '%Y-%m-%d %H:%M:%S.%f')\n",
    "\n",
    "startDate = min(userMerged.time_stamp2)\n",
    "endDate = max(userMerged.time_stamp2)\n",
    "print(\"Start date :\",startDate)\n",
    "print(\"End date:\", endDate)\n",
    "print(\"Period:\", (endDate-startDate).days+1, \"days\")\n"
   ]
  },
  {
   "cell_type": "markdown",
   "metadata": {},
   "source": [
    "- Exclude all activites related to users who create their account after start date. Because their activites might not enough for training \n"
   ]
  },
  {
   "cell_type": "code",
   "execution_count": 4,
   "metadata": {},
   "outputs": [
    {
     "name": "stdout",
     "output_type": "stream",
     "text": [
      "the latest account was created at: 2017-06-30 12:53:09.255000\n"
     ]
    }
   ],
   "source": [
    "userMerged['createdtm'] = pd.to_datetime(userMerged['createdtm'], format = '%Y-%m-%d %H:%M:%S.%f')\n",
    "userMerged = userMerged[userMerged[\"createdtm\"] < startDate]\n",
    "\n",
    "#Verify whether the latest account was created before the startDate\n",
    "print(\"the latest account was created at:\",max(userMerged.createdtm))"
   ]
  },
  {
   "cell_type": "markdown",
   "metadata": {},
   "source": [
    "- Define timeline in this case we want to limit the activities within only 1 week (from 2017-07-01 - 2017-07-07)"
   ]
  },
  {
   "cell_type": "code",
   "execution_count": 5,
   "metadata": {},
   "outputs": [
    {
     "name": "stdout",
     "output_type": "stream",
     "text": [
      "the most recent activity is : 2017-07-07 23:59:50.638000\n"
     ]
    },
    {
     "data": {
      "text/plain": [
       "(193147, 9)"
      ]
     },
     "execution_count": 5,
     "metadata": {},
     "output_type": "execute_result"
    }
   ],
   "source": [
    "endDate = datetime.strptime(\"2017-07-08 00:00:00.000000\", '%Y-%m-%d %H:%M:%S.%f')\n",
    "firstWeekUserMerged = userMerged[userMerged['time_stamp2'] < endDate]\n",
    "print(\"the most recent activity is :\",max(firstWeekUserMerged.time_stamp2))\n",
    "\n",
    "firstWeekUserMerged.shape\n"
   ]
  },
  {
   "cell_type": "code",
   "execution_count": 6,
   "metadata": {},
   "outputs": [
    {
     "data": {
      "text/plain": [
       "userid             0\n",
       "action             0\n",
       "objecttype     31024\n",
       "time_stamp2        0\n",
       "exp                0\n",
       "coin               0\n",
       "gender          2194\n",
       "birth_year     17680\n",
       "createdtm          0\n",
       "dtype: int64"
      ]
     },
     "execution_count": 6,
     "metadata": {},
     "output_type": "execute_result"
    }
   ],
   "source": [
    "#find out which column has any missing values\n",
    "firstWeekUserMerged.isnull().sum()"
   ]
  },
  {
   "cell_type": "code",
   "execution_count": 7,
   "metadata": {},
   "outputs": [
    {
     "data": {
      "text/plain": [
       "userid             0\n",
       "action             0\n",
       "objecttype     31024\n",
       "time_stamp2        0\n",
       "exp                0\n",
       "coin               0\n",
       "createdtm          0\n",
       "dtype: int64"
      ]
     },
     "execution_count": 7,
     "metadata": {},
     "output_type": "execute_result"
    }
   ],
   "source": [
    "#Because gender and age of customers are static infomation which might not related to our case, we exclude them out\n",
    "firstWeekUserMerged = firstWeekUserMerged.drop([\"gender\",\"birth_year\"], axis=1)\n",
    "firstWeekUserMerged.isnull().sum()"
   ]
  },
  {
   "cell_type": "code",
   "execution_count": 8,
   "metadata": {},
   "outputs": [
    {
     "data": {
      "text/html": [
       "<div>\n",
       "<style>\n",
       "    .dataframe thead tr:only-child th {\n",
       "        text-align: right;\n",
       "    }\n",
       "\n",
       "    .dataframe thead th {\n",
       "        text-align: left;\n",
       "    }\n",
       "\n",
       "    .dataframe tbody tr th {\n",
       "        vertical-align: top;\n",
       "    }\n",
       "</style>\n",
       "<table border=\"1\" class=\"dataframe\">\n",
       "  <thead>\n",
       "    <tr style=\"text-align: right;\">\n",
       "      <th></th>\n",
       "      <th>userid</th>\n",
       "      <th>action</th>\n",
       "      <th>objecttype</th>\n",
       "      <th>time_stamp2</th>\n",
       "      <th>exp</th>\n",
       "      <th>coin</th>\n",
       "      <th>createdtm</th>\n",
       "    </tr>\n",
       "  </thead>\n",
       "  <tbody>\n",
       "    <tr>\n",
       "      <th>60</th>\n",
       "      <td>59391fbfe4b0a0f774fe022e</td>\n",
       "      <td>APPIN</td>\n",
       "      <td>NaN</td>\n",
       "      <td>2017-07-01 20:28:41.538</td>\n",
       "      <td>0</td>\n",
       "      <td>0</td>\n",
       "      <td>2017-06-08 04:58:23.262</td>\n",
       "    </tr>\n",
       "    <tr>\n",
       "      <th>70</th>\n",
       "      <td>59391fbfe4b0a0f774fe022e</td>\n",
       "      <td>APPIN</td>\n",
       "      <td>NaN</td>\n",
       "      <td>2017-07-01 20:19:14.939</td>\n",
       "      <td>0</td>\n",
       "      <td>0</td>\n",
       "      <td>2017-06-08 04:58:23.262</td>\n",
       "    </tr>\n",
       "    <tr>\n",
       "      <th>80</th>\n",
       "      <td>59391fbfe4b0a0f774fe022e</td>\n",
       "      <td>APPOUT</td>\n",
       "      <td>NaN</td>\n",
       "      <td>2017-07-01 13:47:50.472</td>\n",
       "      <td>0</td>\n",
       "      <td>0</td>\n",
       "      <td>2017-06-08 04:58:23.262</td>\n",
       "    </tr>\n",
       "    <tr>\n",
       "      <th>84</th>\n",
       "      <td>59391fbfe4b0a0f774fe022e</td>\n",
       "      <td>APPOUT</td>\n",
       "      <td>NaN</td>\n",
       "      <td>2017-07-01 20:34:58.173</td>\n",
       "      <td>0</td>\n",
       "      <td>0</td>\n",
       "      <td>2017-06-08 04:58:23.262</td>\n",
       "    </tr>\n",
       "    <tr>\n",
       "      <th>93</th>\n",
       "      <td>59391fbfe4b0a0f774fe022e</td>\n",
       "      <td>APPIN</td>\n",
       "      <td>NaN</td>\n",
       "      <td>2017-07-01 13:54:06.912</td>\n",
       "      <td>0</td>\n",
       "      <td>0</td>\n",
       "      <td>2017-06-08 04:58:23.262</td>\n",
       "    </tr>\n",
       "  </tbody>\n",
       "</table>\n",
       "</div>"
      ],
      "text/plain": [
       "                      userid  action objecttype             time_stamp2  exp  \\\n",
       "60  59391fbfe4b0a0f774fe022e   APPIN        NaN 2017-07-01 20:28:41.538    0   \n",
       "70  59391fbfe4b0a0f774fe022e   APPIN        NaN 2017-07-01 20:19:14.939    0   \n",
       "80  59391fbfe4b0a0f774fe022e  APPOUT        NaN 2017-07-01 13:47:50.472    0   \n",
       "84  59391fbfe4b0a0f774fe022e  APPOUT        NaN 2017-07-01 20:34:58.173    0   \n",
       "93  59391fbfe4b0a0f774fe022e   APPIN        NaN 2017-07-01 13:54:06.912    0   \n",
       "\n",
       "    coin               createdtm  \n",
       "60     0 2017-06-08 04:58:23.262  \n",
       "70     0 2017-06-08 04:58:23.262  \n",
       "80     0 2017-06-08 04:58:23.262  \n",
       "84     0 2017-06-08 04:58:23.262  \n",
       "93     0 2017-06-08 04:58:23.262  "
      ]
     },
     "execution_count": 8,
     "metadata": {},
     "output_type": "execute_result"
    }
   ],
   "source": [
    "#Check records where objecttype == null\n",
    "firstWeekUserMerged[firstWeekUserMerged.objecttype.isnull()].head(5)"
   ]
  },
  {
   "cell_type": "markdown",
   "metadata": {},
   "source": [
    "They are open and close application activities which are not associated to any objects like feeds or artists. We will include them as well by counting them as an one activity."
   ]
  },
  {
   "cell_type": "code",
   "execution_count": 9,
   "metadata": {},
   "outputs": [
    {
     "data": {
      "image/png": "[encoded data removed]",
      "text/plain": [
       "<matplotlib.figure.Figure at 0x753b160>"
      ]
     },
     "metadata": {},
     "output_type": "display_data"
    }
   ],
   "source": [
    "#Review histrogram of customer actions\n",
    "sns.countplot(y=\"action\",data=firstWeekUserMerged)\n",
    "plt.show()"
   ]
  },
  {
   "cell_type": "code",
   "execution_count": 10,
   "metadata": {},
   "outputs": [
    {
     "data": {
      "image/png": "[encoded data removed]",
      "text/plain": [
       "<matplotlib.figure.Figure at 0x4d36cf8>"
      ]
     },
     "metadata": {},
     "output_type": "display_data"
    }
   ],
   "source": [
    "#Review histrogram of customer activities\n",
    "sns.countplot(y=\"objecttype\",data=firstWeekUserMerged)\n",
    "plt.show()"
   ]
  },
  {
   "cell_type": "markdown",
   "metadata": {},
   "source": [
    "Check the number of users. We will use it to cross check with dimension of final dataset "
   ]
  },
  {
   "cell_type": "code",
   "execution_count": 11,
   "metadata": {},
   "outputs": [
    {
     "name": "stdout",
     "output_type": "stream",
     "text": [
      "The number of users is : 1247\n"
     ]
    }
   ],
   "source": [
    "#Review number of users\n",
    "numUsers = firstWeekUserMerged[['userid']].drop_duplicates().count()\n",
    "print(\"The number of users is :\",int(numUsers))"
   ]
  },
  {
   "cell_type": "markdown",
   "metadata": {},
   "source": [
    "## 2. Data Preprocessing\n",
    "\n",
    "\n",
    "We will need to create six features below\n",
    "\n",
    "- Total number of activities : Count number of activities group \n",
    "- Total exp : Sum total exp group \n",
    "- Total coins : Sum total coins group\n",
    "- Inactive period : Number of days from the lastest activity to end of the week\n",
    "- Active days : Number of days that users have any activities\n",
    "- Membership peiod : Number of days since created account until start of the week\n",
    "- y :  y = 1 or churn customer when he/she still has activities in the next week, 0 otherwise\n",
    "\n",
    "\n",
    "Note. All features are grouped by each user \n",
    "\n",
    "#### Inactive, active, membership period and y are represented by images below\n",
    "\n",
    "<img src=\"images/timeline.png\">\n"
   ]
  },
  {
   "cell_type": "markdown",
   "metadata": {},
   "source": [
    "\n",
    "### 2.1. Create total number of activities feature\n",
    "- We can use groupby function from pandas module to count the number of activities by user. \n",
    "- Before moving to next step, let's assure statement of number of users it should be the same as the previous step."
   ]
  },
  {
   "cell_type": "code",
   "execution_count": 12,
   "metadata": {},
   "outputs": [
    {
     "name": "stdout",
     "output_type": "stream",
     "text": [
      "                     userid  totalAct\n",
      "0  592da01fe4b0a4ee112b84fb       311\n",
      "1  592da02be4b09c162d708589       265\n",
      "2  592da035e4b0a4ee112b8505       499\n",
      "3  592da070e4b09c162d70859a       417\n",
      "4  592da096e4b0a4ee112b852a       290\n",
      "(1247, 2)\n"
     ]
    }
   ],
   "source": [
    "X = firstWeekUserMerged.groupby('userid')[\"action\"].count().reset_index(name=\"totalAct\")\n",
    "print(X.head(5))\n",
    "print(X.shape)\n",
    "assert X.shape[0], numUsers"
   ]
  },
  {
   "cell_type": "markdown",
   "metadata": {},
   "source": [
    "### 2.2. Create total exp and coin feature"
   ]
  },
  {
   "cell_type": "code",
   "execution_count": 13,
   "metadata": {},
   "outputs": [
    {
     "name": "stdout",
     "output_type": "stream",
     "text": [
      "                     userid   exp  coin\n",
      "0  592da01fe4b0a4ee112b84fb  3068  2012\n",
      "1  592da02be4b09c162d708589  1513  1800\n",
      "2  592da035e4b0a4ee112b8505  3285  4902\n",
      "3  592da070e4b09c162d70859a     0     0\n",
      "4  592da096e4b0a4ee112b852a   709  1000\n",
      "(1247, 3)\n"
     ]
    }
   ],
   "source": [
    "expAndCoinByUser = firstWeekUserMerged.groupby('userid')[\"exp\",\"coin\"].sum().reset_index()\n",
    "print(expAndCoinByUser.head(5))\n",
    "print(expAndCoinByUser.shape)"
   ]
  },
  {
   "cell_type": "markdown",
   "metadata": {},
   "source": [
    "- We then store the result into the final dataset and add other features into it by using userid as a key. "
   ]
  },
  {
   "cell_type": "code",
   "execution_count": 14,
   "metadata": {},
   "outputs": [
    {
     "data": {
      "text/html": [
       "<div>\n",
       "<style>\n",
       "    .dataframe thead tr:only-child th {\n",
       "        text-align: right;\n",
       "    }\n",
       "\n",
       "    .dataframe thead th {\n",
       "        text-align: left;\n",
       "    }\n",
       "\n",
       "    .dataframe tbody tr th {\n",
       "        vertical-align: top;\n",
       "    }\n",
       "</style>\n",
       "<table border=\"1\" class=\"dataframe\">\n",
       "  <thead>\n",
       "    <tr style=\"text-align: right;\">\n",
       "      <th></th>\n",
       "      <th>userid</th>\n",
       "      <th>totalAct</th>\n",
       "      <th>exp</th>\n",
       "      <th>coin</th>\n",
       "    </tr>\n",
       "  </thead>\n",
       "  <tbody>\n",
       "    <tr>\n",
       "      <th>0</th>\n",
       "      <td>592da01fe4b0a4ee112b84fb</td>\n",
       "      <td>311</td>\n",
       "      <td>3068</td>\n",
       "      <td>2012</td>\n",
       "    </tr>\n",
       "    <tr>\n",
       "      <th>1</th>\n",
       "      <td>592da02be4b09c162d708589</td>\n",
       "      <td>265</td>\n",
       "      <td>1513</td>\n",
       "      <td>1800</td>\n",
       "    </tr>\n",
       "    <tr>\n",
       "      <th>2</th>\n",
       "      <td>592da035e4b0a4ee112b8505</td>\n",
       "      <td>499</td>\n",
       "      <td>3285</td>\n",
       "      <td>4902</td>\n",
       "    </tr>\n",
       "    <tr>\n",
       "      <th>3</th>\n",
       "      <td>592da070e4b09c162d70859a</td>\n",
       "      <td>417</td>\n",
       "      <td>0</td>\n",
       "      <td>0</td>\n",
       "    </tr>\n",
       "    <tr>\n",
       "      <th>4</th>\n",
       "      <td>592da096e4b0a4ee112b852a</td>\n",
       "      <td>290</td>\n",
       "      <td>709</td>\n",
       "      <td>1000</td>\n",
       "    </tr>\n",
       "  </tbody>\n",
       "</table>\n",
       "</div>"
      ],
      "text/plain": [
       "                     userid  totalAct   exp  coin\n",
       "0  592da01fe4b0a4ee112b84fb       311  3068  2012\n",
       "1  592da02be4b09c162d708589       265  1513  1800\n",
       "2  592da035e4b0a4ee112b8505       499  3285  4902\n",
       "3  592da070e4b09c162d70859a       417     0     0\n",
       "4  592da096e4b0a4ee112b852a       290   709  1000"
      ]
     },
     "execution_count": 14,
     "metadata": {},
     "output_type": "execute_result"
    }
   ],
   "source": [
    "#Merge into X by using userid as a key\n",
    "X = pd.merge(X, expAndCoinByUser, on=\"userid\")\n",
    "X.head(5)"
   ]
  },
  {
   "cell_type": "markdown",
   "metadata": {},
   "source": [
    "### 2.3 Create inactive period and membership period"
   ]
  },
  {
   "cell_type": "markdown",
   "metadata": {},
   "source": [
    "- Inactive period = The period from the latest activity time to endDate\n",
    "- membership period = The period from created account time to startDate\n",
    "\n",
    "In order to create two features above, we need to find latest activity time by user and created time by user\n",
    "\n",
    "#### 2.3.1 Latest activity time by user\n",
    "- Let's group each userid with max function to find the most recent time"
   ]
  },
  {
   "cell_type": "code",
   "execution_count": 15,
   "metadata": {},
   "outputs": [
    {
     "data": {
      "text/html": [
       "<div>\n",
       "<style>\n",
       "    .dataframe thead tr:only-child th {\n",
       "        text-align: right;\n",
       "    }\n",
       "\n",
       "    .dataframe thead th {\n",
       "        text-align: left;\n",
       "    }\n",
       "\n",
       "    .dataframe tbody tr th {\n",
       "        vertical-align: top;\n",
       "    }\n",
       "</style>\n",
       "<table border=\"1\" class=\"dataframe\">\n",
       "  <thead>\n",
       "    <tr style=\"text-align: right;\">\n",
       "      <th></th>\n",
       "      <th>userid</th>\n",
       "      <th>recentTime</th>\n",
       "    </tr>\n",
       "  </thead>\n",
       "  <tbody>\n",
       "    <tr>\n",
       "      <th>0</th>\n",
       "      <td>592da01fe4b0a4ee112b84fb</td>\n",
       "      <td>2017-07-06 12:06:45.295</td>\n",
       "    </tr>\n",
       "    <tr>\n",
       "      <th>1</th>\n",
       "      <td>592da02be4b09c162d708589</td>\n",
       "      <td>2017-07-06 12:08:26.112</td>\n",
       "    </tr>\n",
       "    <tr>\n",
       "      <th>2</th>\n",
       "      <td>592da035e4b0a4ee112b8505</td>\n",
       "      <td>2017-07-07 17:03:38.790</td>\n",
       "    </tr>\n",
       "    <tr>\n",
       "      <th>3</th>\n",
       "      <td>592da070e4b09c162d70859a</td>\n",
       "      <td>2017-07-06 12:14:26.016</td>\n",
       "    </tr>\n",
       "    <tr>\n",
       "      <th>4</th>\n",
       "      <td>592da096e4b0a4ee112b852a</td>\n",
       "      <td>2017-07-06 12:07:12.875</td>\n",
       "    </tr>\n",
       "  </tbody>\n",
       "</table>\n",
       "</div>"
      ],
      "text/plain": [
       "                     userid              recentTime\n",
       "0  592da01fe4b0a4ee112b84fb 2017-07-06 12:06:45.295\n",
       "1  592da02be4b09c162d708589 2017-07-06 12:08:26.112\n",
       "2  592da035e4b0a4ee112b8505 2017-07-07 17:03:38.790\n",
       "3  592da070e4b09c162d70859a 2017-07-06 12:14:26.016\n",
       "4  592da096e4b0a4ee112b852a 2017-07-06 12:07:12.875"
      ]
     },
     "execution_count": 15,
     "metadata": {},
     "output_type": "execute_result"
    }
   ],
   "source": [
    "latestTimeByUser = firstWeekUserMerged.groupby('userid')['time_stamp2'].max().reset_index(name=\"recentTime\")\n",
    "latestTimeByUser.head(5)"
   ]
  },
  {
   "cell_type": "markdown",
   "metadata": {},
   "source": [
    "#### 2.3.2 Created account time\n",
    "- Find created account time by user"
   ]
  },
  {
   "cell_type": "code",
   "execution_count": 16,
   "metadata": {},
   "outputs": [
    {
     "data": {
      "text/html": [
       "<div>\n",
       "<style>\n",
       "    .dataframe thead tr:only-child th {\n",
       "        text-align: right;\n",
       "    }\n",
       "\n",
       "    .dataframe thead th {\n",
       "        text-align: left;\n",
       "    }\n",
       "\n",
       "    .dataframe tbody tr th {\n",
       "        vertical-align: top;\n",
       "    }\n",
       "</style>\n",
       "<table border=\"1\" class=\"dataframe\">\n",
       "  <thead>\n",
       "    <tr style=\"text-align: right;\">\n",
       "      <th></th>\n",
       "      <th>userid</th>\n",
       "      <th>createdtm</th>\n",
       "    </tr>\n",
       "  </thead>\n",
       "  <tbody>\n",
       "    <tr>\n",
       "      <th>0</th>\n",
       "      <td>59391fbfe4b0a0f774fe022e</td>\n",
       "      <td>2017-06-08 04:58:23.262</td>\n",
       "    </tr>\n",
       "    <tr>\n",
       "      <th>340</th>\n",
       "      <td>592f8ddfe4b09c162d715525</td>\n",
       "      <td>2017-06-01 10:45:35.769</td>\n",
       "    </tr>\n",
       "    <tr>\n",
       "      <th>408</th>\n",
       "      <td>592e1c65e4b09c162d70ac5b</td>\n",
       "      <td>2017-05-31 08:29:09.357</td>\n",
       "    </tr>\n",
       "    <tr>\n",
       "      <th>797</th>\n",
       "      <td>5945552ee4b0db45c711c290</td>\n",
       "      <td>2017-06-17 11:13:34.423</td>\n",
       "    </tr>\n",
       "    <tr>\n",
       "      <th>1916</th>\n",
       "      <td>593e4481e4b06f7fcb9eabe4</td>\n",
       "      <td>2017-06-12 02:36:33.388</td>\n",
       "    </tr>\n",
       "  </tbody>\n",
       "</table>\n",
       "</div>"
      ],
      "text/plain": [
       "                        userid               createdtm\n",
       "0     59391fbfe4b0a0f774fe022e 2017-06-08 04:58:23.262\n",
       "340   592f8ddfe4b09c162d715525 2017-06-01 10:45:35.769\n",
       "408   592e1c65e4b09c162d70ac5b 2017-05-31 08:29:09.357\n",
       "797   5945552ee4b0db45c711c290 2017-06-17 11:13:34.423\n",
       "1916  593e4481e4b06f7fcb9eabe4 2017-06-12 02:36:33.388"
      ]
     },
     "execution_count": 16,
     "metadata": {},
     "output_type": "execute_result"
    }
   ],
   "source": [
    "uniqueCreatedTimeByUser = firstWeekUserMerged[['userid','createdtm']].drop_duplicates()\n",
    "uniqueCreatedTimeByUser.head(5)"
   ]
  },
  {
   "cell_type": "code",
   "execution_count": 17,
   "metadata": {},
   "outputs": [
    {
     "data": {
      "text/html": [
       "<div>\n",
       "<style>\n",
       "    .dataframe thead tr:only-child th {\n",
       "        text-align: right;\n",
       "    }\n",
       "\n",
       "    .dataframe thead th {\n",
       "        text-align: left;\n",
       "    }\n",
       "\n",
       "    .dataframe tbody tr th {\n",
       "        vertical-align: top;\n",
       "    }\n",
       "</style>\n",
       "<table border=\"1\" class=\"dataframe\">\n",
       "  <thead>\n",
       "    <tr style=\"text-align: right;\">\n",
       "      <th></th>\n",
       "      <th>userid</th>\n",
       "      <th>totalAct</th>\n",
       "      <th>exp</th>\n",
       "      <th>coin</th>\n",
       "      <th>recentTime</th>\n",
       "      <th>createdtm</th>\n",
       "    </tr>\n",
       "  </thead>\n",
       "  <tbody>\n",
       "    <tr>\n",
       "      <th>0</th>\n",
       "      <td>592da01fe4b0a4ee112b84fb</td>\n",
       "      <td>311</td>\n",
       "      <td>3068</td>\n",
       "      <td>2012</td>\n",
       "      <td>2017-07-06 12:06:45.295</td>\n",
       "      <td>2017-05-30 11:38:55.764</td>\n",
       "    </tr>\n",
       "    <tr>\n",
       "      <th>1</th>\n",
       "      <td>592da02be4b09c162d708589</td>\n",
       "      <td>265</td>\n",
       "      <td>1513</td>\n",
       "      <td>1800</td>\n",
       "      <td>2017-07-06 12:08:26.112</td>\n",
       "      <td>2017-05-30 11:39:07.470</td>\n",
       "    </tr>\n",
       "    <tr>\n",
       "      <th>2</th>\n",
       "      <td>592da035e4b0a4ee112b8505</td>\n",
       "      <td>499</td>\n",
       "      <td>3285</td>\n",
       "      <td>4902</td>\n",
       "      <td>2017-07-07 17:03:38.790</td>\n",
       "      <td>2017-05-30 11:39:17.917</td>\n",
       "    </tr>\n",
       "    <tr>\n",
       "      <th>3</th>\n",
       "      <td>592da070e4b09c162d70859a</td>\n",
       "      <td>417</td>\n",
       "      <td>0</td>\n",
       "      <td>0</td>\n",
       "      <td>2017-07-06 12:14:26.016</td>\n",
       "      <td>2017-05-30 11:40:16.498</td>\n",
       "    </tr>\n",
       "    <tr>\n",
       "      <th>4</th>\n",
       "      <td>592da096e4b0a4ee112b852a</td>\n",
       "      <td>290</td>\n",
       "      <td>709</td>\n",
       "      <td>1000</td>\n",
       "      <td>2017-07-06 12:07:12.875</td>\n",
       "      <td>2017-05-30 11:40:54.438</td>\n",
       "    </tr>\n",
       "  </tbody>\n",
       "</table>\n",
       "</div>"
      ],
      "text/plain": [
       "                     userid  totalAct   exp  coin              recentTime  \\\n",
       "0  592da01fe4b0a4ee112b84fb       311  3068  2012 2017-07-06 12:06:45.295   \n",
       "1  592da02be4b09c162d708589       265  1513  1800 2017-07-06 12:08:26.112   \n",
       "2  592da035e4b0a4ee112b8505       499  3285  4902 2017-07-07 17:03:38.790   \n",
       "3  592da070e4b09c162d70859a       417     0     0 2017-07-06 12:14:26.016   \n",
       "4  592da096e4b0a4ee112b852a       290   709  1000 2017-07-06 12:07:12.875   \n",
       "\n",
       "                createdtm  \n",
       "0 2017-05-30 11:38:55.764  \n",
       "1 2017-05-30 11:39:07.470  \n",
       "2 2017-05-30 11:39:17.917  \n",
       "3 2017-05-30 11:40:16.498  \n",
       "4 2017-05-30 11:40:54.438  "
      ]
     },
     "execution_count": 17,
     "metadata": {},
     "output_type": "execute_result"
    }
   ],
   "source": [
    "#Merge 2 dataframes above into X\n",
    "X = pd.merge(X, latestTimeByUser, on=\"userid\")\n",
    "X = pd.merge(X, uniqueCreatedTimeByUser , on =\"userid\")\n",
    "X.head(5)"
   ]
  },
  {
   "cell_type": "markdown",
   "metadata": {},
   "source": [
    "#### 2.3.3. Create inactive and membership period features\n",
    "- Create inactivePeriod and memberPeriod features and converting into a number of days"
   ]
  },
  {
   "cell_type": "code",
   "execution_count": 18,
   "metadata": {},
   "outputs": [
    {
     "data": {
      "text/html": [
       "<div>\n",
       "<style>\n",
       "    .dataframe thead tr:only-child th {\n",
       "        text-align: right;\n",
       "    }\n",
       "\n",
       "    .dataframe thead th {\n",
       "        text-align: left;\n",
       "    }\n",
       "\n",
       "    .dataframe tbody tr th {\n",
       "        vertical-align: top;\n",
       "    }\n",
       "</style>\n",
       "<table border=\"1\" class=\"dataframe\">\n",
       "  <thead>\n",
       "    <tr style=\"text-align: right;\">\n",
       "      <th></th>\n",
       "      <th>userid</th>\n",
       "      <th>totalAct</th>\n",
       "      <th>exp</th>\n",
       "      <th>coin</th>\n",
       "      <th>recentTime</th>\n",
       "      <th>createdtm</th>\n",
       "      <th>inactivePeriod</th>\n",
       "      <th>memberPeriod</th>\n",
       "    </tr>\n",
       "  </thead>\n",
       "  <tbody>\n",
       "    <tr>\n",
       "      <th>0</th>\n",
       "      <td>592da01fe4b0a4ee112b84fb</td>\n",
       "      <td>311</td>\n",
       "      <td>3068</td>\n",
       "      <td>2012</td>\n",
       "      <td>2017-07-06 12:06:45.295</td>\n",
       "      <td>2017-05-30 11:38:55.764</td>\n",
       "      <td>1</td>\n",
       "      <td>31</td>\n",
       "    </tr>\n",
       "    <tr>\n",
       "      <th>1</th>\n",
       "      <td>592da02be4b09c162d708589</td>\n",
       "      <td>265</td>\n",
       "      <td>1513</td>\n",
       "      <td>1800</td>\n",
       "      <td>2017-07-06 12:08:26.112</td>\n",
       "      <td>2017-05-30 11:39:07.470</td>\n",
       "      <td>1</td>\n",
       "      <td>31</td>\n",
       "    </tr>\n",
       "    <tr>\n",
       "      <th>2</th>\n",
       "      <td>592da035e4b0a4ee112b8505</td>\n",
       "      <td>499</td>\n",
       "      <td>3285</td>\n",
       "      <td>4902</td>\n",
       "      <td>2017-07-07 17:03:38.790</td>\n",
       "      <td>2017-05-30 11:39:17.917</td>\n",
       "      <td>0</td>\n",
       "      <td>31</td>\n",
       "    </tr>\n",
       "    <tr>\n",
       "      <th>3</th>\n",
       "      <td>592da070e4b09c162d70859a</td>\n",
       "      <td>417</td>\n",
       "      <td>0</td>\n",
       "      <td>0</td>\n",
       "      <td>2017-07-06 12:14:26.016</td>\n",
       "      <td>2017-05-30 11:40:16.498</td>\n",
       "      <td>1</td>\n",
       "      <td>31</td>\n",
       "    </tr>\n",
       "    <tr>\n",
       "      <th>4</th>\n",
       "      <td>592da096e4b0a4ee112b852a</td>\n",
       "      <td>290</td>\n",
       "      <td>709</td>\n",
       "      <td>1000</td>\n",
       "      <td>2017-07-06 12:07:12.875</td>\n",
       "      <td>2017-05-30 11:40:54.438</td>\n",
       "      <td>1</td>\n",
       "      <td>31</td>\n",
       "    </tr>\n",
       "  </tbody>\n",
       "</table>\n",
       "</div>"
      ],
      "text/plain": [
       "                     userid  totalAct   exp  coin              recentTime  \\\n",
       "0  592da01fe4b0a4ee112b84fb       311  3068  2012 2017-07-06 12:06:45.295   \n",
       "1  592da02be4b09c162d708589       265  1513  1800 2017-07-06 12:08:26.112   \n",
       "2  592da035e4b0a4ee112b8505       499  3285  4902 2017-07-07 17:03:38.790   \n",
       "3  592da070e4b09c162d70859a       417     0     0 2017-07-06 12:14:26.016   \n",
       "4  592da096e4b0a4ee112b852a       290   709  1000 2017-07-06 12:07:12.875   \n",
       "\n",
       "                createdtm  inactivePeriod  memberPeriod  \n",
       "0 2017-05-30 11:38:55.764               1            31  \n",
       "1 2017-05-30 11:39:07.470               1            31  \n",
       "2 2017-05-30 11:39:17.917               0            31  \n",
       "3 2017-05-30 11:40:16.498               1            31  \n",
       "4 2017-05-30 11:40:54.438               1            31  "
      ]
     },
     "execution_count": 18,
     "metadata": {},
     "output_type": "execute_result"
    }
   ],
   "source": [
    "#It is the period between the time last activity took place and end date\n",
    "X[\"inactivePeriod\"] = endDate - X['recentTime']\n",
    "#Convert to number of days\n",
    "X[\"inactivePeriod\"] = X.inactivePeriod.dt.days\n",
    "\n",
    "#Create new feature of the membership period from the registration date until start date\n",
    "X[\"memberPeriod\"] = startDate - X[\"createdtm\"]\n",
    "#Convert to number of days\n",
    "X[\"memberPeriod\"] = X.memberPeriod.dt.days\n",
    "\n",
    "X.head(5)"
   ]
  },
  {
   "cell_type": "markdown",
   "metadata": {},
   "source": [
    "### 2.4. Create activeDay feature\n",
    "- activeDay represents how often users use this application in one week"
   ]
  },
  {
   "cell_type": "code",
   "execution_count": 19,
   "metadata": {
    "collapsed": true
   },
   "outputs": [],
   "source": [
    "#Convert time_stamp2 to day of the week\n",
    "firstWeekUserMerged[\"day_time_stamp2\"] = firstWeekUserMerged.time_stamp2.dt.day"
   ]
  },
  {
   "cell_type": "markdown",
   "metadata": {},
   "source": [
    "- Count how often users use this application in one week\n"
   ]
  },
  {
   "cell_type": "code",
   "execution_count": 20,
   "metadata": {},
   "outputs": [
    {
     "data": {
      "text/html": [
       "<div>\n",
       "<style>\n",
       "    .dataframe thead tr:only-child th {\n",
       "        text-align: right;\n",
       "    }\n",
       "\n",
       "    .dataframe thead th {\n",
       "        text-align: left;\n",
       "    }\n",
       "\n",
       "    .dataframe tbody tr th {\n",
       "        vertical-align: top;\n",
       "    }\n",
       "</style>\n",
       "<table border=\"1\" class=\"dataframe\">\n",
       "  <thead>\n",
       "    <tr style=\"text-align: right;\">\n",
       "      <th></th>\n",
       "      <th>userid</th>\n",
       "      <th>activeDay</th>\n",
       "    </tr>\n",
       "  </thead>\n",
       "  <tbody>\n",
       "    <tr>\n",
       "      <th>0</th>\n",
       "      <td>592da01fe4b0a4ee112b84fb</td>\n",
       "      <td>5</td>\n",
       "    </tr>\n",
       "    <tr>\n",
       "      <th>1</th>\n",
       "      <td>592da02be4b09c162d708589</td>\n",
       "      <td>5</td>\n",
       "    </tr>\n",
       "    <tr>\n",
       "      <th>2</th>\n",
       "      <td>592da035e4b0a4ee112b8505</td>\n",
       "      <td>7</td>\n",
       "    </tr>\n",
       "    <tr>\n",
       "      <th>3</th>\n",
       "      <td>592da070e4b09c162d70859a</td>\n",
       "      <td>5</td>\n",
       "    </tr>\n",
       "    <tr>\n",
       "      <th>4</th>\n",
       "      <td>592da096e4b0a4ee112b852a</td>\n",
       "      <td>5</td>\n",
       "    </tr>\n",
       "  </tbody>\n",
       "</table>\n",
       "</div>"
      ],
      "text/plain": [
       "                     userid  activeDay\n",
       "0  592da01fe4b0a4ee112b84fb          5\n",
       "1  592da02be4b09c162d708589          5\n",
       "2  592da035e4b0a4ee112b8505          7\n",
       "3  592da070e4b09c162d70859a          5\n",
       "4  592da096e4b0a4ee112b852a          5"
      ]
     },
     "execution_count": 20,
     "metadata": {},
     "output_type": "execute_result"
    }
   ],
   "source": [
    "#Accumulate number of day by user\n",
    "activityByUserByday = firstWeekUserMerged.groupby('userid')[\"day_time_stamp2\"].value_counts().index.tolist()\n",
    "activityByUserByday = pd.DataFrame(activityByUserByday,columns=[\"userid\",\"activeDay\"])\n",
    "activityByUserByday = activityByUserByday.groupby('userid')[\"activeDay\"].count().reset_index()\n",
    "activityByUserByday.head(5)"
   ]
  },
  {
   "cell_type": "code",
   "execution_count": 21,
   "metadata": {},
   "outputs": [
    {
     "name": "stdout",
     "output_type": "stream",
     "text": [
      "\n",
      "The highest number of active day is : 7 days\n",
      "There are 100 users who keep playing the mobile application for 7 days\n"
     ]
    }
   ],
   "source": [
    "maxActiveDay = max(activityByUserByday[\"activeDay\"])\n",
    "print(\"\\nThe highest number of active day is :\",maxActiveDay,\"days\")\n",
    "\n",
    "numberOfUser = activityByUserByday[activityByUserByday[\"activeDay\"]==maxActiveDay].userid.count()\n",
    "print(\"There are\",numberOfUser,\"users who keep playing the mobile application for\", maxActiveDay,\"days\")\n",
    "\n",
    "#Merge activeDay feature into training data\n",
    "X = pd.merge(X, activityByUserByday[['userid','activeDay']] , on =\"userid\")"
   ]
  },
  {
   "cell_type": "code",
   "execution_count": 22,
   "metadata": {},
   "outputs": [
    {
     "data": {
      "text/html": [
       "<div>\n",
       "<style>\n",
       "    .dataframe thead tr:only-child th {\n",
       "        text-align: right;\n",
       "    }\n",
       "\n",
       "    .dataframe thead th {\n",
       "        text-align: left;\n",
       "    }\n",
       "\n",
       "    .dataframe tbody tr th {\n",
       "        vertical-align: top;\n",
       "    }\n",
       "</style>\n",
       "<table border=\"1\" class=\"dataframe\">\n",
       "  <thead>\n",
       "    <tr style=\"text-align: right;\">\n",
       "      <th></th>\n",
       "      <th>userid</th>\n",
       "      <th>totalAct</th>\n",
       "      <th>exp</th>\n",
       "      <th>coin</th>\n",
       "      <th>recentTime</th>\n",
       "      <th>createdtm</th>\n",
       "      <th>inactivePeriod</th>\n",
       "      <th>memberPeriod</th>\n",
       "      <th>activeDay</th>\n",
       "    </tr>\n",
       "  </thead>\n",
       "  <tbody>\n",
       "    <tr>\n",
       "      <th>0</th>\n",
       "      <td>592da01fe4b0a4ee112b84fb</td>\n",
       "      <td>311</td>\n",
       "      <td>3068</td>\n",
       "      <td>2012</td>\n",
       "      <td>2017-07-06 12:06:45.295</td>\n",
       "      <td>2017-05-30 11:38:55.764</td>\n",
       "      <td>1</td>\n",
       "      <td>31</td>\n",
       "      <td>5</td>\n",
       "    </tr>\n",
       "    <tr>\n",
       "      <th>1</th>\n",
       "      <td>592da02be4b09c162d708589</td>\n",
       "      <td>265</td>\n",
       "      <td>1513</td>\n",
       "      <td>1800</td>\n",
       "      <td>2017-07-06 12:08:26.112</td>\n",
       "      <td>2017-05-30 11:39:07.470</td>\n",
       "      <td>1</td>\n",
       "      <td>31</td>\n",
       "      <td>5</td>\n",
       "    </tr>\n",
       "    <tr>\n",
       "      <th>2</th>\n",
       "      <td>592da035e4b0a4ee112b8505</td>\n",
       "      <td>499</td>\n",
       "      <td>3285</td>\n",
       "      <td>4902</td>\n",
       "      <td>2017-07-07 17:03:38.790</td>\n",
       "      <td>2017-05-30 11:39:17.917</td>\n",
       "      <td>0</td>\n",
       "      <td>31</td>\n",
       "      <td>7</td>\n",
       "    </tr>\n",
       "    <tr>\n",
       "      <th>3</th>\n",
       "      <td>592da070e4b09c162d70859a</td>\n",
       "      <td>417</td>\n",
       "      <td>0</td>\n",
       "      <td>0</td>\n",
       "      <td>2017-07-06 12:14:26.016</td>\n",
       "      <td>2017-05-30 11:40:16.498</td>\n",
       "      <td>1</td>\n",
       "      <td>31</td>\n",
       "      <td>5</td>\n",
       "    </tr>\n",
       "    <tr>\n",
       "      <th>4</th>\n",
       "      <td>592da096e4b0a4ee112b852a</td>\n",
       "      <td>290</td>\n",
       "      <td>709</td>\n",
       "      <td>1000</td>\n",
       "      <td>2017-07-06 12:07:12.875</td>\n",
       "      <td>2017-05-30 11:40:54.438</td>\n",
       "      <td>1</td>\n",
       "      <td>31</td>\n",
       "      <td>5</td>\n",
       "    </tr>\n",
       "  </tbody>\n",
       "</table>\n",
       "</div>"
      ],
      "text/plain": [
       "                     userid  totalAct   exp  coin              recentTime  \\\n",
       "0  592da01fe4b0a4ee112b84fb       311  3068  2012 2017-07-06 12:06:45.295   \n",
       "1  592da02be4b09c162d708589       265  1513  1800 2017-07-06 12:08:26.112   \n",
       "2  592da035e4b0a4ee112b8505       499  3285  4902 2017-07-07 17:03:38.790   \n",
       "3  592da070e4b09c162d70859a       417     0     0 2017-07-06 12:14:26.016   \n",
       "4  592da096e4b0a4ee112b852a       290   709  1000 2017-07-06 12:07:12.875   \n",
       "\n",
       "                createdtm  inactivePeriod  memberPeriod  activeDay  \n",
       "0 2017-05-30 11:38:55.764               1            31          5  \n",
       "1 2017-05-30 11:39:07.470               1            31          5  \n",
       "2 2017-05-30 11:39:17.917               0            31          7  \n",
       "3 2017-05-30 11:40:16.498               1            31          5  \n",
       "4 2017-05-30 11:40:54.438               1            31          5  "
      ]
     },
     "execution_count": 22,
     "metadata": {},
     "output_type": "execute_result"
    }
   ],
   "source": [
    "X.head(5)"
   ]
  },
  {
   "cell_type": "code",
   "execution_count": 23,
   "metadata": {},
   "outputs": [
    {
     "data": {
      "image/png": "[encoded data removed]",
      "text/plain": [
       "<matplotlib.figure.Figure at 0xc6cec18>"
      ]
     },
     "metadata": {},
     "output_type": "display_data"
    },
    {
     "data": {
      "image/png": "[encoded data removed]",
      "text/plain": [
       "<matplotlib.figure.Figure at 0x103795f8>"
      ]
     },
     "metadata": {},
     "output_type": "display_data"
    }
   ],
   "source": [
    "sns.countplot(x=\"inactivePeriod\",data=X)\n",
    "plt.show()\n",
    "\n",
    "sns.countplot(x=\"activeDay\",data=X)\n",
    "plt.show()"
   ]
  },
  {
   "cell_type": "markdown",
   "metadata": {},
   "source": [
    "The bar charts show that most users use application only first day and leave. "
   ]
  },
  {
   "cell_type": "markdown",
   "metadata": {},
   "source": [
    "### 2.5 Label Dataset\n",
    "\n",
    "- y = 1 : Churn user, he/she has no any activities in the following week.\n",
    "- y = 0 : Non-churn user, he/she returns to application in the following week.\n",
    "\n",
    "Get user list from user activities in the next week "
   ]
  },
  {
   "cell_type": "code",
   "execution_count": 24,
   "metadata": {},
   "outputs": [
    {
     "name": "stdout",
     "output_type": "stream",
     "text": [
      "the first activity is : 2017-07-08 00:00:00.080000\n",
      "the most recent activity is : 2017-07-14 23:59:45.156000\n",
      "Test user list :  ['59391fbfe4b0a0f774fe022e', '592e1c65e4b09c162d70ac5b', '5945552ee4b0db45c711c290', '593e4481e4b06f7fcb9eabe4', '59561beee4b03f87dbd922d6']\n"
     ]
    }
   ],
   "source": [
    "#Define start and end date for next week\n",
    "nextStartDate = datetime.strptime(\"2017-07-08 00:00:00.000000\", '%Y-%m-%d %H:%M:%S.%f')\n",
    "nextEndDate = datetime.strptime(\"2017-07-15 00:00:00.000000\", '%Y-%m-%d %H:%M:%S.%f')\n",
    "\n",
    "#Filter activity within nextweek peiod from predefined date above\n",
    "nextWeekUserMerged = userMerged.loc[(userMerged['time_stamp2'] >= nextStartDate) & (userMerged['time_stamp2'] < nextEndDate)]\n",
    "print(\"the first activity is :\",min(nextWeekUserMerged.time_stamp2))\n",
    "print(\"the most recent activity is :\",max(nextWeekUserMerged.time_stamp2))\n",
    "\n",
    "#Get only user list within next week period\n",
    "nextWeekUserList = nextWeekUserMerged[[\"userid\"]].drop_duplicates()\n",
    "nextWeekUserList = nextWeekUserList[\"userid\"].tolist()\n",
    "print(\"Test user list : \",nextWeekUserList[0:5])"
   ]
  },
  {
   "cell_type": "markdown",
   "metadata": {},
   "source": [
    "- Assign y = 0 when user from the first week is also in the following week, 1 Otherwise"
   ]
  },
  {
   "cell_type": "code",
   "execution_count": 25,
   "metadata": {},
   "outputs": [
    {
     "data": {
      "text/html": [
       "<div>\n",
       "<style>\n",
       "    .dataframe thead tr:only-child th {\n",
       "        text-align: right;\n",
       "    }\n",
       "\n",
       "    .dataframe thead th {\n",
       "        text-align: left;\n",
       "    }\n",
       "\n",
       "    .dataframe tbody tr th {\n",
       "        vertical-align: top;\n",
       "    }\n",
       "</style>\n",
       "<table border=\"1\" class=\"dataframe\">\n",
       "  <thead>\n",
       "    <tr style=\"text-align: right;\">\n",
       "      <th></th>\n",
       "      <th>userid</th>\n",
       "      <th>totalAct</th>\n",
       "      <th>exp</th>\n",
       "      <th>coin</th>\n",
       "      <th>recentTime</th>\n",
       "      <th>createdtm</th>\n",
       "      <th>inactivePeriod</th>\n",
       "      <th>memberPeriod</th>\n",
       "      <th>activeDay</th>\n",
       "      <th>y</th>\n",
       "    </tr>\n",
       "  </thead>\n",
       "  <tbody>\n",
       "    <tr>\n",
       "      <th>0</th>\n",
       "      <td>592da01fe4b0a4ee112b84fb</td>\n",
       "      <td>311</td>\n",
       "      <td>3068</td>\n",
       "      <td>2012</td>\n",
       "      <td>2017-07-06 12:06:45.295</td>\n",
       "      <td>2017-05-30 11:38:55.764</td>\n",
       "      <td>1</td>\n",
       "      <td>31</td>\n",
       "      <td>5</td>\n",
       "      <td>1</td>\n",
       "    </tr>\n",
       "    <tr>\n",
       "      <th>1</th>\n",
       "      <td>592da02be4b09c162d708589</td>\n",
       "      <td>265</td>\n",
       "      <td>1513</td>\n",
       "      <td>1800</td>\n",
       "      <td>2017-07-06 12:08:26.112</td>\n",
       "      <td>2017-05-30 11:39:07.470</td>\n",
       "      <td>1</td>\n",
       "      <td>31</td>\n",
       "      <td>5</td>\n",
       "      <td>0</td>\n",
       "    </tr>\n",
       "    <tr>\n",
       "      <th>2</th>\n",
       "      <td>592da035e4b0a4ee112b8505</td>\n",
       "      <td>499</td>\n",
       "      <td>3285</td>\n",
       "      <td>4902</td>\n",
       "      <td>2017-07-07 17:03:38.790</td>\n",
       "      <td>2017-05-30 11:39:17.917</td>\n",
       "      <td>0</td>\n",
       "      <td>31</td>\n",
       "      <td>7</td>\n",
       "      <td>0</td>\n",
       "    </tr>\n",
       "    <tr>\n",
       "      <th>3</th>\n",
       "      <td>592da070e4b09c162d70859a</td>\n",
       "      <td>417</td>\n",
       "      <td>0</td>\n",
       "      <td>0</td>\n",
       "      <td>2017-07-06 12:14:26.016</td>\n",
       "      <td>2017-05-30 11:40:16.498</td>\n",
       "      <td>1</td>\n",
       "      <td>31</td>\n",
       "      <td>5</td>\n",
       "      <td>0</td>\n",
       "    </tr>\n",
       "    <tr>\n",
       "      <th>4</th>\n",
       "      <td>592da096e4b0a4ee112b852a</td>\n",
       "      <td>290</td>\n",
       "      <td>709</td>\n",
       "      <td>1000</td>\n",
       "      <td>2017-07-06 12:07:12.875</td>\n",
       "      <td>2017-05-30 11:40:54.438</td>\n",
       "      <td>1</td>\n",
       "      <td>31</td>\n",
       "      <td>5</td>\n",
       "      <td>0</td>\n",
       "    </tr>\n",
       "  </tbody>\n",
       "</table>\n",
       "</div>"
      ],
      "text/plain": [
       "                     userid  totalAct   exp  coin              recentTime  \\\n",
       "0  592da01fe4b0a4ee112b84fb       311  3068  2012 2017-07-06 12:06:45.295   \n",
       "1  592da02be4b09c162d708589       265  1513  1800 2017-07-06 12:08:26.112   \n",
       "2  592da035e4b0a4ee112b8505       499  3285  4902 2017-07-07 17:03:38.790   \n",
       "3  592da070e4b09c162d70859a       417     0     0 2017-07-06 12:14:26.016   \n",
       "4  592da096e4b0a4ee112b852a       290   709  1000 2017-07-06 12:07:12.875   \n",
       "\n",
       "                createdtm  inactivePeriod  memberPeriod  activeDay  y  \n",
       "0 2017-05-30 11:38:55.764               1            31          5  1  \n",
       "1 2017-05-30 11:39:07.470               1            31          5  0  \n",
       "2 2017-05-30 11:39:17.917               0            31          7  0  \n",
       "3 2017-05-30 11:40:16.498               1            31          5  0  \n",
       "4 2017-05-30 11:40:54.438               1            31          5  0  "
      ]
     },
     "execution_count": 25,
     "metadata": {},
     "output_type": "execute_result"
    }
   ],
   "source": [
    "X['y'] = np.where(X[\"userid\"].isin(nextWeekUserList),0 , 1)\n",
    "X.head(5)"
   ]
  },
  {
   "cell_type": "code",
   "execution_count": 26,
   "metadata": {},
   "outputs": [
    {
     "data": {
      "image/png": "[encoded data removed]",
      "text/plain": [
       "<matplotlib.figure.Figure at 0x10981780>"
      ]
     },
     "metadata": {},
     "output_type": "display_data"
    }
   ],
   "source": [
    "sns.countplot(x=\"y\",data=X,palette='hls')\n",
    "plt.show()"
   ]
  },
  {
   "cell_type": "markdown",
   "metadata": {},
   "source": [
    "As expected, most users are classified as churn because the active and inactive period mentioned previously."
   ]
  },
  {
   "cell_type": "markdown",
   "metadata": {},
   "source": [
    "### 2.6. Data Verification\n",
    "\n",
    "\n",
    "- Drop uncessary columns"
   ]
  },
  {
   "cell_type": "code",
   "execution_count": 27,
   "metadata": {},
   "outputs": [],
   "source": [
    "X.drop([\"userid\",\"recentTime\",\"createdtm\"], axis=1, inplace=True)"
   ]
  },
  {
   "cell_type": "markdown",
   "metadata": {},
   "source": [
    "- Check missing values"
   ]
  },
  {
   "cell_type": "code",
   "execution_count": 41,
   "metadata": {},
   "outputs": [
    {
     "data": {
      "text/plain": [
       "totalAct          0\n",
       "exp               0\n",
       "coin              0\n",
       "inactivePeriod    0\n",
       "memberPeriod      0\n",
       "activeDay         0\n",
       "dtype: int64"
      ]
     },
     "execution_count": 41,
     "metadata": {},
     "output_type": "execute_result"
    }
   ],
   "source": [
    "X.isnull().sum()"
   ]
  },
  {
   "cell_type": "markdown",
   "metadata": {},
   "source": [
    "- Check the independence between independent variables"
   ]
  },
  {
   "cell_type": "code",
   "execution_count": 29,
   "metadata": {},
   "outputs": [
    {
     "data": {
      "image/png": "[encoded data removed]",
      "text/plain": [
       "<matplotlib.figure.Figure at 0x10c50ba8>"
      ]
     },
     "metadata": {},
     "output_type": "display_data"
    }
   ],
   "source": [
    "sns.heatmap(X.corr())\n",
    "plt.show()"
   ]
  },
  {
   "cell_type": "markdown",
   "metadata": {},
   "source": [
    "The result shows total activities are dependent on exp features. However, the remaining features seem to be fine so we're going to use them for now."
   ]
  },
  {
   "cell_type": "markdown",
   "metadata": {},
   "source": [
    "- Exclude y from the X dataframe"
   ]
  },
  {
   "cell_type": "code",
   "execution_count": 30,
   "metadata": {},
   "outputs": [
    {
     "name": "stdout",
     "output_type": "stream",
     "text": [
      "   totalAct   exp  coin  inactivePeriod  memberPeriod  activeDay\n",
      "0       311  3068  2012               1            31          5\n",
      "1       265  1513  1800               1            31          5\n",
      "2       499  3285  4902               0            31          7\n",
      "3       417     0     0               1            31          5\n",
      "4       290   709  1000               1            31          5\n",
      "\n",
      " 0    1\n",
      "1    0\n",
      "2    0\n",
      "3    0\n",
      "4    0\n",
      "Name: y, dtype: int32\n"
     ]
    }
   ],
   "source": [
    "y = X.iloc[:,-1]\n",
    "X = X.iloc[:,0:-1]\n",
    "#Keep column names of training set.\n",
    "col_names = X.columns\n",
    "\n",
    "print(X.head(5))\n",
    "print(\"\\n\",y.head(5))"
   ]
  },
  {
   "cell_type": "markdown",
   "metadata": {},
   "source": [
    "- Normalizing each feature for preventing models from misbehaving"
   ]
  },
  {
   "cell_type": "code",
   "execution_count": 31,
   "metadata": {},
   "outputs": [
    {
     "data": {
      "text/html": [
       "<div>\n",
       "<style>\n",
       "    .dataframe thead tr:only-child th {\n",
       "        text-align: right;\n",
       "    }\n",
       "\n",
       "    .dataframe thead th {\n",
       "        text-align: left;\n",
       "    }\n",
       "\n",
       "    .dataframe tbody tr th {\n",
       "        vertical-align: top;\n",
       "    }\n",
       "</style>\n",
       "<table border=\"1\" class=\"dataframe\">\n",
       "  <thead>\n",
       "    <tr style=\"text-align: right;\">\n",
       "      <th></th>\n",
       "      <th>totalAct</th>\n",
       "      <th>exp</th>\n",
       "      <th>coin</th>\n",
       "      <th>inactivePeriod</th>\n",
       "      <th>memberPeriod</th>\n",
       "      <th>activeDay</th>\n",
       "    </tr>\n",
       "  </thead>\n",
       "  <tbody>\n",
       "    <tr>\n",
       "      <th>0</th>\n",
       "      <td>0.389479</td>\n",
       "      <td>0.412130</td>\n",
       "      <td>0.353287</td>\n",
       "      <td>-0.795394</td>\n",
       "      <td>1.415386</td>\n",
       "      <td>1.268071</td>\n",
       "    </tr>\n",
       "    <tr>\n",
       "      <th>1</th>\n",
       "      <td>0.274714</td>\n",
       "      <td>0.094399</td>\n",
       "      <td>0.231978</td>\n",
       "      <td>-0.795394</td>\n",
       "      <td>1.415386</td>\n",
       "      <td>1.268071</td>\n",
       "    </tr>\n",
       "    <tr>\n",
       "      <th>2</th>\n",
       "      <td>0.858519</td>\n",
       "      <td>0.456469</td>\n",
       "      <td>2.006987</td>\n",
       "      <td>-1.201725</td>\n",
       "      <td>1.415386</td>\n",
       "      <td>2.281389</td>\n",
       "    </tr>\n",
       "    <tr>\n",
       "      <th>3</th>\n",
       "      <td>0.653938</td>\n",
       "      <td>-0.214750</td>\n",
       "      <td>-0.798009</td>\n",
       "      <td>-0.795394</td>\n",
       "      <td>1.415386</td>\n",
       "      <td>1.268071</td>\n",
       "    </tr>\n",
       "    <tr>\n",
       "      <th>4</th>\n",
       "      <td>0.337086</td>\n",
       "      <td>-0.069881</td>\n",
       "      <td>-0.225794</td>\n",
       "      <td>-0.795394</td>\n",
       "      <td>1.415386</td>\n",
       "      <td>1.268071</td>\n",
       "    </tr>\n",
       "  </tbody>\n",
       "</table>\n",
       "</div>"
      ],
      "text/plain": [
       "   totalAct       exp      coin  inactivePeriod  memberPeriod  activeDay\n",
       "0  0.389479  0.412130  0.353287       -0.795394      1.415386   1.268071\n",
       "1  0.274714  0.094399  0.231978       -0.795394      1.415386   1.268071\n",
       "2  0.858519  0.456469  2.006987       -1.201725      1.415386   2.281389\n",
       "3  0.653938 -0.214750 -0.798009       -0.795394      1.415386   1.268071\n",
       "4  0.337086 -0.069881 -0.225794       -0.795394      1.415386   1.268071"
      ]
     },
     "execution_count": 31,
     "metadata": {},
     "output_type": "execute_result"
    }
   ],
   "source": [
    "from sklearn.preprocessing import StandardScaler\n",
    "scaler = StandardScaler()\n",
    "X = scaler.fit_transform(X)\n",
    "\n",
    "#Form the dataframe again after they have been scaled from the previous step\n",
    "X = pd.DataFrame(X,columns=col_names)\n",
    "X.head(5)"
   ]
  },
  {
   "cell_type": "markdown",
   "metadata": {},
   "source": [
    "## 3. Logistic Regression \n",
    "\n",
    "- Split the data into training and test sets\n",
    "- Check out training data"
   ]
  },
  {
   "cell_type": "code",
   "execution_count": 32,
   "metadata": {},
   "outputs": [
    {
     "data": {
      "text/plain": [
       "(935, 6)"
      ]
     },
     "execution_count": 32,
     "metadata": {},
     "output_type": "execute_result"
    }
   ],
   "source": [
    "X_train, X_test, y_train, y_test = train_test_split(X, y, random_state=0)\n",
    "X_train.shape"
   ]
  },
  {
   "cell_type": "markdown",
   "metadata": {},
   "source": [
    "- Fit logistic regression to the training set"
   ]
  },
  {
   "cell_type": "code",
   "execution_count": 33,
   "metadata": {
    "scrolled": false
   },
   "outputs": [
    {
     "data": {
      "text/plain": [
       "LogisticRegression(C=1.0, class_weight=None, dual=False, fit_intercept=True,\n",
       "          intercept_scaling=1, max_iter=100, multi_class='ovr', n_jobs=1,\n",
       "          penalty='l2', random_state=0, solver='liblinear', tol=0.0001,\n",
       "          verbose=0, warm_start=False)"
      ]
     },
     "execution_count": 33,
     "metadata": {},
     "output_type": "execute_result"
    }
   ],
   "source": [
    "classifier = LogisticRegression(random_state=0)\n",
    "classifier.fit(X_train,y_train)"
   ]
  },
  {
   "cell_type": "markdown",
   "metadata": {},
   "source": [
    "## 4. Evaluating Model\n",
    "\n",
    "### 4.1 Predicting the test set results and create confusion matrix"
   ]
  },
  {
   "cell_type": "code",
   "execution_count": 34,
   "metadata": {},
   "outputs": [
    {
     "data": {
      "image/png": "[encoded data removed]",
      "text/plain": [
       "<matplotlib.figure.Figure at 0xc6f4320>"
      ]
     },
     "metadata": {},
     "output_type": "display_data"
    }
   ],
   "source": [
    "y_pred = classifier.predict(X_test)\n",
    "from sklearn.metrics import confusion_matrix\n",
    "confusion_matrix = confusion_matrix(y_test, y_pred)\n",
    "sns.set(font_scale=2)#for label size\n",
    "\n",
    "plt.figure(figsize = (10,7))\n",
    "confusion_plot = sns.heatmap(confusion_matrix, annot=True,fmt='g')\n",
    "\n",
    "confusion_plot.set(xlabel='True Class', ylabel='Predicted Class')\n",
    "\n",
    "plt.show()\n"
   ]
  },
  {
   "cell_type": "code",
   "execution_count": 35,
   "metadata": {},
   "outputs": [
    {
     "name": "stdout",
     "output_type": "stream",
     "text": [
      "Accuracy of logistic regression classifier on test set: 0.82\n"
     ]
    }
   ],
   "source": [
    "print('Accuracy of logistic regression classifier on test set: {:.2f}'.format(classifier.score(X_test, y_test)))"
   ]
  },
  {
   "cell_type": "markdown",
   "metadata": {},
   "source": [
    "### 4.2. Compute precision, recall, F-measure and support"
   ]
  },
  {
   "cell_type": "code",
   "execution_count": 36,
   "metadata": {},
   "outputs": [
    {
     "name": "stdout",
     "output_type": "stream",
     "text": [
      "             precision    recall  f1-score   support\n",
      "\n",
      "          0       0.83      0.71      0.76       130\n",
      "          1       0.81      0.90      0.85       182\n",
      "\n",
      "avg / total       0.82      0.82      0.81       312\n",
      "\n"
     ]
    }
   ],
   "source": [
    "from sklearn.metrics import classification_report\n",
    "print(classification_report(y_test,y_pred))"
   ]
  },
  {
   "cell_type": "markdown",
   "metadata": {},
   "source": [
    "### 4.3. Coefficients"
   ]
  },
  {
   "cell_type": "code",
   "execution_count": 37,
   "metadata": {},
   "outputs": [
    {
     "name": "stdout",
     "output_type": "stream",
     "text": [
      "The coefficient for totalAct is -1.1192172582121305\n",
      "The coefficient for exp is -0.09104972981248576\n",
      "The coefficient for coin is -0.4022880677777478\n",
      "The coefficient for inactivePeriod is 0.4186963903512042\n",
      "The coefficient for memberPeriod is -0.2134103408210591\n",
      "The coefficient for activeDay is -0.7269480904461145\n"
     ]
    }
   ],
   "source": [
    "for idx, col_name in enumerate(X_train.columns):\n",
    "    print(\"The coefficient for {} is {}\".format(col_name, classifier.coef_[0][idx]))"
   ]
  },
  {
   "cell_type": "markdown",
   "metadata": {},
   "source": []
  },
  {
   "cell_type": "code",
   "execution_count": null,
   "metadata": {
    "scrolled": true
   },
   "outputs": [],
   "source": []
  },
  {
   "cell_type": "markdown",
   "metadata": {},
   "source": [
    "\n"
   ]
  },
  {
   "cell_type": "code",
   "execution_count": null,
   "metadata": {
    "collapsed": true
   },
   "outputs": [],
   "source": []
  }
 ],
 "metadata": {
  "kernelspec": {
   "display_name": "Python 3",
   "language": "python",
   "name": "python3"
  },
  "language_info": {
   "codemirror_mode": {
    "name": "ipython",
    "version": 3
   },
   "file_extension": ".py",
   "mimetype": "text/x-python",
   "name": "python",
   "nbconvert_exporter": "python",
   "pygments_lexer": "ipython3",
   "version": "3.6.1"
  }
 },
 "nbformat": 4,
 "nbformat_minor": 2
}
