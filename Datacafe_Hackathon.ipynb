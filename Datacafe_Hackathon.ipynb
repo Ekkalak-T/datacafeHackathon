{
 "cells": [
  {
   "cell_type": "markdown",
   "metadata": {},
   "source": [
    "# Predicting mobile app user churn\n",
    "\n",
    "\n",
    "\n",
    "## Introduction\n",
    "\n",
    "This project was created when I attended a hackathon event which was held in Bangkok. The main objective is to find a way to increase daily active users(DAU) on mobile application. \n",
    "\n",
    "Here is a quick overview what the application can do.\n",
    "- It is the application for fans to follow their favorite artists. They can see feed of artists which is retrieved from facebook and instagram. \n",
    "\n",
    "\n",
    "- Users are challenged by collecting exp and coins. They can use them for exchanging rewards like a concert ticket and an exclusive video for the top fans.\n",
    "\n",
    "\n",
    "- Exp and coins will be given when \n",
    "  - Users participate in the feed such as LIKE or COMMENT\n",
    "  - Users win any missions by answering quizzes\n",
    "\n",
    "\n",
    "## Data Explanation\n",
    "Dataset is given in CSV format according to relational database. So we need to merge or join some dataframes to create a final useful dataset. Provided dataset can be briefly summarized into categories below.\n",
    "\n",
    "### Dynamic data\n",
    "- User activities\n",
    "\n",
    "### Static data\n",
    "- User information\n",
    "- Feed information\n",
    "- Artist information\n",
    "- Mission information\n",
    "\n",
    "From the business objective, I've decided to use <b>churn prediction</b> which identifies and targets users who are likely to stop using application. These predictive capabilities lead to new insights into user behavior. Business users can then build new engagement strategies to the right customers.\n",
    "\n",
    "Churn prediction usually depends on user activities or behavior. So we will primarily focus on dynamic data. Here is a data dictionary for user activities table. We will need to extract and create new features from this. Features need to be selected carefully as they need to be meaningful and having an influence on model. \n",
    "\n",
    "- userid\tvarchar(255)\t\t\n",
    "- action\tvarchar(255)\t\t\n",
    "- objecttype\tvarchar(255)\t\t\n",
    "- objectid\tvarchar(65535)\t\t\n",
    "- ads_on_page\tvarchar(255)\t\n",
    "- sponsorid\tvarchar(255)\t\t\n",
    "- aritstid\tvarchar(255)\t\t\n",
    "- time_stamp\ttimestamp\t\t\n",
    "- exp\tint\n",
    "- coin\tint\t\n",
    "\n",
    "\n",
    "In our case user activities are  given in a period of 25 days. We will use user activities in the first week to predict whether they will return to application in the following week.\n",
    "\n",
    "After spending a lot of time to extract useful features, there are six features below \n",
    "\n",
    "- Total number of activities\n",
    "- Total exp\n",
    "- Total coins\n",
    "- Inactive period\n",
    "- Active days\n",
    "- Membership period\n",
    "\n",
    "In data preprocessing step will give you more detail how to extract these features from provided dataset\n",
    "\n",
    "### The process can be divided into 4 steps below.\n",
    "\n",
    "1. Data exploration : Determine null values\n",
    "2. Data preprocessing : Create 6 features, verifying multicollinearity and normalization\n",
    "3. Logistic Regression Model\n",
    "4. Evaluate and interpret model : Confusion matrix, F1 score and coefficients\n",
    "\n",
    "\n",
    "## 1. Data Exploration\n",
    "\n",
    "- Import necessary packages"
   ]
  },
  {
   "cell_type": "code",
   "execution_count": 1,
   "metadata": {
    "collapsed": true
   },
   "outputs": [],
   "source": [
    "import pandas as pd\n",
    "import numpy as np\n",
    "import matplotlib.pyplot as plt\n",
    "\n",
    "from sklearn.linear_model import LogisticRegression\n",
    "from sklearn.model_selection import train_test_split\n",
    "\n",
    "import seaborn as sns\n",
    "sns.set(style=\"white\")\n",
    "sns.set(style=\"whitegrid\", color_codes=True)"
   ]
  },
  {
   "cell_type": "markdown",
   "metadata": {},
   "source": [
    "- Read user activity file (application_txn.csv) for further analysis. We also need an created time from (user.csv) for calculating membership period feature"
   ]
  },
  {
   "cell_type": "code",
   "execution_count": 2,
   "metadata": {},
   "outputs": [
    {
     "name": "stdout",
     "output_type": "stream",
     "text": [
      "(716814, 9)\n"
     ]
    },
    {
     "data": {
      "text/html": [
       "<div>\n",
       "<style>\n",
       "    .dataframe thead tr:only-child th {\n",
       "        text-align: right;\n",
       "    }\n",
       "\n",
       "    .dataframe thead th {\n",
       "        text-align: left;\n",
       "    }\n",
       "\n",
       "    .dataframe tbody tr th {\n",
       "        vertical-align: top;\n",
       "    }\n",
       "</style>\n",
       "<table border=\"1\" class=\"dataframe\">\n",
       "  <thead>\n",
       "    <tr style=\"text-align: right;\">\n",
       "      <th></th>\n",
       "      <th>userid</th>\n",
       "      <th>action</th>\n",
       "      <th>objecttype</th>\n",
       "      <th>time_stamp2</th>\n",
       "      <th>exp</th>\n",
       "      <th>coin</th>\n",
       "      <th>gender</th>\n",
       "      <th>birth_year</th>\n",
       "      <th>createdtm</th>\n",
       "    </tr>\n",
       "  </thead>\n",
       "  <tbody>\n",
       "    <tr>\n",
       "      <th>0</th>\n",
       "      <td>59391fbfe4b0a0f774fe022e</td>\n",
       "      <td>VIEW</td>\n",
       "      <td>MISSIONPAGE</td>\n",
       "      <td>2017-07-01 00:04:22.842</td>\n",
       "      <td>0</td>\n",
       "      <td>0</td>\n",
       "      <td>female</td>\n",
       "      <td>2529</td>\n",
       "      <td>2017-06-08 04:58:23.262</td>\n",
       "    </tr>\n",
       "    <tr>\n",
       "      <th>1</th>\n",
       "      <td>59391fbfe4b0a0f774fe022e</td>\n",
       "      <td>VIEW</td>\n",
       "      <td>MISSIONPAGE</td>\n",
       "      <td>2017-07-01 13:54:08.707</td>\n",
       "      <td>0</td>\n",
       "      <td>0</td>\n",
       "      <td>female</td>\n",
       "      <td>2529</td>\n",
       "      <td>2017-06-08 04:58:23.262</td>\n",
       "    </tr>\n",
       "    <tr>\n",
       "      <th>2</th>\n",
       "      <td>59391fbfe4b0a0f774fe022e</td>\n",
       "      <td>VIEW</td>\n",
       "      <td>MISSIONPAGE</td>\n",
       "      <td>2017-07-01 00:02:00.242</td>\n",
       "      <td>0</td>\n",
       "      <td>0</td>\n",
       "      <td>female</td>\n",
       "      <td>2529</td>\n",
       "      <td>2017-06-08 04:58:23.262</td>\n",
       "    </tr>\n",
       "    <tr>\n",
       "      <th>3</th>\n",
       "      <td>59391fbfe4b0a0f774fe022e</td>\n",
       "      <td>VIEW</td>\n",
       "      <td>MISSIONPAGE</td>\n",
       "      <td>2017-07-01 20:19:15.048</td>\n",
       "      <td>0</td>\n",
       "      <td>0</td>\n",
       "      <td>female</td>\n",
       "      <td>2529</td>\n",
       "      <td>2017-06-08 04:58:23.262</td>\n",
       "    </tr>\n",
       "    <tr>\n",
       "      <th>4</th>\n",
       "      <td>59391fbfe4b0a0f774fe022e</td>\n",
       "      <td>VIEW</td>\n",
       "      <td>MISSIONPAGE</td>\n",
       "      <td>2017-07-01 20:34:37.440</td>\n",
       "      <td>0</td>\n",
       "      <td>0</td>\n",
       "      <td>female</td>\n",
       "      <td>2529</td>\n",
       "      <td>2017-06-08 04:58:23.262</td>\n",
       "    </tr>\n",
       "  </tbody>\n",
       "</table>\n",
       "</div>"
      ],
      "text/plain": [
       "                     userid action   objecttype              time_stamp2  exp  \\\n",
       "0  59391fbfe4b0a0f774fe022e   VIEW  MISSIONPAGE  2017-07-01 00:04:22.842    0   \n",
       "1  59391fbfe4b0a0f774fe022e   VIEW  MISSIONPAGE  2017-07-01 13:54:08.707    0   \n",
       "2  59391fbfe4b0a0f774fe022e   VIEW  MISSIONPAGE  2017-07-01 00:02:00.242    0   \n",
       "3  59391fbfe4b0a0f774fe022e   VIEW  MISSIONPAGE  2017-07-01 20:19:15.048    0   \n",
       "4  59391fbfe4b0a0f774fe022e   VIEW  MISSIONPAGE  2017-07-01 20:34:37.440    0   \n",
       "\n",
       "   coin  gender birth_year                createdtm  \n",
       "0     0  female       2529  2017-06-08 04:58:23.262  \n",
       "1     0  female       2529  2017-06-08 04:58:23.262  \n",
       "2     0  female       2529  2017-06-08 04:58:23.262  \n",
       "3     0  female       2529  2017-06-08 04:58:23.262  \n",
       "4     0  female       2529  2017-06-08 04:58:23.262  "
      ]
     },
     "execution_count": 2,
     "metadata": {},
     "output_type": "execute_result"
    }
   ],
   "source": [
    "#Import user activities information\n",
    "userActivity = pd.read_csv('DataSource/application_txn.csv',usecols=[\"userid\",\"objecttype\",\"action\",\"time_stamp2\",\"exp\",\"coin\"])\n",
    "userInformation = pd.read_csv('DataSource/user.csv',usecols=['userid','gender','birth_year','createdtm'])\n",
    "\n",
    "#Merge between user activity and information table\n",
    "userMerged = pd.merge(userActivity,userInformation, on='userid')\n",
    "#Show size of dataframe and previewing some records\n",
    "print(userMerged.shape)\n",
    "userMerged.head(5)"
   ]
  },
  {
   "cell_type": "markdown",
   "metadata": {},
   "source": [
    "- Let's see a period of provided dataset"
   ]
  },
  {
   "cell_type": "code",
   "execution_count": 3,
   "metadata": {},
   "outputs": [
    {
     "name": "stdout",
     "output_type": "stream",
     "text": [
      "Start date : 2017-07-01 00:00:01.688000\n",
      "End date: 2017-07-25 23:59:58.382000\n",
      "Period: 25 days\n"
     ]
    }
   ],
   "source": [
    "#Find a period of all activities\n",
    "from datetime import datetime\n",
    "\n",
    "userMerged['time_stamp2'] = pd.to_datetime(userMerged['time_stamp2'], format = '%Y-%m-%d %H:%M:%S.%f')\n",
    "\n",
    "startDate = min(userMerged.time_stamp2)\n",
    "endDate = max(userMerged.time_stamp2)\n",
    "print(\"Start date :\",startDate)\n",
    "print(\"End date:\", endDate)\n",
    "print(\"Period:\", (endDate-startDate).days+1, \"days\")\n"
   ]
  },
  {
   "cell_type": "markdown",
   "metadata": {},
   "source": [
    "- Exclude all activites related to users who create their account after start date. Because their activites might not enough for training \n"
   ]
  },
  {
   "cell_type": "code",
   "execution_count": 4,
   "metadata": {},
   "outputs": [
    {
     "name": "stdout",
     "output_type": "stream",
     "text": [
      "the latest account was created at: 2017-06-30 12:53:09.255000\n"
     ]
    }
   ],
   "source": [
    "userMerged['createdtm'] = pd.to_datetime(userMerged['createdtm'], format = '%Y-%m-%d %H:%M:%S.%f')\n",
    "userMerged = userMerged[userMerged[\"createdtm\"] < startDate]\n",
    "\n",
    "#Verify whether the latest account was created before the startDate\n",
    "print(\"the latest account was created at:\",max(userMerged.createdtm))"
   ]
  },
  {
   "cell_type": "markdown",
   "metadata": {},
   "source": [
    "- Define timeline in this case we want to limit the activities within only 1 week (from 2017-07-01 - 2017-07-07)"
   ]
  },
  {
   "cell_type": "code",
   "execution_count": 5,
   "metadata": {},
   "outputs": [
    {
     "name": "stdout",
     "output_type": "stream",
     "text": [
      "the most recent activity is : 2017-07-07 23:59:50.638000\n"
     ]
    },
    {
     "data": {
      "text/plain": [
       "(193147, 9)"
      ]
     },
     "execution_count": 5,
     "metadata": {},
     "output_type": "execute_result"
    }
   ],
   "source": [
    "endDate = datetime.strptime(\"2017-07-08 00:00:00.000000\", '%Y-%m-%d %H:%M:%S.%f')\n",
    "firstWeekUserMerged = userMerged[userMerged['time_stamp2'] < endDate]\n",
    "print(\"the most recent activity is :\",max(firstWeekUserMerged.time_stamp2))\n",
    "\n",
    "firstWeekUserMerged.shape\n"
   ]
  },
  {
   "cell_type": "code",
   "execution_count": 6,
   "metadata": {},
   "outputs": [
    {
     "data": {
      "text/plain": [
       "userid             0\n",
       "action             0\n",
       "objecttype     31024\n",
       "time_stamp2        0\n",
       "exp                0\n",
       "coin               0\n",
       "gender          2194\n",
       "birth_year     17680\n",
       "createdtm          0\n",
       "dtype: int64"
      ]
     },
     "execution_count": 6,
     "metadata": {},
     "output_type": "execute_result"
    }
   ],
   "source": [
    "#find out which column has any missing values\n",
    "firstWeekUserMerged.isnull().sum()"
   ]
  },
  {
   "cell_type": "code",
   "execution_count": 7,
   "metadata": {},
   "outputs": [
    {
     "data": {
      "text/plain": [
       "userid             0\n",
       "action             0\n",
       "objecttype     31024\n",
       "time_stamp2        0\n",
       "exp                0\n",
       "coin               0\n",
       "createdtm          0\n",
       "dtype: int64"
      ]
     },
     "execution_count": 7,
     "metadata": {},
     "output_type": "execute_result"
    }
   ],
   "source": [
    "#Because gender and age of customers are static infomation which might not related to our case, we exclude them out\n",
    "firstWeekUserMerged = firstWeekUserMerged.drop([\"gender\",\"birth_year\"], axis=1)\n",
    "firstWeekUserMerged.isnull().sum()"
   ]
  },
  {
   "cell_type": "code",
   "execution_count": 8,
   "metadata": {},
   "outputs": [
    {
     "data": {
      "text/html": [
       "<div>\n",
       "<style>\n",
       "    .dataframe thead tr:only-child th {\n",
       "        text-align: right;\n",
       "    }\n",
       "\n",
       "    .dataframe thead th {\n",
       "        text-align: left;\n",
       "    }\n",
       "\n",
       "    .dataframe tbody tr th {\n",
       "        vertical-align: top;\n",
       "    }\n",
       "</style>\n",
       "<table border=\"1\" class=\"dataframe\">\n",
       "  <thead>\n",
       "    <tr style=\"text-align: right;\">\n",
       "      <th></th>\n",
       "      <th>userid</th>\n",
       "      <th>action</th>\n",
       "      <th>objecttype</th>\n",
       "      <th>time_stamp2</th>\n",
       "      <th>exp</th>\n",
       "      <th>coin</th>\n",
       "      <th>createdtm</th>\n",
       "    </tr>\n",
       "  </thead>\n",
       "  <tbody>\n",
       "    <tr>\n",
       "      <th>60</th>\n",
       "      <td>59391fbfe4b0a0f774fe022e</td>\n",
       "      <td>APPIN</td>\n",
       "      <td>NaN</td>\n",
       "      <td>2017-07-01 20:28:41.538</td>\n",
       "      <td>0</td>\n",
       "      <td>0</td>\n",
       "      <td>2017-06-08 04:58:23.262</td>\n",
       "    </tr>\n",
       "    <tr>\n",
       "      <th>70</th>\n",
       "      <td>59391fbfe4b0a0f774fe022e</td>\n",
       "      <td>APPIN</td>\n",
       "      <td>NaN</td>\n",
       "      <td>2017-07-01 20:19:14.939</td>\n",
       "      <td>0</td>\n",
       "      <td>0</td>\n",
       "      <td>2017-06-08 04:58:23.262</td>\n",
       "    </tr>\n",
       "    <tr>\n",
       "      <th>80</th>\n",
       "      <td>59391fbfe4b0a0f774fe022e</td>\n",
       "      <td>APPOUT</td>\n",
       "      <td>NaN</td>\n",
       "      <td>2017-07-01 13:47:50.472</td>\n",
       "      <td>0</td>\n",
       "      <td>0</td>\n",
       "      <td>2017-06-08 04:58:23.262</td>\n",
       "    </tr>\n",
       "    <tr>\n",
       "      <th>84</th>\n",
       "      <td>59391fbfe4b0a0f774fe022e</td>\n",
       "      <td>APPOUT</td>\n",
       "      <td>NaN</td>\n",
       "      <td>2017-07-01 20:34:58.173</td>\n",
       "      <td>0</td>\n",
       "      <td>0</td>\n",
       "      <td>2017-06-08 04:58:23.262</td>\n",
       "    </tr>\n",
       "    <tr>\n",
       "      <th>93</th>\n",
       "      <td>59391fbfe4b0a0f774fe022e</td>\n",
       "      <td>APPIN</td>\n",
       "      <td>NaN</td>\n",
       "      <td>2017-07-01 13:54:06.912</td>\n",
       "      <td>0</td>\n",
       "      <td>0</td>\n",
       "      <td>2017-06-08 04:58:23.262</td>\n",
       "    </tr>\n",
       "  </tbody>\n",
       "</table>\n",
       "</div>"
      ],
      "text/plain": [
       "                      userid  action objecttype             time_stamp2  exp  \\\n",
       "60  59391fbfe4b0a0f774fe022e   APPIN        NaN 2017-07-01 20:28:41.538    0   \n",
       "70  59391fbfe4b0a0f774fe022e   APPIN        NaN 2017-07-01 20:19:14.939    0   \n",
       "80  59391fbfe4b0a0f774fe022e  APPOUT        NaN 2017-07-01 13:47:50.472    0   \n",
       "84  59391fbfe4b0a0f774fe022e  APPOUT        NaN 2017-07-01 20:34:58.173    0   \n",
       "93  59391fbfe4b0a0f774fe022e   APPIN        NaN 2017-07-01 13:54:06.912    0   \n",
       "\n",
       "    coin               createdtm  \n",
       "60     0 2017-06-08 04:58:23.262  \n",
       "70     0 2017-06-08 04:58:23.262  \n",
       "80     0 2017-06-08 04:58:23.262  \n",
       "84     0 2017-06-08 04:58:23.262  \n",
       "93     0 2017-06-08 04:58:23.262  "
      ]
     },
     "execution_count": 8,
     "metadata": {},
     "output_type": "execute_result"
    }
   ],
   "source": [
    "#Check records where objecttype == null\n",
    "firstWeekUserMerged[firstWeekUserMerged.objecttype.isnull()].head(5)"
   ]
  },
  {
   "cell_type": "markdown",
   "metadata": {},
   "source": [
    "They are open and close application activities which are not associated to any objects like feeds or artists. We will include them as well by counting them as an one activity."
   ]
  },
  {
   "cell_type": "code",
   "execution_count": 9,
   "metadata": {},
   "outputs": [
    {
     "data": {
      "image/png": "iVBORw0KGgoAAAANSUhEUgAAAkEAAAFXCAYAAAClY5q2AAAABHNCSVQICAgIfAhkiAAAAAlwSFlz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\nkBBCCCG0JCVICCGEEFqSEiSEEEIILf0JQhg31iYQA04AAAAASUVORK5CYII=\n",
      "text/plain": [
       "<matplotlib.figure.Figure at 0x4e170f0>"
      ]
     },
     "metadata": {},
     "output_type": "display_data"
    }
   ],
   "source": [
    "#Review histrogram of customer actions\n",
    "sns.countplot(y=\"action\",data=firstWeekUserMerged)\n",
    "plt.show()"
   ]
  },
  {
   "cell_type": "code",
   "execution_count": 10,
   "metadata": {},
   "outputs": [
    {
     "data": {
      "image/png": "iVBORw0KGgoAAAANSUhEUgAAAlwAAAFXCAYAAAB3M5DuAAAABHNCSVQICAgIfAhkiAAAAAlwSFlz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\nXCIiIiJ2poRLRERExM6UcImIiIjY2f8DAALgfSojSRsAAAAASUVORK5CYII=\n",
      "text/plain": [
       "<matplotlib.figure.Figure at 0xbf2e2b0>"
      ]
     },
     "metadata": {},
     "output_type": "display_data"
    }
   ],
   "source": [
    "#Review histrogram of customer activities\n",
    "sns.countplot(y=\"objecttype\",data=firstWeekUserMerged)\n",
    "plt.show()"
   ]
  },
  {
   "cell_type": "markdown",
   "metadata": {},
   "source": [
    "Check the number of users. We will use it to cross check with dimension of final dataset "
   ]
  },
  {
   "cell_type": "code",
   "execution_count": 11,
   "metadata": {},
   "outputs": [
    {
     "name": "stdout",
     "output_type": "stream",
     "text": [
      "The number of users is : 1247\n"
     ]
    }
   ],
   "source": [
    "#Review number of users\n",
    "numUsers = firstWeekUserMerged[['userid']].drop_duplicates().count()\n",
    "print(\"The number of users is :\",int(numUsers))"
   ]
  },
  {
   "cell_type": "markdown",
   "metadata": {},
   "source": [
    "## 2. Data Preprocessing\n",
    "\n",
    "- Provided user activities are just customer transactions where there are multiple user records with action type and timestamp columns. \n",
    "- We need to aggregate them into single user record then create new six meaningful feature below. \n",
    "\n",
    "\n",
    "\n",
    "    - Total number of activities : Count number of activities\n",
    "    - Total exp : Sum total exp\n",
    "    - Total coins : Sum total coins \n",
    "    - Inactive period : Number of days from the lastest activity to end of the week\n",
    "    - Active days : Number of days that users have any activities\n",
    "    - Membership period : Number of days since created account until start of the week\n",
    "    - y :  y = 1 or churn customer when he/she still has activities in the next week, 0 otherwise\n",
    "\n",
    "\n",
    "Note. All features are grouped by each user \n",
    "\n",
    "#### Inactive, active, membership period and y are represented by images below\n",
    "\n",
<<<<<<< HEAD
    "\n",
    "![title](images/timeline.png)\n"
=======
    "<img src=\"images\timeline.png\">\n"
>>>>>>> 56e4b7a2b15d581ec0ea37b5092e1c584fb89f72
   ]
  },
  {
   "cell_type": "markdown",
   "metadata": {},
   "source": [
    "\n",
    "### 2.1. Create total number of activities feature\n",
    "- We can use groupby function from pandas module to count the number of activities by user. \n",
    "- Before moving to next step, let's assure statement of number of users it should be the same as the previous step."
   ]
  },
  {
   "cell_type": "code",
   "execution_count": 12,
   "metadata": {},
   "outputs": [
    {
     "name": "stdout",
     "output_type": "stream",
     "text": [
      "                     userid  totalAct\n",
      "0  592da01fe4b0a4ee112b84fb       311\n",
      "1  592da02be4b09c162d708589       265\n",
      "2  592da035e4b0a4ee112b8505       499\n",
      "3  592da070e4b09c162d70859a       417\n",
      "4  592da096e4b0a4ee112b852a       290\n",
      "(1247, 2)\n"
     ]
    }
   ],
   "source": [
    "X = firstWeekUserMerged.groupby('userid')[\"action\"].count().reset_index(name=\"totalAct\")\n",
    "print(X.head(5))\n",
    "print(X.shape)\n",
    "assert X.shape[0], numUsers"
   ]
  },
  {
   "cell_type": "markdown",
   "metadata": {},
   "source": [
    "### 2.2. Create total exp and coin feature"
   ]
  },
  {
   "cell_type": "code",
   "execution_count": 13,
   "metadata": {},
   "outputs": [
    {
     "name": "stdout",
     "output_type": "stream",
     "text": [
      "                     userid   exp  coin\n",
      "0  592da01fe4b0a4ee112b84fb  3068  2012\n",
      "1  592da02be4b09c162d708589  1513  1800\n",
      "2  592da035e4b0a4ee112b8505  3285  4902\n",
      "3  592da070e4b09c162d70859a     0     0\n",
      "4  592da096e4b0a4ee112b852a   709  1000\n",
      "(1247, 3)\n"
     ]
    }
   ],
   "source": [
    "expAndCoinByUser = firstWeekUserMerged.groupby('userid')[\"exp\",\"coin\"].sum().reset_index()\n",
    "print(expAndCoinByUser.head(5))\n",
    "print(expAndCoinByUser.shape)"
   ]
  },
  {
   "cell_type": "markdown",
   "metadata": {},
   "source": [
    "- We then store the result into the final dataset and add other features into it by using userid as a key. "
   ]
  },
  {
   "cell_type": "code",
   "execution_count": 14,
   "metadata": {},
   "outputs": [
    {
     "data": {
      "text/html": [
       "<div>\n",
       "<style>\n",
       "    .dataframe thead tr:only-child th {\n",
       "        text-align: right;\n",
       "    }\n",
       "\n",
       "    .dataframe thead th {\n",
       "        text-align: left;\n",
       "    }\n",
       "\n",
       "    .dataframe tbody tr th {\n",
       "        vertical-align: top;\n",
       "    }\n",
       "</style>\n",
       "<table border=\"1\" class=\"dataframe\">\n",
       "  <thead>\n",
       "    <tr style=\"text-align: right;\">\n",
       "      <th></th>\n",
       "      <th>userid</th>\n",
       "      <th>totalAct</th>\n",
       "      <th>exp</th>\n",
       "      <th>coin</th>\n",
       "    </tr>\n",
       "  </thead>\n",
       "  <tbody>\n",
       "    <tr>\n",
       "      <th>0</th>\n",
       "      <td>592da01fe4b0a4ee112b84fb</td>\n",
       "      <td>311</td>\n",
       "      <td>3068</td>\n",
       "      <td>2012</td>\n",
       "    </tr>\n",
       "    <tr>\n",
       "      <th>1</th>\n",
       "      <td>592da02be4b09c162d708589</td>\n",
       "      <td>265</td>\n",
       "      <td>1513</td>\n",
       "      <td>1800</td>\n",
       "    </tr>\n",
       "    <tr>\n",
       "      <th>2</th>\n",
       "      <td>592da035e4b0a4ee112b8505</td>\n",
       "      <td>499</td>\n",
       "      <td>3285</td>\n",
       "      <td>4902</td>\n",
       "    </tr>\n",
       "    <tr>\n",
       "      <th>3</th>\n",
       "      <td>592da070e4b09c162d70859a</td>\n",
       "      <td>417</td>\n",
       "      <td>0</td>\n",
       "      <td>0</td>\n",
       "    </tr>\n",
       "    <tr>\n",
       "      <th>4</th>\n",
       "      <td>592da096e4b0a4ee112b852a</td>\n",
       "      <td>290</td>\n",
       "      <td>709</td>\n",
       "      <td>1000</td>\n",
       "    </tr>\n",
       "  </tbody>\n",
       "</table>\n",
       "</div>"
      ],
      "text/plain": [
       "                     userid  totalAct   exp  coin\n",
       "0  592da01fe4b0a4ee112b84fb       311  3068  2012\n",
       "1  592da02be4b09c162d708589       265  1513  1800\n",
       "2  592da035e4b0a4ee112b8505       499  3285  4902\n",
       "3  592da070e4b09c162d70859a       417     0     0\n",
       "4  592da096e4b0a4ee112b852a       290   709  1000"
      ]
     },
     "execution_count": 14,
     "metadata": {},
     "output_type": "execute_result"
    }
   ],
   "source": [
    "#Merge into X by using userid as a key\n",
    "X = pd.merge(X, expAndCoinByUser, on=\"userid\")\n",
    "X.head(5)"
   ]
  },
  {
   "cell_type": "markdown",
   "metadata": {},
   "source": [
    "### 2.3 Create inactive period and membership period"
   ]
  },
  {
   "cell_type": "markdown",
   "metadata": {},
   "source": [
    "- Inactive period = The period from the latest activity time to endDate\n",
    "- membership period = The period from created account time to startDate\n",
    "\n",
    "In order to create two features above, we need to find latest activity time by user and created time by user\n",
    "\n",
    "#### 2.3.1 Latest activity time by user\n",
    "- Let's group each userid with max function to find the most recent time"
   ]
  },
  {
   "cell_type": "code",
   "execution_count": 15,
   "metadata": {},
   "outputs": [
    {
     "data": {
      "text/html": [
       "<div>\n",
       "<style>\n",
       "    .dataframe thead tr:only-child th {\n",
       "        text-align: right;\n",
       "    }\n",
       "\n",
       "    .dataframe thead th {\n",
       "        text-align: left;\n",
       "    }\n",
       "\n",
       "    .dataframe tbody tr th {\n",
       "        vertical-align: top;\n",
       "    }\n",
       "</style>\n",
       "<table border=\"1\" class=\"dataframe\">\n",
       "  <thead>\n",
       "    <tr style=\"text-align: right;\">\n",
       "      <th></th>\n",
       "      <th>userid</th>\n",
       "      <th>recentTime</th>\n",
       "    </tr>\n",
       "  </thead>\n",
       "  <tbody>\n",
       "    <tr>\n",
       "      <th>0</th>\n",
       "      <td>592da01fe4b0a4ee112b84fb</td>\n",
       "      <td>2017-07-06 12:06:45.295</td>\n",
       "    </tr>\n",
       "    <tr>\n",
       "      <th>1</th>\n",
       "      <td>592da02be4b09c162d708589</td>\n",
       "      <td>2017-07-06 12:08:26.112</td>\n",
       "    </tr>\n",
       "    <tr>\n",
       "      <th>2</th>\n",
       "      <td>592da035e4b0a4ee112b8505</td>\n",
       "      <td>2017-07-07 17:03:38.790</td>\n",
       "    </tr>\n",
       "    <tr>\n",
       "      <th>3</th>\n",
       "      <td>592da070e4b09c162d70859a</td>\n",
       "      <td>2017-07-06 12:14:26.016</td>\n",
       "    </tr>\n",
       "    <tr>\n",
       "      <th>4</th>\n",
       "      <td>592da096e4b0a4ee112b852a</td>\n",
       "      <td>2017-07-06 12:07:12.875</td>\n",
       "    </tr>\n",
       "  </tbody>\n",
       "</table>\n",
       "</div>"
      ],
      "text/plain": [
       "                     userid              recentTime\n",
       "0  592da01fe4b0a4ee112b84fb 2017-07-06 12:06:45.295\n",
       "1  592da02be4b09c162d708589 2017-07-06 12:08:26.112\n",
       "2  592da035e4b0a4ee112b8505 2017-07-07 17:03:38.790\n",
       "3  592da070e4b09c162d70859a 2017-07-06 12:14:26.016\n",
       "4  592da096e4b0a4ee112b852a 2017-07-06 12:07:12.875"
      ]
     },
     "execution_count": 15,
     "metadata": {},
     "output_type": "execute_result"
    }
   ],
   "source": [
    "latestTimeByUser = firstWeekUserMerged.groupby('userid')['time_stamp2'].max().reset_index(name=\"recentTime\")\n",
    "latestTimeByUser.head(5)"
   ]
  },
  {
   "cell_type": "markdown",
   "metadata": {},
   "source": [
    "#### 2.3.2 Created account time\n",
    "- Find created account time by user"
   ]
  },
  {
   "cell_type": "code",
   "execution_count": 16,
   "metadata": {},
   "outputs": [
    {
     "data": {
      "text/html": [
       "<div>\n",
       "<style>\n",
       "    .dataframe thead tr:only-child th {\n",
       "        text-align: right;\n",
       "    }\n",
       "\n",
       "    .dataframe thead th {\n",
       "        text-align: left;\n",
       "    }\n",
       "\n",
       "    .dataframe tbody tr th {\n",
       "        vertical-align: top;\n",
       "    }\n",
       "</style>\n",
       "<table border=\"1\" class=\"dataframe\">\n",
       "  <thead>\n",
       "    <tr style=\"text-align: right;\">\n",
       "      <th></th>\n",
       "      <th>userid</th>\n",
       "      <th>createdtm</th>\n",
       "    </tr>\n",
       "  </thead>\n",
       "  <tbody>\n",
       "    <tr>\n",
       "      <th>0</th>\n",
       "      <td>59391fbfe4b0a0f774fe022e</td>\n",
       "      <td>2017-06-08 04:58:23.262</td>\n",
       "    </tr>\n",
       "    <tr>\n",
       "      <th>340</th>\n",
       "      <td>592f8ddfe4b09c162d715525</td>\n",
       "      <td>2017-06-01 10:45:35.769</td>\n",
       "    </tr>\n",
       "    <tr>\n",
       "      <th>408</th>\n",
       "      <td>592e1c65e4b09c162d70ac5b</td>\n",
       "      <td>2017-05-31 08:29:09.357</td>\n",
       "    </tr>\n",
       "    <tr>\n",
       "      <th>797</th>\n",
       "      <td>5945552ee4b0db45c711c290</td>\n",
       "      <td>2017-06-17 11:13:34.423</td>\n",
       "    </tr>\n",
       "    <tr>\n",
       "      <th>1916</th>\n",
       "      <td>593e4481e4b06f7fcb9eabe4</td>\n",
       "      <td>2017-06-12 02:36:33.388</td>\n",
       "    </tr>\n",
       "  </tbody>\n",
       "</table>\n",
       "</div>"
      ],
      "text/plain": [
       "                        userid               createdtm\n",
       "0     59391fbfe4b0a0f774fe022e 2017-06-08 04:58:23.262\n",
       "340   592f8ddfe4b09c162d715525 2017-06-01 10:45:35.769\n",
       "408   592e1c65e4b09c162d70ac5b 2017-05-31 08:29:09.357\n",
       "797   5945552ee4b0db45c711c290 2017-06-17 11:13:34.423\n",
       "1916  593e4481e4b06f7fcb9eabe4 2017-06-12 02:36:33.388"
      ]
     },
     "execution_count": 16,
     "metadata": {},
     "output_type": "execute_result"
    }
   ],
   "source": [
    "uniqueCreatedTimeByUser = firstWeekUserMerged[['userid','createdtm']].drop_duplicates()\n",
    "uniqueCreatedTimeByUser.head(5)"
   ]
  },
  {
   "cell_type": "code",
   "execution_count": 17,
   "metadata": {},
   "outputs": [
    {
     "data": {
      "text/html": [
       "<div>\n",
       "<style>\n",
       "    .dataframe thead tr:only-child th {\n",
       "        text-align: right;\n",
       "    }\n",
       "\n",
       "    .dataframe thead th {\n",
       "        text-align: left;\n",
       "    }\n",
       "\n",
       "    .dataframe tbody tr th {\n",
       "        vertical-align: top;\n",
       "    }\n",
       "</style>\n",
       "<table border=\"1\" class=\"dataframe\">\n",
       "  <thead>\n",
       "    <tr style=\"text-align: right;\">\n",
       "      <th></th>\n",
       "      <th>userid</th>\n",
       "      <th>totalAct</th>\n",
       "      <th>exp</th>\n",
       "      <th>coin</th>\n",
       "      <th>recentTime</th>\n",
       "      <th>createdtm</th>\n",
       "    </tr>\n",
       "  </thead>\n",
       "  <tbody>\n",
       "    <tr>\n",
       "      <th>0</th>\n",
       "      <td>592da01fe4b0a4ee112b84fb</td>\n",
       "      <td>311</td>\n",
       "      <td>3068</td>\n",
       "      <td>2012</td>\n",
       "      <td>2017-07-06 12:06:45.295</td>\n",
       "      <td>2017-05-30 11:38:55.764</td>\n",
       "    </tr>\n",
       "    <tr>\n",
       "      <th>1</th>\n",
       "      <td>592da02be4b09c162d708589</td>\n",
       "      <td>265</td>\n",
       "      <td>1513</td>\n",
       "      <td>1800</td>\n",
       "      <td>2017-07-06 12:08:26.112</td>\n",
       "      <td>2017-05-30 11:39:07.470</td>\n",
       "    </tr>\n",
       "    <tr>\n",
       "      <th>2</th>\n",
       "      <td>592da035e4b0a4ee112b8505</td>\n",
       "      <td>499</td>\n",
       "      <td>3285</td>\n",
       "      <td>4902</td>\n",
       "      <td>2017-07-07 17:03:38.790</td>\n",
       "      <td>2017-05-30 11:39:17.917</td>\n",
       "    </tr>\n",
       "    <tr>\n",
       "      <th>3</th>\n",
       "      <td>592da070e4b09c162d70859a</td>\n",
       "      <td>417</td>\n",
       "      <td>0</td>\n",
       "      <td>0</td>\n",
       "      <td>2017-07-06 12:14:26.016</td>\n",
       "      <td>2017-05-30 11:40:16.498</td>\n",
       "    </tr>\n",
       "    <tr>\n",
       "      <th>4</th>\n",
       "      <td>592da096e4b0a4ee112b852a</td>\n",
       "      <td>290</td>\n",
       "      <td>709</td>\n",
       "      <td>1000</td>\n",
       "      <td>2017-07-06 12:07:12.875</td>\n",
       "      <td>2017-05-30 11:40:54.438</td>\n",
       "    </tr>\n",
       "  </tbody>\n",
       "</table>\n",
       "</div>"
      ],
      "text/plain": [
       "                     userid  totalAct   exp  coin              recentTime  \\\n",
       "0  592da01fe4b0a4ee112b84fb       311  3068  2012 2017-07-06 12:06:45.295   \n",
       "1  592da02be4b09c162d708589       265  1513  1800 2017-07-06 12:08:26.112   \n",
       "2  592da035e4b0a4ee112b8505       499  3285  4902 2017-07-07 17:03:38.790   \n",
       "3  592da070e4b09c162d70859a       417     0     0 2017-07-06 12:14:26.016   \n",
       "4  592da096e4b0a4ee112b852a       290   709  1000 2017-07-06 12:07:12.875   \n",
       "\n",
       "                createdtm  \n",
       "0 2017-05-30 11:38:55.764  \n",
       "1 2017-05-30 11:39:07.470  \n",
       "2 2017-05-30 11:39:17.917  \n",
       "3 2017-05-30 11:40:16.498  \n",
       "4 2017-05-30 11:40:54.438  "
      ]
     },
     "execution_count": 17,
     "metadata": {},
     "output_type": "execute_result"
    }
   ],
   "source": [
    "#Merge 2 dataframes above into X\n",
    "X = pd.merge(X, latestTimeByUser, on=\"userid\")\n",
    "X = pd.merge(X, uniqueCreatedTimeByUser , on =\"userid\")\n",
    "X.head(5)"
   ]
  },
  {
   "cell_type": "markdown",
   "metadata": {},
   "source": [
    "#### 2.3.3. Create inactive and membership period features\n",
    "- Create inactivePeriod and memberPeriod features and converting into a number of days"
   ]
  },
  {
   "cell_type": "code",
   "execution_count": 18,
   "metadata": {},
   "outputs": [
    {
     "data": {
      "text/html": [
       "<div>\n",
       "<style>\n",
       "    .dataframe thead tr:only-child th {\n",
       "        text-align: right;\n",
       "    }\n",
       "\n",
       "    .dataframe thead th {\n",
       "        text-align: left;\n",
       "    }\n",
       "\n",
       "    .dataframe tbody tr th {\n",
       "        vertical-align: top;\n",
       "    }\n",
       "</style>\n",
       "<table border=\"1\" class=\"dataframe\">\n",
       "  <thead>\n",
       "    <tr style=\"text-align: right;\">\n",
       "      <th></th>\n",
       "      <th>userid</th>\n",
       "      <th>totalAct</th>\n",
       "      <th>exp</th>\n",
       "      <th>coin</th>\n",
       "      <th>recentTime</th>\n",
       "      <th>createdtm</th>\n",
       "      <th>inactivePeriod</th>\n",
       "      <th>memberPeriod</th>\n",
       "    </tr>\n",
       "  </thead>\n",
       "  <tbody>\n",
       "    <tr>\n",
       "      <th>0</th>\n",
       "      <td>592da01fe4b0a4ee112b84fb</td>\n",
       "      <td>311</td>\n",
       "      <td>3068</td>\n",
       "      <td>2012</td>\n",
       "      <td>2017-07-06 12:06:45.295</td>\n",
       "      <td>2017-05-30 11:38:55.764</td>\n",
       "      <td>1</td>\n",
       "      <td>31</td>\n",
       "    </tr>\n",
       "    <tr>\n",
       "      <th>1</th>\n",
       "      <td>592da02be4b09c162d708589</td>\n",
       "      <td>265</td>\n",
       "      <td>1513</td>\n",
       "      <td>1800</td>\n",
       "      <td>2017-07-06 12:08:26.112</td>\n",
       "      <td>2017-05-30 11:39:07.470</td>\n",
       "      <td>1</td>\n",
       "      <td>31</td>\n",
       "    </tr>\n",
       "    <tr>\n",
       "      <th>2</th>\n",
       "      <td>592da035e4b0a4ee112b8505</td>\n",
       "      <td>499</td>\n",
       "      <td>3285</td>\n",
       "      <td>4902</td>\n",
       "      <td>2017-07-07 17:03:38.790</td>\n",
       "      <td>2017-05-30 11:39:17.917</td>\n",
       "      <td>0</td>\n",
       "      <td>31</td>\n",
       "    </tr>\n",
       "    <tr>\n",
       "      <th>3</th>\n",
       "      <td>592da070e4b09c162d70859a</td>\n",
       "      <td>417</td>\n",
       "      <td>0</td>\n",
       "      <td>0</td>\n",
       "      <td>2017-07-06 12:14:26.016</td>\n",
       "      <td>2017-05-30 11:40:16.498</td>\n",
       "      <td>1</td>\n",
       "      <td>31</td>\n",
       "    </tr>\n",
       "    <tr>\n",
       "      <th>4</th>\n",
       "      <td>592da096e4b0a4ee112b852a</td>\n",
       "      <td>290</td>\n",
       "      <td>709</td>\n",
       "      <td>1000</td>\n",
       "      <td>2017-07-06 12:07:12.875</td>\n",
       "      <td>2017-05-30 11:40:54.438</td>\n",
       "      <td>1</td>\n",
       "      <td>31</td>\n",
       "    </tr>\n",
       "  </tbody>\n",
       "</table>\n",
       "</div>"
      ],
      "text/plain": [
       "                     userid  totalAct   exp  coin              recentTime  \\\n",
       "0  592da01fe4b0a4ee112b84fb       311  3068  2012 2017-07-06 12:06:45.295   \n",
       "1  592da02be4b09c162d708589       265  1513  1800 2017-07-06 12:08:26.112   \n",
       "2  592da035e4b0a4ee112b8505       499  3285  4902 2017-07-07 17:03:38.790   \n",
       "3  592da070e4b09c162d70859a       417     0     0 2017-07-06 12:14:26.016   \n",
       "4  592da096e4b0a4ee112b852a       290   709  1000 2017-07-06 12:07:12.875   \n",
       "\n",
       "                createdtm  inactivePeriod  memberPeriod  \n",
       "0 2017-05-30 11:38:55.764               1            31  \n",
       "1 2017-05-30 11:39:07.470               1            31  \n",
       "2 2017-05-30 11:39:17.917               0            31  \n",
       "3 2017-05-30 11:40:16.498               1            31  \n",
       "4 2017-05-30 11:40:54.438               1            31  "
      ]
     },
     "execution_count": 18,
     "metadata": {},
     "output_type": "execute_result"
    }
   ],
   "source": [
    "#It is the period between the time last activity took place and end date\n",
    "X[\"inactivePeriod\"] = endDate - X['recentTime']\n",
    "#Convert to number of days\n",
    "X[\"inactivePeriod\"] = X.inactivePeriod.dt.days\n",
    "\n",
    "#Create new feature of the membership period from the registration date until start date\n",
    "X[\"memberPeriod\"] = startDate - X[\"createdtm\"]\n",
    "#Convert to number of days\n",
    "X[\"memberPeriod\"] = X.memberPeriod.dt.days\n",
    "\n",
    "X.head(5)"
   ]
  },
  {
   "cell_type": "markdown",
   "metadata": {},
   "source": [
    "### 2.4. Create activeDay feature\n",
    "- activeDay represents how often users use this application in one week"
   ]
  },
  {
   "cell_type": "code",
   "execution_count": 19,
   "metadata": {
    "collapsed": true
   },
   "outputs": [],
   "source": [
    "#Convert time_stamp2 to day of the week\n",
    "firstWeekUserMerged[\"day_time_stamp2\"] = firstWeekUserMerged.time_stamp2.dt.day"
   ]
  },
  {
   "cell_type": "markdown",
   "metadata": {},
   "source": [
    "- Count how often users use this application in one week\n"
   ]
  },
  {
   "cell_type": "code",
   "execution_count": 20,
   "metadata": {},
   "outputs": [
    {
     "data": {
      "text/html": [
       "<div>\n",
       "<style>\n",
       "    .dataframe thead tr:only-child th {\n",
       "        text-align: right;\n",
       "    }\n",
       "\n",
       "    .dataframe thead th {\n",
       "        text-align: left;\n",
       "    }\n",
       "\n",
       "    .dataframe tbody tr th {\n",
       "        vertical-align: top;\n",
       "    }\n",
       "</style>\n",
       "<table border=\"1\" class=\"dataframe\">\n",
       "  <thead>\n",
       "    <tr style=\"text-align: right;\">\n",
       "      <th></th>\n",
       "      <th>userid</th>\n",
       "      <th>activeDay</th>\n",
       "    </tr>\n",
       "  </thead>\n",
       "  <tbody>\n",
       "    <tr>\n",
       "      <th>0</th>\n",
       "      <td>592da01fe4b0a4ee112b84fb</td>\n",
       "      <td>5</td>\n",
       "    </tr>\n",
       "    <tr>\n",
       "      <th>1</th>\n",
       "      <td>592da02be4b09c162d708589</td>\n",
       "      <td>5</td>\n",
       "    </tr>\n",
       "    <tr>\n",
       "      <th>2</th>\n",
       "      <td>592da035e4b0a4ee112b8505</td>\n",
       "      <td>7</td>\n",
       "    </tr>\n",
       "    <tr>\n",
       "      <th>3</th>\n",
       "      <td>592da070e4b09c162d70859a</td>\n",
       "      <td>5</td>\n",
       "    </tr>\n",
       "    <tr>\n",
       "      <th>4</th>\n",
       "      <td>592da096e4b0a4ee112b852a</td>\n",
       "      <td>5</td>\n",
       "    </tr>\n",
       "  </tbody>\n",
       "</table>\n",
       "</div>"
      ],
      "text/plain": [
       "                     userid  activeDay\n",
       "0  592da01fe4b0a4ee112b84fb          5\n",
       "1  592da02be4b09c162d708589          5\n",
       "2  592da035e4b0a4ee112b8505          7\n",
       "3  592da070e4b09c162d70859a          5\n",
       "4  592da096e4b0a4ee112b852a          5"
      ]
     },
     "execution_count": 20,
     "metadata": {},
     "output_type": "execute_result"
    }
   ],
   "source": [
    "#Accumulate number of day by user\n",
    "activityByUserByday = firstWeekUserMerged.groupby('userid')[\"day_time_stamp2\"].value_counts().index.tolist()\n",
    "activityByUserByday = pd.DataFrame(activityByUserByday,columns=[\"userid\",\"activeDay\"])\n",
    "activityByUserByday = activityByUserByday.groupby('userid')[\"activeDay\"].count().reset_index()\n",
    "activityByUserByday.head(5)"
   ]
  },
  {
   "cell_type": "code",
   "execution_count": 21,
   "metadata": {},
   "outputs": [
    {
     "name": "stdout",
     "output_type": "stream",
     "text": [
      "\n",
      "The highest number of active day is : 7 days\n",
      "There are 100 users who keep playing the mobile application for 7 days\n"
     ]
    }
   ],
   "source": [
    "maxActiveDay = max(activityByUserByday[\"activeDay\"])\n",
    "print(\"\\nThe highest number of active day is :\",maxActiveDay,\"days\")\n",
    "\n",
    "numberOfUser = activityByUserByday[activityByUserByday[\"activeDay\"]==maxActiveDay].userid.count()\n",
    "print(\"There are\",numberOfUser,\"users who keep playing the mobile application for\", maxActiveDay,\"days\")\n",
    "\n",
    "#Merge activeDay feature into training data\n",
    "X = pd.merge(X, activityByUserByday[['userid','activeDay']] , on =\"userid\")"
   ]
  },
  {
   "cell_type": "code",
   "execution_count": 22,
   "metadata": {},
   "outputs": [
    {
     "data": {
      "text/html": [
       "<div>\n",
       "<style>\n",
       "    .dataframe thead tr:only-child th {\n",
       "        text-align: right;\n",
       "    }\n",
       "\n",
       "    .dataframe thead th {\n",
       "        text-align: left;\n",
       "    }\n",
       "\n",
       "    .dataframe tbody tr th {\n",
       "        vertical-align: top;\n",
       "    }\n",
       "</style>\n",
       "<table border=\"1\" class=\"dataframe\">\n",
       "  <thead>\n",
       "    <tr style=\"text-align: right;\">\n",
       "      <th></th>\n",
       "      <th>userid</th>\n",
       "      <th>totalAct</th>\n",
       "      <th>exp</th>\n",
       "      <th>coin</th>\n",
       "      <th>recentTime</th>\n",
       "      <th>createdtm</th>\n",
       "      <th>inactivePeriod</th>\n",
       "      <th>memberPeriod</th>\n",
       "      <th>activeDay</th>\n",
       "    </tr>\n",
       "  </thead>\n",
       "  <tbody>\n",
       "    <tr>\n",
       "      <th>0</th>\n",
       "      <td>592da01fe4b0a4ee112b84fb</td>\n",
       "      <td>311</td>\n",
       "      <td>3068</td>\n",
       "      <td>2012</td>\n",
       "      <td>2017-07-06 12:06:45.295</td>\n",
       "      <td>2017-05-30 11:38:55.764</td>\n",
       "      <td>1</td>\n",
       "      <td>31</td>\n",
       "      <td>5</td>\n",
       "    </tr>\n",
       "    <tr>\n",
       "      <th>1</th>\n",
       "      <td>592da02be4b09c162d708589</td>\n",
       "      <td>265</td>\n",
       "      <td>1513</td>\n",
       "      <td>1800</td>\n",
       "      <td>2017-07-06 12:08:26.112</td>\n",
       "      <td>2017-05-30 11:39:07.470</td>\n",
       "      <td>1</td>\n",
       "      <td>31</td>\n",
       "      <td>5</td>\n",
       "    </tr>\n",
       "    <tr>\n",
       "      <th>2</th>\n",
       "      <td>592da035e4b0a4ee112b8505</td>\n",
       "      <td>499</td>\n",
       "      <td>3285</td>\n",
       "      <td>4902</td>\n",
       "      <td>2017-07-07 17:03:38.790</td>\n",
       "      <td>2017-05-30 11:39:17.917</td>\n",
       "      <td>0</td>\n",
       "      <td>31</td>\n",
       "      <td>7</td>\n",
       "    </tr>\n",
       "    <tr>\n",
       "      <th>3</th>\n",
       "      <td>592da070e4b09c162d70859a</td>\n",
       "      <td>417</td>\n",
       "      <td>0</td>\n",
       "      <td>0</td>\n",
       "      <td>2017-07-06 12:14:26.016</td>\n",
       "      <td>2017-05-30 11:40:16.498</td>\n",
       "      <td>1</td>\n",
       "      <td>31</td>\n",
       "      <td>5</td>\n",
       "    </tr>\n",
       "    <tr>\n",
       "      <th>4</th>\n",
       "      <td>592da096e4b0a4ee112b852a</td>\n",
       "      <td>290</td>\n",
       "      <td>709</td>\n",
       "      <td>1000</td>\n",
       "      <td>2017-07-06 12:07:12.875</td>\n",
       "      <td>2017-05-30 11:40:54.438</td>\n",
       "      <td>1</td>\n",
       "      <td>31</td>\n",
       "      <td>5</td>\n",
       "    </tr>\n",
       "  </tbody>\n",
       "</table>\n",
       "</div>"
      ],
      "text/plain": [
       "                     userid  totalAct   exp  coin              recentTime  \\\n",
       "0  592da01fe4b0a4ee112b84fb       311  3068  2012 2017-07-06 12:06:45.295   \n",
       "1  592da02be4b09c162d708589       265  1513  1800 2017-07-06 12:08:26.112   \n",
       "2  592da035e4b0a4ee112b8505       499  3285  4902 2017-07-07 17:03:38.790   \n",
       "3  592da070e4b09c162d70859a       417     0     0 2017-07-06 12:14:26.016   \n",
       "4  592da096e4b0a4ee112b852a       290   709  1000 2017-07-06 12:07:12.875   \n",
       "\n",
       "                createdtm  inactivePeriod  memberPeriod  activeDay  \n",
       "0 2017-05-30 11:38:55.764               1            31          5  \n",
       "1 2017-05-30 11:39:07.470               1            31          5  \n",
       "2 2017-05-30 11:39:17.917               0            31          7  \n",
       "3 2017-05-30 11:40:16.498               1            31          5  \n",
       "4 2017-05-30 11:40:54.438               1            31          5  "
      ]
     },
     "execution_count": 22,
     "metadata": {},
     "output_type": "execute_result"
    }
   ],
   "source": [
    "X.head(5)"
   ]
  },
  {
   "cell_type": "code",
   "execution_count": 23,
   "metadata": {},
   "outputs": [
    {
     "data": {
      "image/png": "iVBORw0KGgoAAAANSUhEUgAAAfIAAAFXCAYAAABZQMyNAAAABHNCSVQICAgIfAhkiAAAAAlwSFlz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\ngxFyAAAMRsgBADAYIQcAwGD/H6GbQFqCPB7WAAAAAElFTkSuQmCC\n",
      "text/plain": [
       "<matplotlib.figure.Figure at 0xc13af28>"
      ]
     },
     "metadata": {},
     "output_type": "display_data"
    },
    {
     "data": {
      "image/png": "iVBORw0KGgoAAAANSUhEUgAAAfIAAAFXCAYAAABZQMyNAAAABHNCSVQICAgIfAhkiAAAAAlwSFlz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\n",
      "text/plain": [
       "<matplotlib.figure.Figure at 0xc6eebe0>"
      ]
     },
     "metadata": {},
     "output_type": "display_data"
    }
   ],
   "source": [
    "sns.countplot(x=\"inactivePeriod\",data=X)\n",
    "plt.show()\n",
    "\n",
    "sns.countplot(x=\"activeDay\",data=X)\n",
    "plt.show()"
   ]
  },
  {
   "cell_type": "markdown",
   "metadata": {},
   "source": [
    "The bar charts show that most users use application only first day and leave. "
   ]
  },
  {
   "cell_type": "markdown",
   "metadata": {},
   "source": [
    "### 2.5 Label Dataset\n",
    "\n",
    "- y = 1 : Churn user, he/she has no any activities in the following week.\n",
    "- y = 0 : Non-churn user, he/she returns to application in the following week.\n",
    "\n",
    "Get user list from user activities in the next week "
   ]
  },
  {
   "cell_type": "code",
   "execution_count": 24,
   "metadata": {},
   "outputs": [
    {
     "name": "stdout",
     "output_type": "stream",
     "text": [
      "the first activity is : 2017-07-08 00:00:00.080000\n",
      "the most recent activity is : 2017-07-14 23:59:45.156000\n",
      "Test user list :  ['59391fbfe4b0a0f774fe022e', '592e1c65e4b09c162d70ac5b', '5945552ee4b0db45c711c290', '593e4481e4b06f7fcb9eabe4', '59561beee4b03f87dbd922d6']\n"
     ]
    }
   ],
   "source": [
    "#Define start and end date for next week\n",
    "nextStartDate = datetime.strptime(\"2017-07-08 00:00:00.000000\", '%Y-%m-%d %H:%M:%S.%f')\n",
    "nextEndDate = datetime.strptime(\"2017-07-15 00:00:00.000000\", '%Y-%m-%d %H:%M:%S.%f')\n",
    "\n",
    "#Filter activity within nextweek peiod from predefined date above\n",
    "nextWeekUserMerged = userMerged.loc[(userMerged['time_stamp2'] >= nextStartDate) & (userMerged['time_stamp2'] < nextEndDate)]\n",
    "print(\"the first activity is :\",min(nextWeekUserMerged.time_stamp2))\n",
    "print(\"the most recent activity is :\",max(nextWeekUserMerged.time_stamp2))\n",
    "\n",
    "#Get only user list within next week period\n",
    "nextWeekUserList = nextWeekUserMerged[[\"userid\"]].drop_duplicates()\n",
    "nextWeekUserList = nextWeekUserList[\"userid\"].tolist()\n",
    "print(\"Test user list : \",nextWeekUserList[0:5])"
   ]
  },
  {
   "cell_type": "markdown",
   "metadata": {},
   "source": [
    "- Assign y = 0 when user from the first week is also in the following week, 1 Otherwise"
   ]
  },
  {
   "cell_type": "code",
   "execution_count": 25,
   "metadata": {},
   "outputs": [
    {
     "data": {
      "text/html": [
       "<div>\n",
       "<style>\n",
       "    .dataframe thead tr:only-child th {\n",
       "        text-align: right;\n",
       "    }\n",
       "\n",
       "    .dataframe thead th {\n",
       "        text-align: left;\n",
       "    }\n",
       "\n",
       "    .dataframe tbody tr th {\n",
       "        vertical-align: top;\n",
       "    }\n",
       "</style>\n",
       "<table border=\"1\" class=\"dataframe\">\n",
       "  <thead>\n",
       "    <tr style=\"text-align: right;\">\n",
       "      <th></th>\n",
       "      <th>userid</th>\n",
       "      <th>totalAct</th>\n",
       "      <th>exp</th>\n",
       "      <th>coin</th>\n",
       "      <th>recentTime</th>\n",
       "      <th>createdtm</th>\n",
       "      <th>inactivePeriod</th>\n",
       "      <th>memberPeriod</th>\n",
       "      <th>activeDay</th>\n",
       "      <th>y</th>\n",
       "    </tr>\n",
       "  </thead>\n",
       "  <tbody>\n",
       "    <tr>\n",
       "      <th>0</th>\n",
       "      <td>592da01fe4b0a4ee112b84fb</td>\n",
       "      <td>311</td>\n",
       "      <td>3068</td>\n",
       "      <td>2012</td>\n",
       "      <td>2017-07-06 12:06:45.295</td>\n",
       "      <td>2017-05-30 11:38:55.764</td>\n",
       "      <td>1</td>\n",
       "      <td>31</td>\n",
       "      <td>5</td>\n",
       "      <td>1</td>\n",
       "    </tr>\n",
       "    <tr>\n",
       "      <th>1</th>\n",
       "      <td>592da02be4b09c162d708589</td>\n",
       "      <td>265</td>\n",
       "      <td>1513</td>\n",
       "      <td>1800</td>\n",
       "      <td>2017-07-06 12:08:26.112</td>\n",
       "      <td>2017-05-30 11:39:07.470</td>\n",
       "      <td>1</td>\n",
       "      <td>31</td>\n",
       "      <td>5</td>\n",
       "      <td>0</td>\n",
       "    </tr>\n",
       "    <tr>\n",
       "      <th>2</th>\n",
       "      <td>592da035e4b0a4ee112b8505</td>\n",
       "      <td>499</td>\n",
       "      <td>3285</td>\n",
       "      <td>4902</td>\n",
       "      <td>2017-07-07 17:03:38.790</td>\n",
       "      <td>2017-05-30 11:39:17.917</td>\n",
       "      <td>0</td>\n",
       "      <td>31</td>\n",
       "      <td>7</td>\n",
       "      <td>0</td>\n",
       "    </tr>\n",
       "    <tr>\n",
       "      <th>3</th>\n",
       "      <td>592da070e4b09c162d70859a</td>\n",
       "      <td>417</td>\n",
       "      <td>0</td>\n",
       "      <td>0</td>\n",
       "      <td>2017-07-06 12:14:26.016</td>\n",
       "      <td>2017-05-30 11:40:16.498</td>\n",
       "      <td>1</td>\n",
       "      <td>31</td>\n",
       "      <td>5</td>\n",
       "      <td>0</td>\n",
       "    </tr>\n",
       "    <tr>\n",
       "      <th>4</th>\n",
       "      <td>592da096e4b0a4ee112b852a</td>\n",
       "      <td>290</td>\n",
       "      <td>709</td>\n",
       "      <td>1000</td>\n",
       "      <td>2017-07-06 12:07:12.875</td>\n",
       "      <td>2017-05-30 11:40:54.438</td>\n",
       "      <td>1</td>\n",
       "      <td>31</td>\n",
       "      <td>5</td>\n",
       "      <td>0</td>\n",
       "    </tr>\n",
       "  </tbody>\n",
       "</table>\n",
       "</div>"
      ],
      "text/plain": [
       "                     userid  totalAct   exp  coin              recentTime  \\\n",
       "0  592da01fe4b0a4ee112b84fb       311  3068  2012 2017-07-06 12:06:45.295   \n",
       "1  592da02be4b09c162d708589       265  1513  1800 2017-07-06 12:08:26.112   \n",
       "2  592da035e4b0a4ee112b8505       499  3285  4902 2017-07-07 17:03:38.790   \n",
       "3  592da070e4b09c162d70859a       417     0     0 2017-07-06 12:14:26.016   \n",
       "4  592da096e4b0a4ee112b852a       290   709  1000 2017-07-06 12:07:12.875   \n",
       "\n",
       "                createdtm  inactivePeriod  memberPeriod  activeDay  y  \n",
       "0 2017-05-30 11:38:55.764               1            31          5  1  \n",
       "1 2017-05-30 11:39:07.470               1            31          5  0  \n",
       "2 2017-05-30 11:39:17.917               0            31          7  0  \n",
       "3 2017-05-30 11:40:16.498               1            31          5  0  \n",
       "4 2017-05-30 11:40:54.438               1            31          5  0  "
      ]
     },
     "execution_count": 25,
     "metadata": {},
     "output_type": "execute_result"
    }
   ],
   "source": [
    "X['y'] = np.where(X[\"userid\"].isin(nextWeekUserList),0 , 1)\n",
    "X.head(5)"
   ]
  },
  {
   "cell_type": "code",
   "execution_count": 26,
   "metadata": {},
   "outputs": [
    {
     "data": {
      "image/png": "iVBORw0KGgoAAAANSUhEUgAAAfIAAAFXCAYAAABZQMyNAAAABHNCSVQICAgIfAhkiAAAAAlwSFlz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\nAElFTkSuQmCC\n",
      "text/plain": [
       "<matplotlib.figure.Figure at 0x104b6a90>"
      ]
     },
     "metadata": {},
     "output_type": "display_data"
    }
   ],
   "source": [
    "sns.countplot(x=\"y\",data=X,palette='hls')\n",
    "plt.show()"
   ]
  },
  {
   "cell_type": "markdown",
   "metadata": {},
   "source": [
    "As expected, most users are classified as churn because the active and inactive period mentioned previously."
   ]
  },
  {
   "cell_type": "markdown",
   "metadata": {},
   "source": [
    "### 2.6. Data Verification\n",
    "\n",
    "\n",
    "- Drop uncessary columns"
   ]
  },
  {
   "cell_type": "code",
   "execution_count": 27,
   "metadata": {
    "collapsed": true
   },
   "outputs": [],
   "source": [
    "X.drop([\"userid\",\"recentTime\",\"createdtm\"], axis=1, inplace=True)"
   ]
  },
  {
   "cell_type": "markdown",
   "metadata": {},
   "source": [
    "- Check missing values"
   ]
  },
  {
   "cell_type": "code",
   "execution_count": 28,
   "metadata": {},
   "outputs": [
    {
     "data": {
      "text/plain": [
       "totalAct          0\n",
       "exp               0\n",
       "coin              0\n",
       "inactivePeriod    0\n",
       "memberPeriod      0\n",
       "activeDay         0\n",
       "y                 0\n",
       "dtype: int64"
      ]
     },
     "execution_count": 28,
     "metadata": {},
     "output_type": "execute_result"
    }
   ],
   "source": [
    "X.isnull().sum()"
   ]
  },
  {
   "cell_type": "markdown",
   "metadata": {},
   "source": [
    "- Check the independence between independent variables"
   ]
  },
  {
   "cell_type": "code",
   "execution_count": 29,
   "metadata": {},
   "outputs": [
    {
     "data": {
      "image/png": "iVBORw0KGgoAAAANSUhEUgAAAfwAAAGCCAYAAAAFenGiAAAABHNCSVQICAgIfAhkiAAAAAlwSFlz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\n",
      "text/plain": [
       "<matplotlib.figure.Figure at 0x10b57ac8>"
      ]
     },
     "metadata": {},
     "output_type": "display_data"
    }
   ],
   "source": [
    "sns.heatmap(X.corr())\n",
    "plt.show()"
   ]
  },
  {
   "cell_type": "markdown",
   "metadata": {},
   "source": [
    "The result shows total activities are dependent on exp features. However, the remaining features seem to be fine so we're going to use them for now."
   ]
  },
  {
   "cell_type": "markdown",
   "metadata": {},
   "source": [
    "- Exclude y from the dataframe X"
   ]
  },
  {
   "cell_type": "code",
   "execution_count": 30,
   "metadata": {},
   "outputs": [
    {
     "name": "stdout",
     "output_type": "stream",
     "text": [
      "   totalAct   exp  coin  inactivePeriod  memberPeriod  activeDay\n",
      "0       311  3068  2012               1            31          5\n",
      "1       265  1513  1800               1            31          5\n",
      "2       499  3285  4902               0            31          7\n",
      "3       417     0     0               1            31          5\n",
      "4       290   709  1000               1            31          5\n",
      "\n",
      " 0    1\n",
      "1    0\n",
      "2    0\n",
      "3    0\n",
      "4    0\n",
      "Name: y, dtype: int32\n"
     ]
    }
   ],
   "source": [
    "y = X.iloc[:,-1]\n",
    "X = X.iloc[:,0:-1]\n",
    "#Keep column names of training set.\n",
    "col_names = X.columns\n",
    "\n",
    "print(X.head(5))\n",
    "print(\"\\n\",y.head(5))"
   ]
  },
  {
   "cell_type": "markdown",
   "metadata": {},
   "source": [
    "- Normalizing each feature for preventing models from misbehaving"
   ]
  },
  {
   "cell_type": "code",
   "execution_count": 31,
   "metadata": {},
   "outputs": [
    {
     "data": {
      "text/html": [
       "<div>\n",
       "<style>\n",
       "    .dataframe thead tr:only-child th {\n",
       "        text-align: right;\n",
       "    }\n",
       "\n",
       "    .dataframe thead th {\n",
       "        text-align: left;\n",
       "    }\n",
       "\n",
       "    .dataframe tbody tr th {\n",
       "        vertical-align: top;\n",
       "    }\n",
       "</style>\n",
       "<table border=\"1\" class=\"dataframe\">\n",
       "  <thead>\n",
       "    <tr style=\"text-align: right;\">\n",
       "      <th></th>\n",
       "      <th>totalAct</th>\n",
       "      <th>exp</th>\n",
       "      <th>coin</th>\n",
       "      <th>inactivePeriod</th>\n",
       "      <th>memberPeriod</th>\n",
       "      <th>activeDay</th>\n",
       "    </tr>\n",
       "  </thead>\n",
       "  <tbody>\n",
       "    <tr>\n",
       "      <th>0</th>\n",
       "      <td>0.389479</td>\n",
       "      <td>0.412130</td>\n",
       "      <td>0.353287</td>\n",
       "      <td>-0.795394</td>\n",
       "      <td>1.415386</td>\n",
       "      <td>1.268071</td>\n",
       "    </tr>\n",
       "    <tr>\n",
       "      <th>1</th>\n",
       "      <td>0.274714</td>\n",
       "      <td>0.094399</td>\n",
       "      <td>0.231978</td>\n",
       "      <td>-0.795394</td>\n",
       "      <td>1.415386</td>\n",
       "      <td>1.268071</td>\n",
       "    </tr>\n",
       "    <tr>\n",
       "      <th>2</th>\n",
       "      <td>0.858519</td>\n",
       "      <td>0.456469</td>\n",
       "      <td>2.006987</td>\n",
       "      <td>-1.201725</td>\n",
       "      <td>1.415386</td>\n",
       "      <td>2.281389</td>\n",
       "    </tr>\n",
       "    <tr>\n",
       "      <th>3</th>\n",
       "      <td>0.653938</td>\n",
       "      <td>-0.214750</td>\n",
       "      <td>-0.798009</td>\n",
       "      <td>-0.795394</td>\n",
       "      <td>1.415386</td>\n",
       "      <td>1.268071</td>\n",
       "    </tr>\n",
       "    <tr>\n",
       "      <th>4</th>\n",
       "      <td>0.337086</td>\n",
       "      <td>-0.069881</td>\n",
       "      <td>-0.225794</td>\n",
       "      <td>-0.795394</td>\n",
       "      <td>1.415386</td>\n",
       "      <td>1.268071</td>\n",
       "    </tr>\n",
       "  </tbody>\n",
       "</table>\n",
       "</div>"
      ],
      "text/plain": [
       "   totalAct       exp      coin  inactivePeriod  memberPeriod  activeDay\n",
       "0  0.389479  0.412130  0.353287       -0.795394      1.415386   1.268071\n",
       "1  0.274714  0.094399  0.231978       -0.795394      1.415386   1.268071\n",
       "2  0.858519  0.456469  2.006987       -1.201725      1.415386   2.281389\n",
       "3  0.653938 -0.214750 -0.798009       -0.795394      1.415386   1.268071\n",
       "4  0.337086 -0.069881 -0.225794       -0.795394      1.415386   1.268071"
      ]
     },
     "execution_count": 31,
     "metadata": {},
     "output_type": "execute_result"
    }
   ],
   "source": [
    "from sklearn.preprocessing import StandardScaler\n",
    "scaler = StandardScaler()\n",
    "X = scaler.fit_transform(X)\n",
    "\n",
    "#Form the dataframe again after they have been scaled from the previous step\n",
    "X = pd.DataFrame(X,columns=col_names)\n",
    "X.head(5)"
   ]
  },
  {
   "cell_type": "markdown",
   "metadata": {},
   "source": [
    "## 3. Logistic Regression \n",
    "\n",
    "- Split the data into training and test sets\n",
    "- Check out training data"
   ]
  },
  {
   "cell_type": "code",
   "execution_count": 32,
   "metadata": {},
   "outputs": [
    {
     "data": {
      "text/plain": [
       "(935, 6)"
      ]
     },
     "execution_count": 32,
     "metadata": {},
     "output_type": "execute_result"
    }
   ],
   "source": [
    "X_train, X_test, y_train, y_test = train_test_split(X, y, random_state=0)\n",
    "X_train.shape"
   ]
  },
  {
   "cell_type": "markdown",
   "metadata": {},
   "source": [
    "- Fit logistic regression to the training set"
   ]
  },
  {
   "cell_type": "code",
   "execution_count": 33,
   "metadata": {
    "scrolled": false
   },
   "outputs": [
    {
     "data": {
      "text/plain": [
       "LogisticRegression(C=1.0, class_weight=None, dual=False, fit_intercept=True,\n",
       "          intercept_scaling=1, max_iter=100, multi_class='ovr', n_jobs=1,\n",
       "          penalty='l2', random_state=0, solver='liblinear', tol=0.0001,\n",
       "          verbose=0, warm_start=False)"
      ]
     },
     "execution_count": 33,
     "metadata": {},
     "output_type": "execute_result"
    }
   ],
   "source": [
    "classifier = LogisticRegression(random_state=0)\n",
    "classifier.fit(X_train,y_train)"
   ]
  },
  {
   "cell_type": "markdown",
   "metadata": {},
   "source": [
    "## 4. Evaluating Model\n",
    "\n",
    "### 4.1 Predicting the test set results and create confusion matrix"
   ]
  },
  {
   "cell_type": "code",
   "execution_count": 34,
   "metadata": {
    "scrolled": true
   },
   "outputs": [
    {
     "data": {
      "image/png": "iVBORw0KGgoAAAANSUhEUgAAAcIAAAFQCAYAAAAstn4NAAAABHNCSVQICAgIfAhkiAAAAAlwSFlz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\nSUVORK5CYII=\n",
      "text/plain": [
       "<matplotlib.figure.Figure at 0xc6ee320>"
      ]
     },
     "metadata": {},
     "output_type": "display_data"
    }
   ],
   "source": [
    "y_pred = classifier.predict(X_test)\n",
    "from sklearn.metrics import confusion_matrix\n",
    "confusion_matrix = confusion_matrix(y_test, y_pred)\n",
    "sns.set(font_scale=2)#for label size\n",
    "\n",
    "plt.figure(figsize = (7,5))\n",
    "confusion_plot = sns.heatmap(confusion_matrix, annot=True,fmt='g')\n",
    "\n",
    "confusion_plot.set(xlabel='True Class', ylabel='Predicted Class')\n",
    "\n",
    "plt.show()\n"
   ]
  },
  {
   "cell_type": "code",
   "execution_count": 35,
   "metadata": {},
   "outputs": [
    {
     "name": "stdout",
     "output_type": "stream",
     "text": [
      "Accuracy of logistic regression classifier on test set: 0.82\n"
     ]
    }
   ],
   "source": [
    "print('Accuracy of logistic regression classifier on test set: {:.2f}'.format(classifier.score(X_test, y_test)))"
   ]
  },
  {
   "cell_type": "markdown",
   "metadata": {},
   "source": [
    "### 4.2. Compute precision, recall, F-measure and support"
   ]
  },
  {
   "cell_type": "code",
   "execution_count": 36,
   "metadata": {},
   "outputs": [
    {
     "name": "stdout",
     "output_type": "stream",
     "text": [
      "             precision    recall  f1-score   support\n",
      "\n",
      "          0       0.83      0.71      0.76       130\n",
      "          1       0.81      0.90      0.85       182\n",
      "\n",
      "avg / total       0.82      0.82      0.81       312\n",
      "\n"
     ]
    }
   ],
   "source": [
    "from sklearn.metrics import classification_report\n",
    "print(classification_report(y_test,y_pred))"
   ]
  },
  {
   "cell_type": "markdown",
   "metadata": {},
   "source": [
    "### 4.3. Coefficients"
   ]
  },
  {
   "cell_type": "code",
   "execution_count": 37,
   "metadata": {},
   "outputs": [
    {
     "name": "stdout",
     "output_type": "stream",
     "text": [
      "The coefficient for totalAct is -1.1192172582121305\n",
      "The coefficient for exp is -0.09104972981248576\n",
      "The coefficient for coin is -0.4022880677777478\n",
      "The coefficient for inactivePeriod is 0.4186963903512042\n",
      "The coefficient for memberPeriod is -0.2134103408210591\n",
      "The coefficient for activeDay is -0.7269480904461145\n"
     ]
    }
   ],
   "source": [
    "for idx, col_name in enumerate(X_train.columns):\n",
    "    print(\"The coefficient for {} is {}\".format(col_name, classifier.coef_[0][idx]))"
   ]
  }
 ],
 "metadata": {
  "kernelspec": {
   "display_name": "Python 3",
   "language": "python",
   "name": "python3"
  },
  "language_info": {
   "codemirror_mode": {
    "name": "ipython",
    "version": 3
   },
   "file_extension": ".py",
   "mimetype": "text/x-python",
   "name": "python",
   "nbconvert_exporter": "python",
   "pygments_lexer": "ipython3",
   "version": "3.6.1"
  }
 },
 "nbformat": 4,
 "nbformat_minor": 2
}
