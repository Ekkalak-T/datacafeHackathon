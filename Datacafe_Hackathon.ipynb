{
 "cells": [
  {
   "attachments": {},
   "cell_type": "markdown",
   "metadata": {},
   "source": [
    "# Predicting mobile app user churn\n",
    "\n",
    "\n",
    "\n",
    "## Introduction\n",
    "\n",
    "This project was created when I was in a hackathon event which was held in Bangkok. The main objective is to find a way to increase daily active users(DAU) on mobile application. \n",
    "\n",
    "Here is a quick overview what the application can do.\n",
    "- It is the application for fans to follow their favorite artists. They can see feed of artists which is retrieved from facebook and instagram. \n",
    "\n",
    "\n",
    "- Users are challenged by collecting exp and coins. They can use them for exchanging rewards like a concert ticket and an exclusive video for the top fans.\n",
    "\n",
    "\n",
    "- Exp and coins will be given when \n",
    "  - Users participate in the feed such as LIKE or COMMENT\n",
    "  - Users win missions by answering quizzes\n",
    "\n",
    "\n",
    "## Data Explanation\n",
    "Dataset is given in CSV format according to relational database. So we need to merge or join some dataframes to create a final useful dataset. Provided dataset can be briefly summarized into 4 categories below.\n",
    "\n",
    "#### Dynamic data\n",
    "- User activities\n",
    "\n",
    "#### Static data\n",
    "- User information\n",
    "- Feed information\n",
    "- Artist information\n",
    "- Mission information\n",
    "\n",
    "\n",
    "From the business objective, I've decided to use <b>churn prediction</b> which identifies and targets users who are likely to stop using application. These predictive capabilities lead to new insights into user behavior. Business users can then build new engagement strategies to the right customers.\n",
    "\n",
    "Churn prediction usually depends on user activities or behavior. So we will primarily focus on dynamic data. \n",
    "\n",
    "Here is a data dictionary for user activities table. We will need to extract and create new features from this. Features need to be selected carefully as they need to be meaningful and having an influence on model. \n",
    "\n",
    "- userid\tvarchar(255)\t\t\n",
    "- action\tvarchar(255)\t\t\n",
    "- objecttype\tvarchar(255)\t\t\n",
    "- objectid\tvarchar(65535)\t\t\n",
    "- ads_on_page\tvarchar(255)\t\n",
    "- sponsorid\tvarchar(255)\t\t\n",
    "- aritstid\tvarchar(255)\t\t\n",
    "- time_stamp\ttimestamp\t\t\n",
    "- exp\tint\t\n",
    "- coin\tint\t\n",
    "\n",
    "After spending a lot of time to extract useful features, there are six features below \n",
    "\n",
    "In our case user activities are provided with only 25 days. we will use first week information  \n",
    "\n",
    "- Total number of activities : Count number of activities group by each user\n",
    "- Total exp : Sum total exp group by each user\n",
    "- Total coins : Sum total coins group by each user\n",
    "- Inactive days : Number of days from last active activity to end of the week\n",
    "- Active days : Number of days that users have any activities\n",
    "- Membership peiod (need extra info which is created time from user table)\n",
    "- y :  y = 1 if user has any activities in the next week, 0 otherwise\n",
    "\n",
    "\n",
    "#### The process can be divided into 4 steps below.\n",
    "\n",
    "1. Data exploration : Determine null values, \n",
    "2. Data preprocessing : Create 6 features, check multicollinear\n",
    "3. Modeling : Logistic regression\n",
    "4. Evaluate and interpret model : F1 score, coefficient and odd ratios\n",
    "\n",
    "\n",
    "## 1. Data Exploration\n",
    "\n",
    "Import necessary packages"
   ]
  },
  {
   "cell_type": "code",
   "execution_count": 51,
   "metadata": {
    "collapsed": true
   },
   "outputs": [],
   "source": [
    "import pandas as pd\n",
    "import numpy as np\n",
    "import matplotlib.pyplot as plt\n",
    "\n",
    "from sklearn.linear_model import LogisticRegression\n",
    "from sklearn.model_selection import train_test_split\n",
    "\n",
    "import seaborn as sns\n",
    "sns.set(style=\"white\")\n",
    "sns.set(style=\"whitegrid\", color_codes=True)"
   ]
  },
  {
   "cell_type": "markdown",
   "metadata": {},
   "source": [
    "Read two CSV files for further analysis. However, we need an "
   ]
  },
  {
   "cell_type": "code",
   "execution_count": 2,
   "metadata": {},
   "outputs": [
    {
     "name": "stdout",
     "output_type": "stream",
     "text": [
      "(716814, 9)\n"
     ]
    },
    {
     "data": {
      "text/html": [
       "<div>\n",
       "<style>\n",
       "    .dataframe thead tr:only-child th {\n",
       "        text-align: right;\n",
       "    }\n",
       "\n",
       "    .dataframe thead th {\n",
       "        text-align: left;\n",
       "    }\n",
       "\n",
       "    .dataframe tbody tr th {\n",
       "        vertical-align: top;\n",
       "    }\n",
       "</style>\n",
       "<table border=\"1\" class=\"dataframe\">\n",
       "  <thead>\n",
       "    <tr style=\"text-align: right;\">\n",
       "      <th></th>\n",
       "      <th>userid</th>\n",
       "      <th>action</th>\n",
       "      <th>objecttype</th>\n",
       "      <th>time_stamp2</th>\n",
       "      <th>exp</th>\n",
       "      <th>coin</th>\n",
       "      <th>gender</th>\n",
       "      <th>birth_year</th>\n",
       "      <th>createdtm</th>\n",
       "    </tr>\n",
       "  </thead>\n",
       "  <tbody>\n",
       "    <tr>\n",
       "      <th>0</th>\n",
       "      <td>59391fbfe4b0a0f774fe022e</td>\n",
       "      <td>VIEW</td>\n",
       "      <td>MISSIONPAGE</td>\n",
       "      <td>2017-07-01 00:04:22.842</td>\n",
       "      <td>0</td>\n",
       "      <td>0</td>\n",
       "      <td>female</td>\n",
       "      <td>2529</td>\n",
       "      <td>2017-06-08 04:58:23.262</td>\n",
       "    </tr>\n",
       "    <tr>\n",
       "      <th>1</th>\n",
       "      <td>59391fbfe4b0a0f774fe022e</td>\n",
       "      <td>VIEW</td>\n",
       "      <td>MISSIONPAGE</td>\n",
       "      <td>2017-07-01 13:54:08.707</td>\n",
       "      <td>0</td>\n",
       "      <td>0</td>\n",
       "      <td>female</td>\n",
       "      <td>2529</td>\n",
       "      <td>2017-06-08 04:58:23.262</td>\n",
       "    </tr>\n",
       "    <tr>\n",
       "      <th>2</th>\n",
       "      <td>59391fbfe4b0a0f774fe022e</td>\n",
       "      <td>VIEW</td>\n",
       "      <td>MISSIONPAGE</td>\n",
       "      <td>2017-07-01 00:02:00.242</td>\n",
       "      <td>0</td>\n",
       "      <td>0</td>\n",
       "      <td>female</td>\n",
       "      <td>2529</td>\n",
       "      <td>2017-06-08 04:58:23.262</td>\n",
       "    </tr>\n",
       "    <tr>\n",
       "      <th>3</th>\n",
       "      <td>59391fbfe4b0a0f774fe022e</td>\n",
       "      <td>VIEW</td>\n",
       "      <td>MISSIONPAGE</td>\n",
       "      <td>2017-07-01 20:19:15.048</td>\n",
       "      <td>0</td>\n",
       "      <td>0</td>\n",
       "      <td>female</td>\n",
       "      <td>2529</td>\n",
       "      <td>2017-06-08 04:58:23.262</td>\n",
       "    </tr>\n",
       "    <tr>\n",
       "      <th>4</th>\n",
       "      <td>59391fbfe4b0a0f774fe022e</td>\n",
       "      <td>VIEW</td>\n",
       "      <td>MISSIONPAGE</td>\n",
       "      <td>2017-07-01 20:34:37.440</td>\n",
       "      <td>0</td>\n",
       "      <td>0</td>\n",
       "      <td>female</td>\n",
       "      <td>2529</td>\n",
       "      <td>2017-06-08 04:58:23.262</td>\n",
       "    </tr>\n",
       "  </tbody>\n",
       "</table>\n",
       "</div>"
      ],
      "text/plain": [
       "                     userid action   objecttype              time_stamp2  exp  \\\n",
       "0  59391fbfe4b0a0f774fe022e   VIEW  MISSIONPAGE  2017-07-01 00:04:22.842    0   \n",
       "1  59391fbfe4b0a0f774fe022e   VIEW  MISSIONPAGE  2017-07-01 13:54:08.707    0   \n",
       "2  59391fbfe4b0a0f774fe022e   VIEW  MISSIONPAGE  2017-07-01 00:02:00.242    0   \n",
       "3  59391fbfe4b0a0f774fe022e   VIEW  MISSIONPAGE  2017-07-01 20:19:15.048    0   \n",
       "4  59391fbfe4b0a0f774fe022e   VIEW  MISSIONPAGE  2017-07-01 20:34:37.440    0   \n",
       "\n",
       "   coin  gender birth_year                createdtm  \n",
       "0     0  female       2529  2017-06-08 04:58:23.262  \n",
       "1     0  female       2529  2017-06-08 04:58:23.262  \n",
       "2     0  female       2529  2017-06-08 04:58:23.262  \n",
       "3     0  female       2529  2017-06-08 04:58:23.262  \n",
       "4     0  female       2529  2017-06-08 04:58:23.262  "
      ]
     },
     "execution_count": 2,
     "metadata": {},
     "output_type": "execute_result"
    }
   ],
   "source": [
    "#Import user activities information\n",
    "userActivity = pd.read_csv('DataSource/application_txn.csv',usecols=[\"userid\",\"objecttype\",\"action\",\"time_stamp2\",\"exp\",\"coin\"])\n",
    "userInformation = pd.read_csv('DataSource/user.csv',usecols=['userid','gender','birth_year','createdtm'])\n",
    "\n",
    "#Merge between user activity and information table\n",
    "userMerged = pd.merge(userActivity,userInformation, on='userid')\n",
    "#Show size of dataframe and previewing some records\n",
    "print(userMerged.shape)\n",
    "userMerged.head(5)"
   ]
  },
  {
   "cell_type": "code",
   "execution_count": 3,
   "metadata": {},
   "outputs": [
    {
     "name": "stdout",
     "output_type": "stream",
     "text": [
      "Start date : 2017-07-01 00:00:01.688000\n",
      "End date: 2017-07-25 23:59:58.382000\n",
      "Period: 25 days\n"
     ]
    }
   ],
   "source": [
    "#Find a period of all activities\n",
    "from datetime import datetime\n",
    "\n",
    "userMerged['time_stamp2'] = pd.to_datetime(userMerged['time_stamp2'], format = '%Y-%m-%d %H:%M:%S.%f')\n",
    "\n",
    "startDate = min(userMerged.time_stamp2)\n",
    "endDate = max(userMerged.time_stamp2)\n",
    "print(\"Start date :\",startDate)\n",
    "print(\"End date:\", endDate)\n",
    "print(\"Period:\", (endDate-startDate).days+1, \"days\")\n"
   ]
  },
  {
   "cell_type": "markdown",
   "metadata": {},
   "source": [
    "\n"
   ]
  },
  {
   "cell_type": "code",
   "execution_count": 4,
   "metadata": {},
   "outputs": [
    {
     "name": "stdout",
     "output_type": "stream",
     "text": [
      "the latest account was created at: 2017-06-30 12:53:09.255000\n",
      "the most recent activity is : 2017-07-07 23:59:50.638000\n"
     ]
    },
    {
     "data": {
      "text/plain": [
       "(193147, 9)"
      ]
     },
     "execution_count": 4,
     "metadata": {},
     "output_type": "execute_result"
    }
   ],
   "source": [
    "#Exclude all activites related users who create their account after start date. Because their activites might not enough for training \n",
    "userMerged['createdtm'] = pd.to_datetime(userMerged['createdtm'], format = '%Y-%m-%d %H:%M:%S.%f')\n",
    "userMerged = userMerged[userMerged[\"createdtm\"] < startDate]\n",
    "\n",
    "#Verify whether the latest account was created before the startDate\n",
    "print(\"the latest account was created at:\",max(userMerged.createdtm))\n",
    "\n",
    "#Define timeline in this case we want to limit the activities within only 1 week (from 2017-07-01 - 2017-07-07)\n",
    "endDate = datetime.strptime(\"2017-07-08 00:00:00.000000\", '%Y-%m-%d %H:%M:%S.%f')\n",
    "firstWeekUserMerged = userMerged[userMerged['time_stamp2'] < endDate]\n",
    "print(\"the most recent activity is :\",max(firstWeekUserMerged.time_stamp2))\n",
    "\n",
    "firstWeekUserMerged.shape\n"
   ]
  },
  {
   "cell_type": "code",
   "execution_count": 5,
   "metadata": {},
   "outputs": [
    {
     "data": {
      "text/plain": [
       "userid             0\n",
       "action             0\n",
       "objecttype     31024\n",
       "time_stamp2        0\n",
       "exp                0\n",
       "coin               0\n",
       "gender          2194\n",
       "birth_year     17680\n",
       "createdtm          0\n",
       "dtype: int64"
      ]
     },
     "execution_count": 5,
     "metadata": {},
     "output_type": "execute_result"
    }
   ],
   "source": [
    "#find out which column has any missing values\n",
    "firstWeekUserMerged.isnull().sum()"
   ]
  },
  {
   "cell_type": "code",
   "execution_count": 6,
   "metadata": {},
   "outputs": [
    {
     "data": {
      "text/plain": [
       "userid             0\n",
       "action             0\n",
       "objecttype     31024\n",
       "time_stamp2        0\n",
       "exp                0\n",
       "coin               0\n",
       "createdtm          0\n",
       "dtype: int64"
      ]
     },
     "execution_count": 6,
     "metadata": {},
     "output_type": "execute_result"
    }
   ],
   "source": [
    "#Because gender and age of customer are static infomation which might not related to behavior, we exclude them out\n",
    "firstWeekUserMerged = firstWeekUserMerged.drop([\"gender\",\"birth_year\"], axis=1)\n",
    "firstWeekUserMerged.isnull().sum()"
   ]
  },
  {
   "cell_type": "code",
   "execution_count": 7,
   "metadata": {},
   "outputs": [
    {
     "data": {
      "image/png": "[encoded data removed]",
      "text/plain": [
       "<matplotlib.figure.Figure at 0x4a55160>"
      ]
     },
     "metadata": {},
     "output_type": "display_data"
    }
   ],
   "source": [
    "#Review histrogram of customer activities\n",
    "sns.countplot(y=\"action\",data=firstWeekUserMerged)\n",
    "plt.show()"
   ]
  },
  {
   "cell_type": "code",
   "execution_count": 8,
   "metadata": {},
   "outputs": [
    {
     "name": "stdout",
     "output_type": "stream",
     "text": [
      "The number of users is : 1247\n"
     ]
    }
   ],
   "source": [
    "#Review number of users\n",
    "numUsers = firstWeekUserMerged[['userid']].drop_duplicates().count()\n",
    "print(\"The number of users is :\",int(numUsers))"
   ]
  },
  {
   "cell_type": "markdown",
   "metadata": {},
   "source": [
    "## 2. Data Preprocessing"
   ]
  },
  {
   "cell_type": "markdown",
   "metadata": {},
   "source": [
    "\n",
    "### 2.1. Create total number of weekly activities  feature"
   ]
  },
  {
   "cell_type": "code",
   "execution_count": 9,
   "metadata": {},
   "outputs": [
    {
     "name": "stdout",
     "output_type": "stream",
     "text": [
      "                     userid  totalAct\n",
      "0  592da01fe4b0a4ee112b84fb       311\n",
      "1  592da02be4b09c162d708589       265\n",
      "2  592da035e4b0a4ee112b8505       499\n",
      "3  592da070e4b09c162d70859a       417\n",
      "4  592da096e4b0a4ee112b852a       290\n",
      "(1247, 2)\n"
     ]
    }
   ],
   "source": [
    "X = firstWeekUserMerged.groupby('userid')[\"action\"].count().reset_index(name=\"totalAct\")\n",
    "print(X.head(5))\n",
    "print(X.shape)"
   ]
  },
  {
   "cell_type": "markdown",
   "metadata": {},
   "source": [
    "### 2.2. Create total accumulated exp and coin within one week feature"
   ]
  },
  {
   "cell_type": "code",
   "execution_count": 10,
   "metadata": {},
   "outputs": [
    {
     "name": "stdout",
     "output_type": "stream",
     "text": [
      "                     userid   exp  coin\n",
      "0  592da01fe4b0a4ee112b84fb  3068  2012\n",
      "1  592da02be4b09c162d708589  1513  1800\n",
      "2  592da035e4b0a4ee112b8505  3285  4902\n",
      "3  592da070e4b09c162d70859a     0     0\n",
      "4  592da096e4b0a4ee112b852a   709  1000\n",
      "(1247, 3)\n"
     ]
    }
   ],
   "source": [
    "#APPIN = firstWeekUserMerged[firstWeekUserMerged[\"action\"]==\"APPIN\"]\n",
    "#APPOUT = firstWeekUserMerged[firstWeekUserMerged[\"action\"]==\"APPOUT\"]\n",
    "\n",
    "#totalAPPIN = APPIN.groupby(\"userid\")[\"action\"].count().reset_index(name=\"totalAPPIN\")\n",
    "#totalAPPOUT = APPOUT.groupby(\"userid\")[\"action\"].count().reset_index(name=\"totalAPPOUT\")\n",
    "\n",
    "#print(totalAPPIN.head(5))\n",
    "#print(totalAPPOUT.head(5))\n",
    "expAndCoinByUser = firstWeekUserMerged.groupby('userid')[\"exp\",\"coin\"].sum().reset_index()\n",
    "\n",
    "print(expAndCoinByUser.head(5))\n",
    "print(expAndCoinByUser.shape)"
   ]
  },
  {
   "cell_type": "code",
   "execution_count": 11,
   "metadata": {},
   "outputs": [
    {
     "data": {
      "text/html": [
       "<div>\n",
       "<style>\n",
       "    .dataframe thead tr:only-child th {\n",
       "        text-align: right;\n",
       "    }\n",
       "\n",
       "    .dataframe thead th {\n",
       "        text-align: left;\n",
       "    }\n",
       "\n",
       "    .dataframe tbody tr th {\n",
       "        vertical-align: top;\n",
       "    }\n",
       "</style>\n",
       "<table border=\"1\" class=\"dataframe\">\n",
       "  <thead>\n",
       "    <tr style=\"text-align: right;\">\n",
       "      <th></th>\n",
       "      <th>userid</th>\n",
       "      <th>totalAct</th>\n",
       "      <th>exp</th>\n",
       "      <th>coin</th>\n",
       "    </tr>\n",
       "  </thead>\n",
       "  <tbody>\n",
       "    <tr>\n",
       "      <th>0</th>\n",
       "      <td>592da01fe4b0a4ee112b84fb</td>\n",
       "      <td>311</td>\n",
       "      <td>3068</td>\n",
       "      <td>2012</td>\n",
       "    </tr>\n",
       "    <tr>\n",
       "      <th>1</th>\n",
       "      <td>592da02be4b09c162d708589</td>\n",
       "      <td>265</td>\n",
       "      <td>1513</td>\n",
       "      <td>1800</td>\n",
       "    </tr>\n",
       "    <tr>\n",
       "      <th>2</th>\n",
       "      <td>592da035e4b0a4ee112b8505</td>\n",
       "      <td>499</td>\n",
       "      <td>3285</td>\n",
       "      <td>4902</td>\n",
       "    </tr>\n",
       "    <tr>\n",
       "      <th>3</th>\n",
       "      <td>592da070e4b09c162d70859a</td>\n",
       "      <td>417</td>\n",
       "      <td>0</td>\n",
       "      <td>0</td>\n",
       "    </tr>\n",
       "    <tr>\n",
       "      <th>4</th>\n",
       "      <td>592da096e4b0a4ee112b852a</td>\n",
       "      <td>290</td>\n",
       "      <td>709</td>\n",
       "      <td>1000</td>\n",
       "    </tr>\n",
       "  </tbody>\n",
       "</table>\n",
       "</div>"
      ],
      "text/plain": [
       "                     userid  totalAct   exp  coin\n",
       "0  592da01fe4b0a4ee112b84fb       311  3068  2012\n",
       "1  592da02be4b09c162d708589       265  1513  1800\n",
       "2  592da035e4b0a4ee112b8505       499  3285  4902\n",
       "3  592da070e4b09c162d70859a       417     0     0\n",
       "4  592da096e4b0a4ee112b852a       290   709  1000"
      ]
     },
     "execution_count": 11,
     "metadata": {},
     "output_type": "execute_result"
    }
   ],
   "source": [
    "#Merge into X\n",
    "X = pd.merge(X, expAndCoinByUser, on=\"userid\")\n",
    "X.head(5)"
   ]
  },
  {
   "cell_type": "markdown",
   "metadata": {},
   "source": [
    "### 2.3 Create inactive period and membership period"
   ]
  },
  {
   "cell_type": "markdown",
   "metadata": {},
   "source": [
    "- Inactive period = The period from the latest activity time to endDate\n",
    "- membership period = The period from created account time to startDate\n",
    "\n",
    "In order to create two features above, we need to find latest activity time by user and created time by user\n",
    "\n",
    "#### 2.3.1 Latest activity time by user"
   ]
  },
  {
   "cell_type": "code",
   "execution_count": 12,
   "metadata": {},
   "outputs": [
    {
     "data": {
      "text/html": [
       "<div>\n",
       "<style>\n",
       "    .dataframe thead tr:only-child th {\n",
       "        text-align: right;\n",
       "    }\n",
       "\n",
       "    .dataframe thead th {\n",
       "        text-align: left;\n",
       "    }\n",
       "\n",
       "    .dataframe tbody tr th {\n",
       "        vertical-align: top;\n",
       "    }\n",
       "</style>\n",
       "<table border=\"1\" class=\"dataframe\">\n",
       "  <thead>\n",
       "    <tr style=\"text-align: right;\">\n",
       "      <th></th>\n",
       "      <th>userid</th>\n",
       "      <th>recentTime</th>\n",
       "    </tr>\n",
       "  </thead>\n",
       "  <tbody>\n",
       "    <tr>\n",
       "      <th>0</th>\n",
       "      <td>592da01fe4b0a4ee112b84fb</td>\n",
       "      <td>2017-07-06 12:06:45.295</td>\n",
       "    </tr>\n",
       "    <tr>\n",
       "      <th>1</th>\n",
       "      <td>592da02be4b09c162d708589</td>\n",
       "      <td>2017-07-06 12:08:26.112</td>\n",
       "    </tr>\n",
       "    <tr>\n",
       "      <th>2</th>\n",
       "      <td>592da035e4b0a4ee112b8505</td>\n",
       "      <td>2017-07-07 17:03:38.790</td>\n",
       "    </tr>\n",
       "    <tr>\n",
       "      <th>3</th>\n",
       "      <td>592da070e4b09c162d70859a</td>\n",
       "      <td>2017-07-06 12:14:26.016</td>\n",
       "    </tr>\n",
       "    <tr>\n",
       "      <th>4</th>\n",
       "      <td>592da096e4b0a4ee112b852a</td>\n",
       "      <td>2017-07-06 12:07:12.875</td>\n",
       "    </tr>\n",
       "  </tbody>\n",
       "</table>\n",
       "</div>"
      ],
      "text/plain": [
       "                     userid              recentTime\n",
       "0  592da01fe4b0a4ee112b84fb 2017-07-06 12:06:45.295\n",
       "1  592da02be4b09c162d708589 2017-07-06 12:08:26.112\n",
       "2  592da035e4b0a4ee112b8505 2017-07-07 17:03:38.790\n",
       "3  592da070e4b09c162d70859a 2017-07-06 12:14:26.016\n",
       "4  592da096e4b0a4ee112b852a 2017-07-06 12:07:12.875"
      ]
     },
     "execution_count": 12,
     "metadata": {},
     "output_type": "execute_result"
    }
   ],
   "source": [
    "#Change time_stamp2 column to be the most recent activity time by user\n",
    "latestTimeByUser = firstWeekUserMerged.groupby('userid')['time_stamp2'].max().reset_index(name=\"recentTime\")\n",
    "latestTimeByUser.head(5)"
   ]
  },
  {
   "cell_type": "markdown",
   "metadata": {},
   "source": [
    "#### 2.3.2 Created account time"
   ]
  },
  {
   "cell_type": "code",
   "execution_count": 13,
   "metadata": {},
   "outputs": [
    {
     "data": {
      "text/html": [
       "<div>\n",
       "<style>\n",
       "    .dataframe thead tr:only-child th {\n",
       "        text-align: right;\n",
       "    }\n",
       "\n",
       "    .dataframe thead th {\n",
       "        text-align: left;\n",
       "    }\n",
       "\n",
       "    .dataframe tbody tr th {\n",
       "        vertical-align: top;\n",
       "    }\n",
       "</style>\n",
       "<table border=\"1\" class=\"dataframe\">\n",
       "  <thead>\n",
       "    <tr style=\"text-align: right;\">\n",
       "      <th></th>\n",
       "      <th>userid</th>\n",
       "      <th>createdtm</th>\n",
       "    </tr>\n",
       "  </thead>\n",
       "  <tbody>\n",
       "    <tr>\n",
       "      <th>0</th>\n",
       "      <td>59391fbfe4b0a0f774fe022e</td>\n",
       "      <td>2017-06-08 04:58:23.262</td>\n",
       "    </tr>\n",
       "    <tr>\n",
       "      <th>340</th>\n",
       "      <td>592f8ddfe4b09c162d715525</td>\n",
       "      <td>2017-06-01 10:45:35.769</td>\n",
       "    </tr>\n",
       "    <tr>\n",
       "      <th>408</th>\n",
       "      <td>592e1c65e4b09c162d70ac5b</td>\n",
       "      <td>2017-05-31 08:29:09.357</td>\n",
       "    </tr>\n",
       "    <tr>\n",
       "      <th>797</th>\n",
       "      <td>5945552ee4b0db45c711c290</td>\n",
       "      <td>2017-06-17 11:13:34.423</td>\n",
       "    </tr>\n",
       "    <tr>\n",
       "      <th>1916</th>\n",
       "      <td>593e4481e4b06f7fcb9eabe4</td>\n",
       "      <td>2017-06-12 02:36:33.388</td>\n",
       "    </tr>\n",
       "  </tbody>\n",
       "</table>\n",
       "</div>"
      ],
      "text/plain": [
       "                        userid               createdtm\n",
       "0     59391fbfe4b0a0f774fe022e 2017-06-08 04:58:23.262\n",
       "340   592f8ddfe4b09c162d715525 2017-06-01 10:45:35.769\n",
       "408   592e1c65e4b09c162d70ac5b 2017-05-31 08:29:09.357\n",
       "797   5945552ee4b0db45c711c290 2017-06-17 11:13:34.423\n",
       "1916  593e4481e4b06f7fcb9eabe4 2017-06-12 02:36:33.388"
      ]
     },
     "execution_count": 13,
     "metadata": {},
     "output_type": "execute_result"
    }
   ],
   "source": [
    "#Find only unique created account time by user\n",
    "uniqueCreatedTimeByUser = firstWeekUserMerged[['userid','createdtm']].drop_duplicates()\n",
    "uniqueCreatedTimeByUser.head(5)"
   ]
  },
  {
   "cell_type": "code",
   "execution_count": 14,
   "metadata": {},
   "outputs": [
    {
     "data": {
      "text/html": [
       "<div>\n",
       "<style>\n",
       "    .dataframe thead tr:only-child th {\n",
       "        text-align: right;\n",
       "    }\n",
       "\n",
       "    .dataframe thead th {\n",
       "        text-align: left;\n",
       "    }\n",
       "\n",
       "    .dataframe tbody tr th {\n",
       "        vertical-align: top;\n",
       "    }\n",
       "</style>\n",
       "<table border=\"1\" class=\"dataframe\">\n",
       "  <thead>\n",
       "    <tr style=\"text-align: right;\">\n",
       "      <th></th>\n",
       "      <th>userid</th>\n",
       "      <th>totalAct</th>\n",
       "      <th>exp</th>\n",
       "      <th>coin</th>\n",
       "      <th>recentTime</th>\n",
       "      <th>createdtm</th>\n",
       "    </tr>\n",
       "  </thead>\n",
       "  <tbody>\n",
       "    <tr>\n",
       "      <th>0</th>\n",
       "      <td>592da01fe4b0a4ee112b84fb</td>\n",
       "      <td>311</td>\n",
       "      <td>3068</td>\n",
       "      <td>2012</td>\n",
       "      <td>2017-07-06 12:06:45.295</td>\n",
       "      <td>2017-05-30 11:38:55.764</td>\n",
       "    </tr>\n",
       "    <tr>\n",
       "      <th>1</th>\n",
       "      <td>592da02be4b09c162d708589</td>\n",
       "      <td>265</td>\n",
       "      <td>1513</td>\n",
       "      <td>1800</td>\n",
       "      <td>2017-07-06 12:08:26.112</td>\n",
       "      <td>2017-05-30 11:39:07.470</td>\n",
       "    </tr>\n",
       "    <tr>\n",
       "      <th>2</th>\n",
       "      <td>592da035e4b0a4ee112b8505</td>\n",
       "      <td>499</td>\n",
       "      <td>3285</td>\n",
       "      <td>4902</td>\n",
       "      <td>2017-07-07 17:03:38.790</td>\n",
       "      <td>2017-05-30 11:39:17.917</td>\n",
       "    </tr>\n",
       "    <tr>\n",
       "      <th>3</th>\n",
       "      <td>592da070e4b09c162d70859a</td>\n",
       "      <td>417</td>\n",
       "      <td>0</td>\n",
       "      <td>0</td>\n",
       "      <td>2017-07-06 12:14:26.016</td>\n",
       "      <td>2017-05-30 11:40:16.498</td>\n",
       "    </tr>\n",
       "    <tr>\n",
       "      <th>4</th>\n",
       "      <td>592da096e4b0a4ee112b852a</td>\n",
       "      <td>290</td>\n",
       "      <td>709</td>\n",
       "      <td>1000</td>\n",
       "      <td>2017-07-06 12:07:12.875</td>\n",
       "      <td>2017-05-30 11:40:54.438</td>\n",
       "    </tr>\n",
       "  </tbody>\n",
       "</table>\n",
       "</div>"
      ],
      "text/plain": [
       "                     userid  totalAct   exp  coin              recentTime  \\\n",
       "0  592da01fe4b0a4ee112b84fb       311  3068  2012 2017-07-06 12:06:45.295   \n",
       "1  592da02be4b09c162d708589       265  1513  1800 2017-07-06 12:08:26.112   \n",
       "2  592da035e4b0a4ee112b8505       499  3285  4902 2017-07-07 17:03:38.790   \n",
       "3  592da070e4b09c162d70859a       417     0     0 2017-07-06 12:14:26.016   \n",
       "4  592da096e4b0a4ee112b852a       290   709  1000 2017-07-06 12:07:12.875   \n",
       "\n",
       "                createdtm  \n",
       "0 2017-05-30 11:38:55.764  \n",
       "1 2017-05-30 11:39:07.470  \n",
       "2 2017-05-30 11:39:17.917  \n",
       "3 2017-05-30 11:40:16.498  \n",
       "4 2017-05-30 11:40:54.438  "
      ]
     },
     "execution_count": 14,
     "metadata": {},
     "output_type": "execute_result"
    }
   ],
   "source": [
    "#Merge 2 dataframes above into X\n",
    "X = pd.merge(X, latestTimeByUser, on=\"userid\")\n",
    "X = pd.merge(X, uniqueCreatedTimeByUser , on =\"userid\")\n",
    "X.head(5)"
   ]
  },
  {
   "cell_type": "markdown",
   "metadata": {},
   "source": [
    "#### 2.3.3. Create inactive and membership period features"
   ]
  },
  {
   "cell_type": "code",
   "execution_count": 15,
   "metadata": {},
   "outputs": [
    {
     "data": {
      "text/html": [
       "<div>\n",
       "<style>\n",
       "    .dataframe thead tr:only-child th {\n",
       "        text-align: right;\n",
       "    }\n",
       "\n",
       "    .dataframe thead th {\n",
       "        text-align: left;\n",
       "    }\n",
       "\n",
       "    .dataframe tbody tr th {\n",
       "        vertical-align: top;\n",
       "    }\n",
       "</style>\n",
       "<table border=\"1\" class=\"dataframe\">\n",
       "  <thead>\n",
       "    <tr style=\"text-align: right;\">\n",
       "      <th></th>\n",
       "      <th>userid</th>\n",
       "      <th>totalAct</th>\n",
       "      <th>exp</th>\n",
       "      <th>coin</th>\n",
       "      <th>recentTime</th>\n",
       "      <th>createdtm</th>\n",
       "      <th>inactivePeriod</th>\n",
       "      <th>memberPeriod</th>\n",
       "    </tr>\n",
       "  </thead>\n",
       "  <tbody>\n",
       "    <tr>\n",
       "      <th>0</th>\n",
       "      <td>592da01fe4b0a4ee112b84fb</td>\n",
       "      <td>311</td>\n",
       "      <td>3068</td>\n",
       "      <td>2012</td>\n",
       "      <td>2017-07-06 12:06:45.295</td>\n",
       "      <td>2017-05-30 11:38:55.764</td>\n",
       "      <td>1</td>\n",
       "      <td>31</td>\n",
       "    </tr>\n",
       "    <tr>\n",
       "      <th>1</th>\n",
       "      <td>592da02be4b09c162d708589</td>\n",
       "      <td>265</td>\n",
       "      <td>1513</td>\n",
       "      <td>1800</td>\n",
       "      <td>2017-07-06 12:08:26.112</td>\n",
       "      <td>2017-05-30 11:39:07.470</td>\n",
       "      <td>1</td>\n",
       "      <td>31</td>\n",
       "    </tr>\n",
       "    <tr>\n",
       "      <th>2</th>\n",
       "      <td>592da035e4b0a4ee112b8505</td>\n",
       "      <td>499</td>\n",
       "      <td>3285</td>\n",
       "      <td>4902</td>\n",
       "      <td>2017-07-07 17:03:38.790</td>\n",
       "      <td>2017-05-30 11:39:17.917</td>\n",
       "      <td>0</td>\n",
       "      <td>31</td>\n",
       "    </tr>\n",
       "    <tr>\n",
       "      <th>3</th>\n",
       "      <td>592da070e4b09c162d70859a</td>\n",
       "      <td>417</td>\n",
       "      <td>0</td>\n",
       "      <td>0</td>\n",
       "      <td>2017-07-06 12:14:26.016</td>\n",
       "      <td>2017-05-30 11:40:16.498</td>\n",
       "      <td>1</td>\n",
       "      <td>31</td>\n",
       "    </tr>\n",
       "    <tr>\n",
       "      <th>4</th>\n",
       "      <td>592da096e4b0a4ee112b852a</td>\n",
       "      <td>290</td>\n",
       "      <td>709</td>\n",
       "      <td>1000</td>\n",
       "      <td>2017-07-06 12:07:12.875</td>\n",
       "      <td>2017-05-30 11:40:54.438</td>\n",
       "      <td>1</td>\n",
       "      <td>31</td>\n",
       "    </tr>\n",
       "  </tbody>\n",
       "</table>\n",
       "</div>"
      ],
      "text/plain": [
       "                     userid  totalAct   exp  coin              recentTime  \\\n",
       "0  592da01fe4b0a4ee112b84fb       311  3068  2012 2017-07-06 12:06:45.295   \n",
       "1  592da02be4b09c162d708589       265  1513  1800 2017-07-06 12:08:26.112   \n",
       "2  592da035e4b0a4ee112b8505       499  3285  4902 2017-07-07 17:03:38.790   \n",
       "3  592da070e4b09c162d70859a       417     0     0 2017-07-06 12:14:26.016   \n",
       "4  592da096e4b0a4ee112b852a       290   709  1000 2017-07-06 12:07:12.875   \n",
       "\n",
       "                createdtm  inactivePeriod  memberPeriod  \n",
       "0 2017-05-30 11:38:55.764               1            31  \n",
       "1 2017-05-30 11:39:07.470               1            31  \n",
       "2 2017-05-30 11:39:17.917               0            31  \n",
       "3 2017-05-30 11:40:16.498               1            31  \n",
       "4 2017-05-30 11:40:54.438               1            31  "
      ]
     },
     "execution_count": 15,
     "metadata": {},
     "output_type": "execute_result"
    }
   ],
   "source": [
    "#It is the period between the time last activity took place and end date\n",
    "X[\"inactivePeriod\"] = endDate - X['recentTime']\n",
    "#Convert to number of days\n",
    "X[\"inactivePeriod\"] = X.inactivePeriod.dt.days\n",
    "\n",
    "#Create new feature of the membership period from the registration date until start date\n",
    "X[\"memberPeriod\"] = startDate - X[\"createdtm\"]\n",
    "#Convert to number of days\n",
    "X[\"memberPeriod\"] = X.memberPeriod.dt.days\n",
    "\n",
    "X.head(5)"
   ]
  },
  {
   "cell_type": "code",
   "execution_count": 16,
   "metadata": {},
   "outputs": [
    {
     "data": {
      "image/png": "[encoded data removed]",
      "text/plain": [
       "<matplotlib.figure.Figure at 0xbd02748>"
      ]
     },
     "metadata": {},
     "output_type": "display_data"
    }
   ],
   "source": [
    "sns.countplot(x=\"inactivePeriod\",data=X)\n",
    "plt.show()"
   ]
  },
  {
   "cell_type": "code",
   "execution_count": 17,
   "metadata": {},
   "outputs": [
    {
     "data": {
      "image/png": "[encoded data removed]",
      "text/plain": [
       "<matplotlib.figure.Figure at 0xc245c88>"
      ]
     },
     "metadata": {},
     "output_type": "display_data"
    }
   ],
   "source": [
    "sns.countplot(y=\"memberPeriod\",data=X)\n",
    "plt.show()"
   ]
  },
  {
   "cell_type": "code",
   "execution_count": null,
   "metadata": {
    "collapsed": true
   },
   "outputs": [],
   "source": [
    "\n",
    "\n",
    "\n"
   ]
  },
  {
   "cell_type": "code",
   "execution_count": null,
   "metadata": {
    "collapsed": true
   },
   "outputs": [],
   "source": []
  },
  {
   "cell_type": "code",
   "execution_count": null,
   "metadata": {
    "collapsed": true
   },
   "outputs": [],
   "source": []
  },
  {
   "cell_type": "code",
   "execution_count": null,
   "metadata": {
    "collapsed": true
   },
   "outputs": [],
   "source": []
  },
  {
   "cell_type": "code",
   "execution_count": null,
   "metadata": {
    "collapsed": true
   },
   "outputs": [],
   "source": []
  },
  {
   "cell_type": "markdown",
   "metadata": {},
   "source": [
    "### 2.4. Create activeDay feature\n",
    "activeDay represents how often users use this application in one week"
   ]
  },
  {
   "cell_type": "code",
   "execution_count": 18,
   "metadata": {
    "collapsed": true
   },
   "outputs": [],
   "source": [
    "#Convert time_stamp2 to date\n",
    "firstWeekUserMerged[\"day_time_stamp2\"] = firstWeekUserMerged.time_stamp2.dt.day\n",
    "\n",
    "#Count how often users use this application in one week\n",
    "\n",
    "#Extract the number of day by users\n",
    "activityByUserByday = firstWeekUserMerged.groupby('userid')[\"day_time_stamp2\"].value_counts().index.tolist()\n",
    "activityByUserByday = pd.DataFrame(activityByUserByday,columns=[\"userid\",\"activeDay\"])\n",
    "#activityByUserByday.head(10)"
   ]
  },
  {
   "cell_type": "code",
   "execution_count": 19,
   "metadata": {},
   "outputs": [
    {
     "data": {
      "text/html": [
       "<div>\n",
       "<style>\n",
       "    .dataframe thead tr:only-child th {\n",
       "        text-align: right;\n",
       "    }\n",
       "\n",
       "    .dataframe thead th {\n",
       "        text-align: left;\n",
       "    }\n",
       "\n",
       "    .dataframe tbody tr th {\n",
       "        vertical-align: top;\n",
       "    }\n",
       "</style>\n",
       "<table border=\"1\" class=\"dataframe\">\n",
       "  <thead>\n",
       "    <tr style=\"text-align: right;\">\n",
       "      <th></th>\n",
       "      <th>userid</th>\n",
       "      <th>activeDay</th>\n",
       "    </tr>\n",
       "  </thead>\n",
       "  <tbody>\n",
       "    <tr>\n",
       "      <th>0</th>\n",
       "      <td>592da01fe4b0a4ee112b84fb</td>\n",
       "      <td>5</td>\n",
       "    </tr>\n",
       "    <tr>\n",
       "      <th>1</th>\n",
       "      <td>592da02be4b09c162d708589</td>\n",
       "      <td>5</td>\n",
       "    </tr>\n",
       "    <tr>\n",
       "      <th>2</th>\n",
       "      <td>592da035e4b0a4ee112b8505</td>\n",
       "      <td>7</td>\n",
       "    </tr>\n",
       "    <tr>\n",
       "      <th>3</th>\n",
       "      <td>592da070e4b09c162d70859a</td>\n",
       "      <td>5</td>\n",
       "    </tr>\n",
       "    <tr>\n",
       "      <th>4</th>\n",
       "      <td>592da096e4b0a4ee112b852a</td>\n",
       "      <td>5</td>\n",
       "    </tr>\n",
       "    <tr>\n",
       "      <th>5</th>\n",
       "      <td>592da0bae4b0a4ee112b8545</td>\n",
       "      <td>6</td>\n",
       "    </tr>\n",
       "    <tr>\n",
       "      <th>6</th>\n",
       "      <td>592da122e4b09c162d708602</td>\n",
       "      <td>7</td>\n",
       "    </tr>\n",
       "    <tr>\n",
       "      <th>7</th>\n",
       "      <td>592da13ce4b09c162d70862a</td>\n",
       "      <td>3</td>\n",
       "    </tr>\n",
       "    <tr>\n",
       "      <th>8</th>\n",
       "      <td>592da3a2e4b0a4ee112b8618</td>\n",
       "      <td>4</td>\n",
       "    </tr>\n",
       "    <tr>\n",
       "      <th>9</th>\n",
       "      <td>592da3a3e4b09c162d708691</td>\n",
       "      <td>6</td>\n",
       "    </tr>\n",
       "  </tbody>\n",
       "</table>\n",
       "</div>"
      ],
      "text/plain": [
       "                     userid  activeDay\n",
       "0  592da01fe4b0a4ee112b84fb          5\n",
       "1  592da02be4b09c162d708589          5\n",
       "2  592da035e4b0a4ee112b8505          7\n",
       "3  592da070e4b09c162d70859a          5\n",
       "4  592da096e4b0a4ee112b852a          5\n",
       "5  592da0bae4b0a4ee112b8545          6\n",
       "6  592da122e4b09c162d708602          7\n",
       "7  592da13ce4b09c162d70862a          3\n",
       "8  592da3a2e4b0a4ee112b8618          4\n",
       "9  592da3a3e4b09c162d708691          6"
      ]
     },
     "execution_count": 19,
     "metadata": {},
     "output_type": "execute_result"
    }
   ],
   "source": [
    "#Accumulate number of day by user\n",
    "activityByUserByday = activityByUserByday.groupby('userid')[\"activeDay\"].count().reset_index()\n",
    "activityByUserByday.head(10)"
   ]
  },
  {
   "cell_type": "code",
   "execution_count": 20,
   "metadata": {},
   "outputs": [
    {
     "name": "stdout",
     "output_type": "stream",
     "text": [
      "\n",
      "The highest number of active day is : 7 days\n",
      "There are 100 users who keep playing the mobile application for 7 days\n"
     ]
    }
   ],
   "source": [
    "maxActiveDay = max(activityByUserByday[\"activeDay\"])\n",
    "print(\"\\nThe highest number of active day is :\",maxActiveDay,\"days\")\n",
    "\n",
    "numberOfUser = activityByUserByday[activityByUserByday[\"activeDay\"]==maxActiveDay].userid.count()\n",
    "print(\"There are\",numberOfUser,\"users who keep playing the mobile application for\", maxActiveDay,\"days\")\n",
    "\n",
    "#Merge activeDay feature into training data\n",
    "X = pd.merge(X, activityByUserByday[['userid','activeDay']] , on =\"userid\")"
   ]
  },
  {
   "cell_type": "code",
   "execution_count": 21,
   "metadata": {
    "collapsed": true
   },
   "outputs": [],
   "source": [
    "\n",
    "#activityDummies = pd.get_dummies(firstWeekUserMerged, columns =['action', 'objecttype'])\n",
    "#activityDummies.columns\n",
    "\n",
    "#accumulate the number of activities by user\n",
    "#activityByUser = activityDummies.groupby('userid')[activityDummies.columns].sum().reset_index()\n",
    "#activityByUser = activityByUser.drop([\"exp\",\"coin\"], axis=1)\n",
    "#activityByUser = activityByUser[[\"userid\",\"action_APPIN\",\"action_APPOUT\"]]\n",
    "\n",
    "#activityByUser.head(5)\n",
    "\n",
    "#X = pd.merge(X, activityByUser , on =\"userid\")"
   ]
  },
  {
   "cell_type": "code",
   "execution_count": 22,
   "metadata": {},
   "outputs": [
    {
     "data": {
      "text/html": [
       "<div>\n",
       "<style>\n",
       "    .dataframe thead tr:only-child th {\n",
       "        text-align: right;\n",
       "    }\n",
       "\n",
       "    .dataframe thead th {\n",
       "        text-align: left;\n",
       "    }\n",
       "\n",
       "    .dataframe tbody tr th {\n",
       "        vertical-align: top;\n",
       "    }\n",
       "</style>\n",
       "<table border=\"1\" class=\"dataframe\">\n",
       "  <thead>\n",
       "    <tr style=\"text-align: right;\">\n",
       "      <th></th>\n",
       "      <th>userid</th>\n",
       "      <th>totalAct</th>\n",
       "      <th>exp</th>\n",
       "      <th>coin</th>\n",
       "      <th>recentTime</th>\n",
       "      <th>createdtm</th>\n",
       "      <th>inactivePeriod</th>\n",
       "      <th>memberPeriod</th>\n",
       "      <th>activeDay</th>\n",
       "    </tr>\n",
       "  </thead>\n",
       "  <tbody>\n",
       "    <tr>\n",
       "      <th>0</th>\n",
       "      <td>592da01fe4b0a4ee112b84fb</td>\n",
       "      <td>311</td>\n",
       "      <td>3068</td>\n",
       "      <td>2012</td>\n",
       "      <td>2017-07-06 12:06:45.295</td>\n",
       "      <td>2017-05-30 11:38:55.764</td>\n",
       "      <td>1</td>\n",
       "      <td>31</td>\n",
       "      <td>5</td>\n",
       "    </tr>\n",
       "    <tr>\n",
       "      <th>1</th>\n",
       "      <td>592da02be4b09c162d708589</td>\n",
       "      <td>265</td>\n",
       "      <td>1513</td>\n",
       "      <td>1800</td>\n",
       "      <td>2017-07-06 12:08:26.112</td>\n",
       "      <td>2017-05-30 11:39:07.470</td>\n",
       "      <td>1</td>\n",
       "      <td>31</td>\n",
       "      <td>5</td>\n",
       "    </tr>\n",
       "    <tr>\n",
       "      <th>2</th>\n",
       "      <td>592da035e4b0a4ee112b8505</td>\n",
       "      <td>499</td>\n",
       "      <td>3285</td>\n",
       "      <td>4902</td>\n",
       "      <td>2017-07-07 17:03:38.790</td>\n",
       "      <td>2017-05-30 11:39:17.917</td>\n",
       "      <td>0</td>\n",
       "      <td>31</td>\n",
       "      <td>7</td>\n",
       "    </tr>\n",
       "    <tr>\n",
       "      <th>3</th>\n",
       "      <td>592da070e4b09c162d70859a</td>\n",
       "      <td>417</td>\n",
       "      <td>0</td>\n",
       "      <td>0</td>\n",
       "      <td>2017-07-06 12:14:26.016</td>\n",
       "      <td>2017-05-30 11:40:16.498</td>\n",
       "      <td>1</td>\n",
       "      <td>31</td>\n",
       "      <td>5</td>\n",
       "    </tr>\n",
       "    <tr>\n",
       "      <th>4</th>\n",
       "      <td>592da096e4b0a4ee112b852a</td>\n",
       "      <td>290</td>\n",
       "      <td>709</td>\n",
       "      <td>1000</td>\n",
       "      <td>2017-07-06 12:07:12.875</td>\n",
       "      <td>2017-05-30 11:40:54.438</td>\n",
       "      <td>1</td>\n",
       "      <td>31</td>\n",
       "      <td>5</td>\n",
       "    </tr>\n",
       "  </tbody>\n",
       "</table>\n",
       "</div>"
      ],
      "text/plain": [
       "                     userid  totalAct   exp  coin              recentTime  \\\n",
       "0  592da01fe4b0a4ee112b84fb       311  3068  2012 2017-07-06 12:06:45.295   \n",
       "1  592da02be4b09c162d708589       265  1513  1800 2017-07-06 12:08:26.112   \n",
       "2  592da035e4b0a4ee112b8505       499  3285  4902 2017-07-07 17:03:38.790   \n",
       "3  592da070e4b09c162d70859a       417     0     0 2017-07-06 12:14:26.016   \n",
       "4  592da096e4b0a4ee112b852a       290   709  1000 2017-07-06 12:07:12.875   \n",
       "\n",
       "                createdtm  inactivePeriod  memberPeriod  activeDay  \n",
       "0 2017-05-30 11:38:55.764               1            31          5  \n",
       "1 2017-05-30 11:39:07.470               1            31          5  \n",
       "2 2017-05-30 11:39:17.917               0            31          7  \n",
       "3 2017-05-30 11:40:16.498               1            31          5  \n",
       "4 2017-05-30 11:40:54.438               1            31          5  "
      ]
     },
     "execution_count": 22,
     "metadata": {},
     "output_type": "execute_result"
    }
   ],
   "source": [
    "X.head(5)"
   ]
  },
  {
   "cell_type": "markdown",
   "metadata": {},
   "source": [
    "### 2.5. Label dataset\n",
    "\n",
    "- Y = 1 : When users don't have any activities in the next week\n",
    "- Y = 0 : When users have at least one activity in the next week\n",
    "\n",
    "\n"
   ]
  },
  {
   "cell_type": "code",
   "execution_count": 23,
   "metadata": {},
   "outputs": [
    {
     "name": "stdout",
     "output_type": "stream",
     "text": [
      "the first activity is : 2017-07-08 00:00:00.080000\n",
      "the most recent activity is : 2017-07-14 23:59:45.156000\n",
      "                     userid  totalAct   exp  coin              recentTime  \\\n",
      "0  592da01fe4b0a4ee112b84fb       311  3068  2012 2017-07-06 12:06:45.295   \n",
      "1  592da02be4b09c162d708589       265  1513  1800 2017-07-06 12:08:26.112   \n",
      "2  592da035e4b0a4ee112b8505       499  3285  4902 2017-07-07 17:03:38.790   \n",
      "3  592da070e4b09c162d70859a       417     0     0 2017-07-06 12:14:26.016   \n",
      "4  592da096e4b0a4ee112b852a       290   709  1000 2017-07-06 12:07:12.875   \n",
      "\n",
      "                createdtm  inactivePeriod  memberPeriod  activeDay  \n",
      "0 2017-05-30 11:38:55.764               1            31          5  \n",
      "1 2017-05-30 11:39:07.470               1            31          5  \n",
      "2 2017-05-30 11:39:17.917               0            31          7  \n",
      "3 2017-05-30 11:40:16.498               1            31          5  \n",
      "4 2017-05-30 11:40:54.438               1            31          5  \n",
      "                     userid  totalAct   exp  coin              recentTime  \\\n",
      "0  592da01fe4b0a4ee112b84fb       311  3068  2012 2017-07-06 12:06:45.295   \n",
      "1  592da02be4b09c162d708589       265  1513  1800 2017-07-06 12:08:26.112   \n",
      "2  592da035e4b0a4ee112b8505       499  3285  4902 2017-07-07 17:03:38.790   \n",
      "3  592da070e4b09c162d70859a       417     0     0 2017-07-06 12:14:26.016   \n",
      "4  592da096e4b0a4ee112b852a       290   709  1000 2017-07-06 12:07:12.875   \n",
      "\n",
      "                createdtm  inactivePeriod  memberPeriod  activeDay  y  \n",
      "0 2017-05-30 11:38:55.764               1            31          5  1  \n",
      "1 2017-05-30 11:39:07.470               1            31          5  0  \n",
      "2 2017-05-30 11:39:17.917               0            31          7  0  \n",
      "3 2017-05-30 11:40:16.498               1            31          5  0  \n",
      "4 2017-05-30 11:40:54.438               1            31          5  0  \n"
     ]
    },
    {
     "data": {
      "image/png": "[encoded data removed]",
      "text/plain": [
       "<matplotlib.figure.Figure at 0x1057ecc0>"
      ]
     },
     "metadata": {},
     "output_type": "display_data"
    }
   ],
   "source": [
    "#Define Y = 0 when activeDay = MaxActiveDay (These users have new activites everyday). Otherwise Y = 1 (Churn)\n",
    "#X['y'] = np.where(X[\"activeDay\"]==maxActiveDay, 0 , 1)\n",
    "\n",
    "\n",
    "#Define start and end date for next week\n",
    "nextStartDate = datetime.strptime(\"2017-07-08 00:00:00.000000\", '%Y-%m-%d %H:%M:%S.%f')\n",
    "nextEndDate = datetime.strptime(\"2017-07-15 00:00:00.000000\", '%Y-%m-%d %H:%M:%S.%f')\n",
    "\n",
    "#Filter activity within nextweek peiod from predefined date above\n",
    "nextWeekUserMerged = userMerged.loc[(userMerged['time_stamp2'] >= nextStartDate) & (userMerged['time_stamp2'] < nextEndDate)]\n",
    "print(\"the first activity is :\",min(nextWeekUserMerged.time_stamp2))\n",
    "print(\"the most recent activity is :\",max(nextWeekUserMerged.time_stamp2))\n",
    "\n",
    "#Get only user list within next week period\n",
    "nextWeekUserList = nextWeekUserMerged[[\"userid\"]].drop_duplicates()\n",
    "nextWeekUserList = nextWeekUserList[\"userid\"].tolist()\n",
    "#nextWeekUserList.head(5)\n",
    "print(X.head(5))\n",
    "\n",
    "X['y'] = np.where(X[\"userid\"].isin(nextWeekUserList),0 , 1)\n",
    "print(X.head(5))\n",
    "\n",
    "\n",
    "#Determine histrogram of Y\n",
    "sns.countplot(x=\"y\",data=X,palette='hls')\n",
    "plt.show()"
   ]
  },
  {
   "cell_type": "code",
   "execution_count": 24,
   "metadata": {},
   "outputs": [
    {
     "data": {
      "text/html": [
       "<div>\n",
       "<style>\n",
       "    .dataframe thead tr:only-child th {\n",
       "        text-align: right;\n",
       "    }\n",
       "\n",
       "    .dataframe thead th {\n",
       "        text-align: left;\n",
       "    }\n",
       "\n",
       "    .dataframe tbody tr th {\n",
       "        vertical-align: top;\n",
       "    }\n",
       "</style>\n",
       "<table border=\"1\" class=\"dataframe\">\n",
       "  <thead>\n",
       "    <tr style=\"text-align: right;\">\n",
       "      <th></th>\n",
       "      <th>userid</th>\n",
       "      <th>totalAct</th>\n",
       "      <th>exp</th>\n",
       "      <th>coin</th>\n",
       "      <th>recentTime</th>\n",
       "      <th>createdtm</th>\n",
       "      <th>inactivePeriod</th>\n",
       "      <th>memberPeriod</th>\n",
       "      <th>activeDay</th>\n",
       "      <th>y</th>\n",
       "    </tr>\n",
       "  </thead>\n",
       "  <tbody>\n",
       "    <tr>\n",
       "      <th>0</th>\n",
       "      <td>592da01fe4b0a4ee112b84fb</td>\n",
       "      <td>311</td>\n",
       "      <td>3068</td>\n",
       "      <td>2012</td>\n",
       "      <td>2017-07-06 12:06:45.295</td>\n",
       "      <td>2017-05-30 11:38:55.764</td>\n",
       "      <td>1</td>\n",
       "      <td>31</td>\n",
       "      <td>5</td>\n",
       "      <td>1</td>\n",
       "    </tr>\n",
       "    <tr>\n",
       "      <th>1</th>\n",
       "      <td>592da02be4b09c162d708589</td>\n",
       "      <td>265</td>\n",
       "      <td>1513</td>\n",
       "      <td>1800</td>\n",
       "      <td>2017-07-06 12:08:26.112</td>\n",
       "      <td>2017-05-30 11:39:07.470</td>\n",
       "      <td>1</td>\n",
       "      <td>31</td>\n",
       "      <td>5</td>\n",
       "      <td>0</td>\n",
       "    </tr>\n",
       "    <tr>\n",
       "      <th>2</th>\n",
       "      <td>592da035e4b0a4ee112b8505</td>\n",
       "      <td>499</td>\n",
       "      <td>3285</td>\n",
       "      <td>4902</td>\n",
       "      <td>2017-07-07 17:03:38.790</td>\n",
       "      <td>2017-05-30 11:39:17.917</td>\n",
       "      <td>0</td>\n",
       "      <td>31</td>\n",
       "      <td>7</td>\n",
       "      <td>0</td>\n",
       "    </tr>\n",
       "    <tr>\n",
       "      <th>3</th>\n",
       "      <td>592da070e4b09c162d70859a</td>\n",
       "      <td>417</td>\n",
       "      <td>0</td>\n",
       "      <td>0</td>\n",
       "      <td>2017-07-06 12:14:26.016</td>\n",
       "      <td>2017-05-30 11:40:16.498</td>\n",
       "      <td>1</td>\n",
       "      <td>31</td>\n",
       "      <td>5</td>\n",
       "      <td>0</td>\n",
       "    </tr>\n",
       "    <tr>\n",
       "      <th>4</th>\n",
       "      <td>592da096e4b0a4ee112b852a</td>\n",
       "      <td>290</td>\n",
       "      <td>709</td>\n",
       "      <td>1000</td>\n",
       "      <td>2017-07-06 12:07:12.875</td>\n",
       "      <td>2017-05-30 11:40:54.438</td>\n",
       "      <td>1</td>\n",
       "      <td>31</td>\n",
       "      <td>5</td>\n",
       "      <td>0</td>\n",
       "    </tr>\n",
       "  </tbody>\n",
       "</table>\n",
       "</div>"
      ],
      "text/plain": [
       "                     userid  totalAct   exp  coin              recentTime  \\\n",
       "0  592da01fe4b0a4ee112b84fb       311  3068  2012 2017-07-06 12:06:45.295   \n",
       "1  592da02be4b09c162d708589       265  1513  1800 2017-07-06 12:08:26.112   \n",
       "2  592da035e4b0a4ee112b8505       499  3285  4902 2017-07-07 17:03:38.790   \n",
       "3  592da070e4b09c162d70859a       417     0     0 2017-07-06 12:14:26.016   \n",
       "4  592da096e4b0a4ee112b852a       290   709  1000 2017-07-06 12:07:12.875   \n",
       "\n",
       "                createdtm  inactivePeriod  memberPeriod  activeDay  y  \n",
       "0 2017-05-30 11:38:55.764               1            31          5  1  \n",
       "1 2017-05-30 11:39:07.470               1            31          5  0  \n",
       "2 2017-05-30 11:39:17.917               0            31          7  0  \n",
       "3 2017-05-30 11:40:16.498               1            31          5  0  \n",
       "4 2017-05-30 11:40:54.438               1            31          5  0  "
      ]
     },
     "execution_count": 24,
     "metadata": {},
     "output_type": "execute_result"
    }
   ],
   "source": [
    "X.head()"
   ]
  },
  {
   "cell_type": "code",
   "execution_count": 25,
   "metadata": {
    "collapsed": true
   },
   "outputs": [],
   "source": [
    "#Last verification before running model"
   ]
  },
  {
   "cell_type": "code",
   "execution_count": 26,
   "metadata": {},
   "outputs": [
    {
     "data": {
      "text/plain": [
       "userid            0\n",
       "totalAct          0\n",
       "coin              0\n",
       "inactivePeriod    0\n",
       "memberPeriod      0\n",
       "activeDay         0\n",
       "y                 0\n",
       "dtype: int64"
      ]
     },
     "execution_count": 26,
     "metadata": {},
     "output_type": "execute_result"
    }
   ],
   "source": [
    "#Remove unnesscary timestamp as we have already created inactive and active feature\n",
    "X.drop([\"recentTime\",\"createdtm\"], axis=1, inplace=True)\n",
    "X.isnull().sum()\n"
   ]
  },
  {
   "cell_type": "code",
   "execution_count": 27,
   "metadata": {},
   "outputs": [
    {
     "data": {
      "image/png": "[encoded data removed]",
      "text/plain": [
       "<matplotlib.figure.Figure at 0x14df1438>"
      ]
     },
     "metadata": {},
     "output_type": "display_data"
    },
    {
     "data": {
      "text/html": [
       "<div>\n",
       "<style>\n",
       "    .dataframe thead tr:only-child th {\n",
       "        text-align: right;\n",
       "    }\n",
       "\n",
       "    .dataframe thead th {\n",
       "        text-align: left;\n",
       "    }\n",
       "\n",
       "    .dataframe tbody tr th {\n",
       "        vertical-align: top;\n",
       "    }\n",
       "</style>\n",
       "<table border=\"1\" class=\"dataframe\">\n",
       "  <thead>\n",
       "    <tr style=\"text-align: right;\">\n",
       "      <th></th>\n",
       "      <th>userid</th>\n",
       "      <th>totalAct</th>\n",
       "      <th>coin</th>\n",
       "      <th>inactivePeriod</th>\n",
       "      <th>memberPeriod</th>\n",
       "      <th>activeDay</th>\n",
       "      <th>y</th>\n",
       "    </tr>\n",
       "  </thead>\n",
       "  <tbody>\n",
       "    <tr>\n",
       "      <th>0</th>\n",
       "      <td>592da01fe4b0a4ee112b84fb</td>\n",
       "      <td>311</td>\n",
       "      <td>2012</td>\n",
       "      <td>1</td>\n",
       "      <td>31</td>\n",
       "      <td>5</td>\n",
       "      <td>1</td>\n",
       "    </tr>\n",
       "    <tr>\n",
       "      <th>1</th>\n",
       "      <td>592da02be4b09c162d708589</td>\n",
       "      <td>265</td>\n",
       "      <td>1800</td>\n",
       "      <td>1</td>\n",
       "      <td>31</td>\n",
       "      <td>5</td>\n",
       "      <td>0</td>\n",
       "    </tr>\n",
       "    <tr>\n",
       "      <th>2</th>\n",
       "      <td>592da035e4b0a4ee112b8505</td>\n",
       "      <td>499</td>\n",
       "      <td>4902</td>\n",
       "      <td>0</td>\n",
       "      <td>31</td>\n",
       "      <td>7</td>\n",
       "      <td>0</td>\n",
       "    </tr>\n",
       "    <tr>\n",
       "      <th>3</th>\n",
       "      <td>592da070e4b09c162d70859a</td>\n",
       "      <td>417</td>\n",
       "      <td>0</td>\n",
       "      <td>1</td>\n",
       "      <td>31</td>\n",
       "      <td>5</td>\n",
       "      <td>0</td>\n",
       "    </tr>\n",
       "    <tr>\n",
       "      <th>4</th>\n",
       "      <td>592da096e4b0a4ee112b852a</td>\n",
       "      <td>290</td>\n",
       "      <td>1000</td>\n",
       "      <td>1</td>\n",
       "      <td>31</td>\n",
       "      <td>5</td>\n",
       "      <td>0</td>\n",
       "    </tr>\n",
       "  </tbody>\n",
       "</table>\n",
       "</div>"
      ],
      "text/plain": [
       "                     userid  totalAct  coin  inactivePeriod  memberPeriod  \\\n",
       "0  592da01fe4b0a4ee112b84fb       311  2012               1            31   \n",
       "1  592da02be4b09c162d708589       265  1800               1            31   \n",
       "2  592da035e4b0a4ee112b8505       499  4902               0            31   \n",
       "3  592da070e4b09c162d70859a       417     0               1            31   \n",
       "4  592da096e4b0a4ee112b852a       290  1000               1            31   \n",
       "\n",
       "   activeDay  y  \n",
       "0          5  1  \n",
       "1          5  0  \n",
       "2          7  0  \n",
       "3          5  0  \n",
       "4          5  0  "
      ]
     },
     "execution_count": 27,
     "metadata": {},
     "output_type": "execute_result"
    }
   ],
   "source": [
    "sns.heatmap(X.corr())\n",
    "plt.show()\n",
    "\n",
    "X.head(5)"
   ]
  },
  {
   "cell_type": "code",
   "execution_count": null,
   "metadata": {
    "collapsed": true
   },
   "outputs": [],
   "source": [
    "\n",
    "\n",
    "\n"
   ]
  },
  {
   "cell_type": "code",
   "execution_count": 28,
   "metadata": {},
   "outputs": [
    {
     "data": {
      "text/html": [
       "<div>\n",
       "<style>\n",
       "    .dataframe thead tr:only-child th {\n",
       "        text-align: right;\n",
       "    }\n",
       "\n",
       "    .dataframe thead th {\n",
       "        text-align: left;\n",
       "    }\n",
       "\n",
       "    .dataframe tbody tr th {\n",
       "        vertical-align: top;\n",
       "    }\n",
       "</style>\n",
       "<table border=\"1\" class=\"dataframe\">\n",
       "  <thead>\n",
       "    <tr style=\"text-align: right;\">\n",
       "      <th></th>\n",
       "      <th>userid</th>\n",
       "      <th>totalAct</th>\n",
       "      <th>coin</th>\n",
       "      <th>inactivePeriod</th>\n",
       "      <th>memberPeriod</th>\n",
       "      <th>activeDay</th>\n",
       "      <th>y</th>\n",
       "    </tr>\n",
       "  </thead>\n",
       "  <tbody>\n",
       "    <tr>\n",
       "      <th>0</th>\n",
       "      <td>592da01fe4b0a4ee112b84fb</td>\n",
       "      <td>311</td>\n",
       "      <td>2012</td>\n",
       "      <td>1</td>\n",
       "      <td>31</td>\n",
       "      <td>5</td>\n",
       "      <td>1</td>\n",
       "    </tr>\n",
       "    <tr>\n",
       "      <th>1</th>\n",
       "      <td>592da02be4b09c162d708589</td>\n",
       "      <td>265</td>\n",
       "      <td>1800</td>\n",
       "      <td>1</td>\n",
       "      <td>31</td>\n",
       "      <td>5</td>\n",
       "      <td>0</td>\n",
       "    </tr>\n",
       "    <tr>\n",
       "      <th>2</th>\n",
       "      <td>592da035e4b0a4ee112b8505</td>\n",
       "      <td>499</td>\n",
       "      <td>4902</td>\n",
       "      <td>0</td>\n",
       "      <td>31</td>\n",
       "      <td>7</td>\n",
       "      <td>0</td>\n",
       "    </tr>\n",
       "    <tr>\n",
       "      <th>3</th>\n",
       "      <td>592da070e4b09c162d70859a</td>\n",
       "      <td>417</td>\n",
       "      <td>0</td>\n",
       "      <td>1</td>\n",
       "      <td>31</td>\n",
       "      <td>5</td>\n",
       "      <td>0</td>\n",
       "    </tr>\n",
       "    <tr>\n",
       "      <th>4</th>\n",
       "      <td>592da096e4b0a4ee112b852a</td>\n",
       "      <td>290</td>\n",
       "      <td>1000</td>\n",
       "      <td>1</td>\n",
       "      <td>31</td>\n",
       "      <td>5</td>\n",
       "      <td>0</td>\n",
       "    </tr>\n",
       "  </tbody>\n",
       "</table>\n",
       "</div>"
      ],
      "text/plain": [
       "                     userid  totalAct  coin  inactivePeriod  memberPeriod  \\\n",
       "0  592da01fe4b0a4ee112b84fb       311  2012               1            31   \n",
       "1  592da02be4b09c162d708589       265  1800               1            31   \n",
       "2  592da035e4b0a4ee112b8505       499  4902               0            31   \n",
       "3  592da070e4b09c162d70859a       417     0               1            31   \n",
       "4  592da096e4b0a4ee112b852a       290  1000               1            31   \n",
       "\n",
       "   activeDay  y  \n",
       "0          5  1  \n",
       "1          5  0  \n",
       "2          7  0  \n",
       "3          5  0  \n",
       "4          5  0  "
      ]
     },
     "execution_count": 28,
     "metadata": {},
     "output_type": "execute_result"
    }
   ],
   "source": [
    "X.head(5)"
   ]
  },
  {
   "cell_type": "markdown",
   "metadata": {},
   "source": [
    "## 1. Finding current daily active user(DAU) from existing dataset"
   ]
  },
  {
   "cell_type": "code",
   "execution_count": 29,
   "metadata": {},
   "outputs": [
    {
     "name": "stdout",
     "output_type": "stream",
     "text": [
      "(1247, 7)\n",
      "(1247, 5)\n"
     ]
    },
    {
     "data": {
      "text/html": [
       "<div>\n",
       "<style>\n",
       "    .dataframe thead tr:only-child th {\n",
       "        text-align: right;\n",
       "    }\n",
       "\n",
       "    .dataframe thead th {\n",
       "        text-align: left;\n",
       "    }\n",
       "\n",
       "    .dataframe tbody tr th {\n",
       "        vertical-align: top;\n",
       "    }\n",
       "</style>\n",
       "<table border=\"1\" class=\"dataframe\">\n",
       "  <thead>\n",
       "    <tr style=\"text-align: right;\">\n",
       "      <th></th>\n",
       "      <th>totalAct</th>\n",
       "      <th>coin</th>\n",
       "      <th>inactivePeriod</th>\n",
       "      <th>memberPeriod</th>\n",
       "      <th>activeDay</th>\n",
       "    </tr>\n",
       "  </thead>\n",
       "  <tbody>\n",
       "    <tr>\n",
       "      <th>0</th>\n",
       "      <td>311</td>\n",
       "      <td>2012</td>\n",
       "      <td>1</td>\n",
       "      <td>31</td>\n",
       "      <td>5</td>\n",
       "    </tr>\n",
       "    <tr>\n",
       "      <th>1</th>\n",
       "      <td>265</td>\n",
       "      <td>1800</td>\n",
       "      <td>1</td>\n",
       "      <td>31</td>\n",
       "      <td>5</td>\n",
       "    </tr>\n",
       "    <tr>\n",
       "      <th>2</th>\n",
       "      <td>499</td>\n",
       "      <td>4902</td>\n",
       "      <td>0</td>\n",
       "      <td>31</td>\n",
       "      <td>7</td>\n",
       "    </tr>\n",
       "    <tr>\n",
       "      <th>3</th>\n",
       "      <td>417</td>\n",
       "      <td>0</td>\n",
       "      <td>1</td>\n",
       "      <td>31</td>\n",
       "      <td>5</td>\n",
       "    </tr>\n",
       "    <tr>\n",
       "      <th>4</th>\n",
       "      <td>290</td>\n",
       "      <td>1000</td>\n",
       "      <td>1</td>\n",
       "      <td>31</td>\n",
       "      <td>5</td>\n",
       "    </tr>\n",
       "  </tbody>\n",
       "</table>\n",
       "</div>"
      ],
      "text/plain": [
       "   totalAct  coin  inactivePeriod  memberPeriod  activeDay\n",
       "0       311  2012               1            31          5\n",
       "1       265  1800               1            31          5\n",
       "2       499  4902               0            31          7\n",
       "3       417     0               1            31          5\n",
       "4       290  1000               1            31          5"
      ]
     },
     "execution_count": 29,
     "metadata": {},
     "output_type": "execute_result"
    }
   ],
   "source": [
    "print(X.shape)\n",
    "y = X.iloc[:,-1]\n",
    "X = X.iloc[:,1:-1]\n",
    "print(X.shape)\n",
    "\n",
    "X.head(5)"
   ]
  },
  {
   "cell_type": "code",
   "execution_count": 30,
   "metadata": {
    "collapsed": true
   },
   "outputs": [],
   "source": [
    "#from sklearn.preprocessing import StandardScaler\n",
    "#scaler = StandardScaler()\n",
    "#X = scaler.fit_transform(X)\n",
    "\n",
    "#print(\"Feature space holds\",X.shape[0],\"observations and\",X.shape[1],\"features\")\n",
    "#print(\"Unique target labels:\", np.unique(y))"
   ]
  },
  {
   "cell_type": "code",
   "execution_count": 31,
   "metadata": {
    "collapsed": true
   },
   "outputs": [],
   "source": [
    "#pd.DataFrame(X)\n"
   ]
  },
  {
   "cell_type": "markdown",
   "metadata": {},
   "source": [
    "## 2. Comparing between number of activities and action of DAU"
   ]
  },
  {
   "cell_type": "code",
   "execution_count": 32,
   "metadata": {},
   "outputs": [
    {
     "data": {
      "text/plain": [
       "(935, 5)"
      ]
     },
     "execution_count": 32,
     "metadata": {},
     "output_type": "execute_result"
    }
   ],
   "source": [
    "X_train, X_test, y_train, y_test = train_test_split(X, y, random_state=0)\n",
    "X_train.shape"
   ]
  },
  {
   "cell_type": "markdown",
   "metadata": {},
   "source": [
    "## Logistic Regression\n"
   ]
  },
  {
   "cell_type": "code",
   "execution_count": 33,
   "metadata": {
    "scrolled": false
   },
   "outputs": [
    {
     "data": {
      "text/plain": [
       "LogisticRegression(C=1.0, class_weight=None, dual=False, fit_intercept=True,\n",
       "          intercept_scaling=1, max_iter=100, multi_class='ovr', n_jobs=1,\n",
       "          penalty='l2', random_state=0, solver='liblinear', tol=0.0001,\n",
       "          verbose=0, warm_start=False)"
      ]
     },
     "execution_count": 33,
     "metadata": {},
     "output_type": "execute_result"
    }
   ],
   "source": [
    "classifier = LogisticRegression(random_state=0)\n",
    "classifier.fit(X_train,y_train)"
   ]
  },
  {
   "cell_type": "code",
   "execution_count": 34,
   "metadata": {},
   "outputs": [
    {
     "data": {
      "image/png": "[encoded data removed]",
      "text/plain": [
       "<matplotlib.figure.Figure at 0x10629a20>"
      ]
     },
     "metadata": {},
     "output_type": "display_data"
    }
   ],
   "source": [
    "y_pred = classifier.predict(X_test)\n",
    "from sklearn.metrics import confusion_matrix\n",
    "confusion_matrix = confusion_matrix(y_test, y_pred)\n",
    "sns.set(font_scale=2)#for label size\n",
    "\n",
    "plt.figure(figsize = (10,7))\n",
    "confusion_plot = sns.heatmap(confusion_matrix, annot=True,fmt='g')\n",
    "\n",
    "confusion_plot.set(xlabel='True Class', ylabel='Predicted Class')\n",
    "\n",
    "plt.show()\n"
   ]
  },
  {
   "cell_type": "code",
   "execution_count": 35,
   "metadata": {},
   "outputs": [
    {
     "name": "stdout",
     "output_type": "stream",
     "text": [
      "Accuracy of logistic regression classifier on test set: 0.81\n"
     ]
    }
   ],
   "source": [
    "print('Accuracy of logistic regression classifier on test set: {:.2f}'.format(classifier.score(X_test, y_test)))"
   ]
  },
  {
   "cell_type": "code",
   "execution_count": 36,
   "metadata": {},
   "outputs": [
    {
     "name": "stdout",
     "output_type": "stream",
     "text": [
      "             precision    recall  f1-score   support\n",
      "\n",
      "          0       0.82      0.71      0.76       130\n",
      "          1       0.81      0.89      0.85       182\n",
      "\n",
      "avg / total       0.81      0.81      0.81       312\n",
      "\n"
     ]
    }
   ],
   "source": [
    "from sklearn.metrics import classification_report\n",
    "print(classification_report(y_test,y_pred))"
   ]
  },
  {
   "cell_type": "code",
   "execution_count": null,
   "metadata": {},
   "outputs": [],
   "source": []
  },
  {
   "cell_type": "code",
   "execution_count": null,
   "metadata": {},
   "outputs": [],
   "source": []
  },
  {
   "cell_type": "code",
   "execution_count": null,
   "metadata": {},
   "outputs": [],
   "source": [
    "\n"
   ]
  },
  {
   "cell_type": "code",
   "execution_count": 37,
   "metadata": {
    "scrolled": true
   },
   "outputs": [
    {
     "name": "stdout",
     "output_type": "stream",
     "text": [
      "The odd ratios for totalAct is 0.9960734794520887\n",
      "The odd ratios for coin is 0.999793657905279\n",
      "The odd ratios for inactivePeriod is 1.2377312458460585\n",
      "The odd ratios for memberPeriod is 0.9857717459374266\n",
      "The odd ratios for activeDay is 0.7624453170880672\n"
     ]
    }
   ],
   "source": [
    "for idx, col_name in enumerate(X_train.columns):\n",
    "    print(\"The odd ratios for {} is {}\".format(col_name, np.exp(classifier.coef_[0][idx])))"
   ]
  },
  {
   "cell_type": "code",
   "execution_count": 38,
   "metadata": {},
   "outputs": [
    {
     "data": {
      "text/html": [
       "<div>\n",
       "<style>\n",
       "    .dataframe thead tr:only-child th {\n",
       "        text-align: right;\n",
       "    }\n",
       "\n",
       "    .dataframe thead th {\n",
       "        text-align: left;\n",
       "    }\n",
       "\n",
       "    .dataframe tbody tr th {\n",
       "        vertical-align: top;\n",
       "    }\n",
       "</style>\n",
       "<table border=\"1\" class=\"dataframe\">\n",
       "  <thead>\n",
       "    <tr style=\"text-align: right;\">\n",
       "      <th></th>\n",
       "      <th>0</th>\n",
       "      <th>1</th>\n",
       "    </tr>\n",
       "  </thead>\n",
       "  <tbody>\n",
       "    <tr>\n",
       "      <th>0</th>\n",
       "      <td>0.138612</td>\n",
       "      <td>0.861388</td>\n",
       "    </tr>\n",
       "    <tr>\n",
       "      <th>1</th>\n",
       "      <td>0.317871</td>\n",
       "      <td>0.682129</td>\n",
       "    </tr>\n",
       "    <tr>\n",
       "      <th>2</th>\n",
       "      <td>0.837345</td>\n",
       "      <td>0.162655</td>\n",
       "    </tr>\n",
       "    <tr>\n",
       "      <th>3</th>\n",
       "      <td>0.342424</td>\n",
       "      <td>0.657576</td>\n",
       "    </tr>\n",
       "    <tr>\n",
       "      <th>4</th>\n",
       "      <td>0.975658</td>\n",
       "      <td>0.024342</td>\n",
       "    </tr>\n",
       "  </tbody>\n",
       "</table>\n",
       "</div>"
      ],
      "text/plain": [
       "          0         1\n",
       "0  0.138612  0.861388\n",
       "1  0.317871  0.682129\n",
       "2  0.837345  0.162655\n",
       "3  0.342424  0.657576\n",
       "4  0.975658  0.024342"
      ]
     },
     "execution_count": 38,
     "metadata": {},
     "output_type": "execute_result"
    }
   ],
   "source": [
    "pred_prob = classifier.predict_proba(X_test)\n",
    "pred_prob = pd.DataFrame(classifier.predict_proba(X_test), columns=classifier.classes_)\n",
    "#pred_churn = pred_prob[:,1]\n",
    "#is_churn = y == 1\n",
    "pred_prob.head(5)"
   ]
  },
  {
   "cell_type": "code",
   "execution_count": 46,
   "metadata": {
    "scrolled": true
   },
   "outputs": [
    {
     "name": "stdout",
     "output_type": "stream",
     "text": [
      "Optimization terminated successfully.\n",
      "         Current function value: 0.465433\n",
      "         Iterations 8\n"
     ]
    }
   ],
   "source": [
    "import statsmodels.api as sm\n",
    "from statsmodels.sandbox.regression.predstd import wls_prediction_std\n",
    "logit = sm.Logit(y_train, X_train)\n",
    "result = logit.fit()\n",
    "\n"
   ]
  },
  {
   "cell_type": "code",
   "execution_count": 47,
   "metadata": {},
   "outputs": [
    {
     "data": {
      "text/html": [
       "<table class=\"simpletable\">\n",
       "<caption>Logit Regression Results</caption>\n",
       "<tr>\n",
       "  <th>Dep. Variable:</th>         <td>y</td>        <th>  No. Observations:  </th>  <td>   935</td>  \n",
       "</tr>\n",
       "<tr>\n",
       "  <th>Model:</th>               <td>Logit</td>      <th>  Df Residuals:      </th>  <td>   930</td>  \n",
       "</tr>\n",
       "<tr>\n",
       "  <th>Method:</th>               <td>MLE</td>       <th>  Df Model:          </th>  <td>     4</td>  \n",
       "</tr>\n",
       "<tr>\n",
       "  <th>Date:</th>          <td>Sun, 29 Oct 2017</td> <th>  Pseudo R-squ.:     </th>  <td>0.3208</td>  \n",
       "</tr>\n",
       "<tr>\n",
       "  <th>Time:</th>              <td>19:09:16</td>     <th>  Log-Likelihood:    </th> <td> -435.18</td> \n",
       "</tr>\n",
       "<tr>\n",
       "  <th>converged:</th>           <td>True</td>       <th>  LL-Null:           </th> <td> -640.75</td> \n",
       "</tr>\n",
       "<tr>\n",
       "  <th> </th>                      <td> </td>        <th>  LLR p-value:       </th> <td>1.086e-87</td>\n",
       "</tr>\n",
       "</table>\n",
       "<table class=\"simpletable\">\n",
       "<tr>\n",
       "         <td></td>           <th>coef</th>     <th>std err</th>      <th>z</th>      <th>P>|z|</th>  <th>[0.025</th>    <th>0.975]</th>  \n",
       "</tr>\n",
       "<tr>\n",
       "  <th>totalAct</th>       <td>   -0.0051</td> <td>    0.002</td> <td>   -3.381</td> <td> 0.001</td> <td>   -0.008</td> <td>   -0.002</td>\n",
       "</tr>\n",
       "<tr>\n",
       "  <th>coin</th>           <td>   -0.0002</td> <td>  8.4e-05</td> <td>   -2.424</td> <td> 0.015</td> <td>   -0.000</td> <td> -3.9e-05</td>\n",
       "</tr>\n",
       "<tr>\n",
       "  <th>inactivePeriod</th> <td>    0.3468</td> <td>    0.027</td> <td>   12.642</td> <td> 0.000</td> <td>    0.293</td> <td>    0.401</td>\n",
       "</tr>\n",
       "<tr>\n",
       "  <th>memberPeriod</th>   <td>   -0.0022</td> <td>    0.007</td> <td>   -0.327</td> <td> 0.743</td> <td>   -0.016</td> <td>    0.011</td>\n",
       "</tr>\n",
       "<tr>\n",
       "  <th>activeDay</th>      <td>   -0.0189</td> <td>    0.071</td> <td>   -0.266</td> <td> 0.790</td> <td>   -0.158</td> <td>    0.120</td>\n",
       "</tr>\n",
       "</table>"
      ],
      "text/plain": [
       "<class 'statsmodels.iolib.summary.Summary'>\n",
       "\"\"\"\n",
       "                           Logit Regression Results                           \n",
       "==============================================================================\n",
       "Dep. Variable:                      y   No. Observations:                  935\n",
       "Model:                          Logit   Df Residuals:                      930\n",
       "Method:                           MLE   Df Model:                            4\n",
       "Date:                Sun, 29 Oct 2017   Pseudo R-squ.:                  0.3208\n",
       "Time:                        19:09:16   Log-Likelihood:                -435.18\n",
       "converged:                       True   LL-Null:                       -640.75\n",
       "                                        LLR p-value:                 1.086e-87\n",
       "==================================================================================\n",
       "                     coef    std err          z      P>|z|      [0.025      0.975]\n",
       "----------------------------------------------------------------------------------\n",
       "totalAct          -0.0051      0.002     -3.381      0.001      -0.008      -0.002\n",
       "coin              -0.0002    8.4e-05     -2.424      0.015      -0.000    -3.9e-05\n",
       "inactivePeriod     0.3468      0.027     12.642      0.000       0.293       0.401\n",
       "memberPeriod      -0.0022      0.007     -0.327      0.743      -0.016       0.011\n",
       "activeDay         -0.0189      0.071     -0.266      0.790      -0.158       0.120\n",
       "==================================================================================\n",
       "\"\"\""
      ]
     },
     "execution_count": 47,
     "metadata": {},
     "output_type": "execute_result"
    }
   ],
   "source": [
    "result.summary()\n"
   ]
  },
  {
   "cell_type": "code",
   "execution_count": 50,
   "metadata": {},
   "outputs": [
    {
     "name": "stdout",
     "output_type": "stream",
     "text": [
      "The odd ratios for totalAct is -0.003934249568457314\n",
      "The odd ratios for coin is -0.00020636338617995432\n",
      "The odd ratios for inactivePeriod is 0.21328006333370558\n",
      "The odd ratios for memberPeriod is -0.014330446171071388\n",
      "The odd ratios for activeDay is -0.2712244883665732\n"
     ]
    }
   ],
   "source": [
    "for idx, col_name in enumerate(X_train.columns):\n",
    "    print(\"The odd ratios for {} is {}\".format(col_name, classifier.coef_[0][idx]))"
   ]
  },
  {
   "cell_type": "code",
   "execution_count": 48,
   "metadata": {},
   "outputs": [
    {
     "data": {
      "text/html": [
       "<div>\n",
       "<style>\n",
       "    .dataframe thead tr:only-child th {\n",
       "        text-align: right;\n",
       "    }\n",
       "\n",
       "    .dataframe thead th {\n",
       "        text-align: left;\n",
       "    }\n",
       "\n",
       "    .dataframe tbody tr th {\n",
       "        vertical-align: top;\n",
       "    }\n",
       "</style>\n",
       "<table border=\"1\" class=\"dataframe\">\n",
       "  <thead>\n",
       "    <tr style=\"text-align: right;\">\n",
       "      <th></th>\n",
       "      <th>0</th>\n",
       "      <th>1</th>\n",
       "    </tr>\n",
       "  </thead>\n",
       "  <tbody>\n",
       "    <tr>\n",
       "      <th>totalAct</th>\n",
       "      <td>-0.008057</td>\n",
       "      <td>-0.002143</td>\n",
       "    </tr>\n",
       "    <tr>\n",
       "      <th>coin</th>\n",
       "      <td>-0.000368</td>\n",
       "      <td>-0.000039</td>\n",
       "    </tr>\n",
       "    <tr>\n",
       "      <th>inactivePeriod</th>\n",
       "      <td>0.293043</td>\n",
       "      <td>0.400577</td>\n",
       "    </tr>\n",
       "    <tr>\n",
       "      <th>memberPeriod</th>\n",
       "      <td>-0.015639</td>\n",
       "      <td>0.011161</td>\n",
       "    </tr>\n",
       "    <tr>\n",
       "      <th>activeDay</th>\n",
       "      <td>-0.158311</td>\n",
       "      <td>0.120466</td>\n",
       "    </tr>\n",
       "  </tbody>\n",
       "</table>\n",
       "</div>"
      ],
      "text/plain": [
       "                       0         1\n",
       "totalAct       -0.008057 -0.002143\n",
       "coin           -0.000368 -0.000039\n",
       "inactivePeriod  0.293043  0.400577\n",
       "memberPeriod   -0.015639  0.011161\n",
       "activeDay      -0.158311  0.120466"
      ]
     },
     "execution_count": 48,
     "metadata": {},
     "output_type": "execute_result"
    }
   ],
   "source": [
    "result.conf_int()"
   ]
  },
  {
   "cell_type": "code",
   "execution_count": 49,
   "metadata": {},
   "outputs": [
    {
     "data": {
      "text/plain": [
       "totalAct          0.994913\n",
       "coin              0.999796\n",
       "inactivePeriod    1.414548\n",
       "memberPeriod      0.997764\n",
       "activeDay         0.981255\n",
       "dtype: float64"
      ]
     },
     "execution_count": 49,
     "metadata": {},
     "output_type": "execute_result"
    }
   ],
   "source": [
    "np.exp(result.params)"
   ]
  },
  {
   "cell_type": "code",
   "execution_count": null,
   "metadata": {
    "collapsed": true
   },
   "outputs": [],
   "source": []
  }
 ],
 "metadata": {
  "kernelspec": {
   "display_name": "Python 3",
   "language": "python",
   "name": "python3"
  },
  "language_info": {
   "codemirror_mode": {
    "name": "ipython",
    "version": 3
   },
   "file_extension": ".py",
   "mimetype": "text/x-python",
   "name": "python",
   "nbconvert_exporter": "python",
   "pygments_lexer": "ipython3",
   "version": "3.6.1"
  }
 },
 "nbformat": 4,
 "nbformat_minor": 2
}
